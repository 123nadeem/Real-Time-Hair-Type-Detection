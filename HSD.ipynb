{
 "cells": [
  {
   "cell_type": "code",
   "execution_count": 2,
   "metadata": {},
   "outputs": [
    {
     "name": "stdout",
     "output_type": "stream",
     "text": [
      "Processed class 'curly' with 411 train images and 103 val images.\n",
      "Processed class 'dreadlocks' with 354 train images and 89 val images.\n",
      "Processed class 'kinky' with 173 train images and 44 val images.\n",
      "Processed class 'Straight' with 390 train images and 98 val images.\n",
      "Processed class 'Wavy' with 264 train images and 66 val images.\n",
      "Dataset restructured successfully.\n"
     ]
    }
   ],
   "source": [
    "import os\n",
    "import shutil\n",
    "from sklearn.model_selection import train_test_split\n",
    "\n",
    "# Path to your dataset (update this to the correct path)\n",
    "data_dir = \"D:\\Hair Style Detection\\data\"  # Update this to your folder location\n",
    "classes = ['curly', 'dreadlocks', 'kinky', 'Straight', 'Wavy']  # Hair type classes\n",
    "\n",
    "# Define directories for train and validation splits\n",
    "train_dir = os.path.join(data_dir, 'train')\n",
    "val_dir = os.path.join(data_dir, 'val')\n",
    "\n",
    "# Create train and val directories if they don't exist\n",
    "os.makedirs(train_dir, exist_ok=True)\n",
    "os.makedirs(val_dir, exist_ok=True)\n",
    "\n",
    "# Split ratio for train and validation sets\n",
    "split_ratio = 0.2  # 80% train, 20% validation\n",
    "\n",
    "# Process each class\n",
    "for hair_class in classes:\n",
    "    class_dir = os.path.join(data_dir, hair_class)\n",
    "    \n",
    "    # Check if class folder exists\n",
    "    if not os.path.exists(class_dir):\n",
    "        print(f\"Class directory {class_dir} not found.\")\n",
    "        continue\n",
    "\n",
    "    # Get all image file names in the class directory\n",
    "    files = os.listdir(class_dir)\n",
    "    files = [f for f in files if os.path.isfile(os.path.join(class_dir, f))]\n",
    "\n",
    "    # Split into train and validation sets\n",
    "    train_files, val_files = train_test_split(files, test_size=split_ratio, random_state=42)\n",
    "\n",
    "    # Create corresponding train and val subfolders for the current class\n",
    "    class_train_dir = os.path.join(train_dir, hair_class)\n",
    "    class_val_dir = os.path.join(val_dir, hair_class)\n",
    "    os.makedirs(class_train_dir, exist_ok=True)\n",
    "    os.makedirs(class_val_dir, exist_ok=True)\n",
    "\n",
    "    # Move training files\n",
    "    for file in train_files:\n",
    "        src = os.path.join(class_dir, file)\n",
    "        dst = os.path.join(class_train_dir, file)\n",
    "        shutil.move(src, dst)\n",
    "\n",
    "    # Move validation files\n",
    "    for file in val_files:\n",
    "        src = os.path.join(class_dir, file)\n",
    "        dst = os.path.join(class_val_dir, file)\n",
    "        shutil.move(src, dst)\n",
    "\n",
    "    print(f\"Processed class '{hair_class}' with {len(train_files)} train images and {len(val_files)} val images.\")\n",
    "\n",
    "# Finally, remove the old data folders\n",
    "for hair_class in classes:\n",
    "    class_dir = os.path.join(data_dir, hair_class)\n",
    "    if os.path.exists(class_dir):\n",
    "        shutil.rmtree(class_dir)  # Delete the original folder\n",
    "\n",
    "print(\"Dataset restructured successfully.\")\n"
   ]
  },
  {
   "cell_type": "code",
   "execution_count": 29,
   "metadata": {},
   "outputs": [
    {
     "name": "stdout",
     "output_type": "stream",
     "text": [
      "Created label for 01-10-2019-latest-haircut-for-girls_Equal_Length_4PNG.jpg as 01-10-2019-latest-haircut-for-girls_Equal_Length_4PNG.txt\n",
      "Created label for 01-10-2019-latest-haircut-for-girls_short_pixie_straight_undercut_3PNG.jpg as 01-10-2019-latest-haircut-for-girls_short_pixie_straight_undercut_3PNG.txt\n",
      "Created label for 01b8ef4743e2a5d1b3e888ef18acdfd0.jpg as 01b8ef4743e2a5d1b3e888ef18acdfd0.txt\n",
      "Created label for 03e7316208c63582103294f3e1ef8b7b.jpg as 03e7316208c63582103294f3e1ef8b7b.txt\n",
      "Created label for 051c0f399232bd22fb8ff55a6dde5441.jpg as 051c0f399232bd22fb8ff55a6dde5441.txt\n",
      "Created label for 060c671d89cba47235d3a8a620bed080.jpg as 060c671d89cba47235d3a8a620bed080.txt\n",
      "Created label for 06faceb8ea130fb976a3339f52ba611d--hair-products-for-men-gentlemens-guide.jpg as 06faceb8ea130fb976a3339f52ba611d--hair-products-for-men-gentlemens-guide.txt\n",
      "Created label for 0a1c060ba84f25dd6f353656818fb646.jpg as 0a1c060ba84f25dd6f353656818fb646.txt\n",
      "Created label for 0f9d3172f6ec3206d6f76318830159b2.jpg as 0f9d3172f6ec3206d6f76318830159b2.txt\n",
      "Created label for 1-short-spiky-mens-haircut.jpg as 1-short-spiky-mens-haircut.txt\n",
      "Created label for 10100463715_c9aae924f1_z.jpg as 10100463715_c9aae924f1_z.txt\n",
      "Created label for 11737395.jpg as 11737395.txt\n",
      "Created label for 11e655773616e81becaf72fba5ccf891.jpg as 11e655773616e81becaf72fba5ccf891.txt\n",
      "Created label for 14d7ebf23ba65a04f18e77f09a91605b.jpg as 14d7ebf23ba65a04f18e77f09a91605b.txt\n",
      "Created label for 1a-hair-type-1-1024x683.jpg as 1a-hair-type-1-1024x683.txt\n",
      "Created label for 1e0ad8c865ed80030c208eceb3c8ca88.jpg as 1e0ad8c865ed80030c208eceb3c8ca88.txt\n",
      "Created label for 1e80e0381be14a7a6cbf5ab118a6fbd5.jpg as 1e80e0381be14a7a6cbf5ab118a6fbd5.txt\n",
      "Created label for 1eed8832b01f40dc494b9f61a9e89781.jpg as 1eed8832b01f40dc494b9f61a9e89781.txt\n",
      "Created label for 1_Emily-Atack.jpg as 1_Emily-Atack.txt\n",
      "Created label for 20140521_220622.jpg as 20140521_220622.txt\n",
      "Created label for 220-10-best-indian-hairstyles_132172781.jpg as 220-10-best-indian-hairstyles_132172781.txt\n",
      "Created label for 230e154c4fc0f9e68cb079464d30a22a.jpg as 230e154c4fc0f9e68cb079464d30a22a.txt\n",
      "Created label for 25-indian-hairstyles-for-round-face25.jpg as 25-indian-hairstyles-for-round-face25.txt\n",
      "Created label for 25a082d2a5534fd9f3ecfb5c40c52681.jpg as 25a082d2a5534fd9f3ecfb5c40c52681.txt\n",
      "Created label for 26252422.jpg as 26252422.txt\n",
      "Created label for 26ccec4b6c1d56f467ccae248e7a6230.jpg as 26ccec4b6c1d56f467ccae248e7a6230.txt\n",
      "Created label for 286b03b2ad1c09bf52cbcc99a4dabba4.jpg as 286b03b2ad1c09bf52cbcc99a4dabba4.txt\n",
      "Created label for 28f4e5287576682ad0599f74a012386f.jpg as 28f4e5287576682ad0599f74a012386f.txt\n",
      "Created label for 29-wavy-hairstyle-for-medium-hair-B9rxNUdpYR_.jpg as 29-wavy-hairstyle-for-medium-hair-B9rxNUdpYR_.txt\n",
      "Created label for 3-long-brown-hair-with-layers-and-thin-highlights.jpg as 3-long-brown-hair-with-layers-and-thin-highlights.txt\n",
      "Created label for 3-pin-straight-dark-brown-hair-with-brown-balayage.jpg as 3-pin-straight-dark-brown-hair-with-brown-balayage.txt\n",
      "Created label for 3117e662a53af8bd569889e178d1847c.jpg as 3117e662a53af8bd569889e178d1847c.txt\n",
      "Created label for 33-BdYXoHmlnp-.jpg as 33-BdYXoHmlnp-.txt\n",
      "Created label for 37d9f48e01c2a0b45f65d8151f6ac7b8.jpg as 37d9f48e01c2a0b45f65d8151f6ac7b8.txt\n",
      "Created label for 3d0ed46487fd72bb3dbda1161897ac49.jpg as 3d0ed46487fd72bb3dbda1161897ac49.txt\n",
      "Created label for 3d0f8c0c4fc4427514ac380deaa0dda4.jpg as 3d0f8c0c4fc4427514ac380deaa0dda4.txt\n",
      "Created label for 3fa63044-644e-4ac6-bdec-e790e2ef0b58-62729079.jpg as 3fa63044-644e-4ac6-bdec-e790e2ef0b58-62729079.txt\n",
      "Created label for 4-medium-length-straight-hair-with-layers-CKjceXbMRWr.jpg as 4-medium-length-straight-hair-with-layers-CKjceXbMRWr.txt\n",
      "Created label for 401ab262fa119f950c58eb31a963f611.jpg as 401ab262fa119f950c58eb31a963f611.txt\n",
      "Created label for 4028ec49d02c39cccf9d34333cfd94c2.jpg as 4028ec49d02c39cccf9d34333cfd94c2.txt\n",
      "Created label for 4138LzxX2BBL.jpg as 4138LzxX2BBL.txt\n",
      "Created label for 4715ca7831704d8a7959906853b459cd.jpg as 4715ca7831704d8a7959906853b459cd.txt\n",
      "Created label for 47c54a4540ed01fadcae72e7bf0ed32a3.jpg as 47c54a4540ed01fadcae72e7bf0ed32a3.txt\n",
      "Created label for 5-gorgeous-hairstyles-for-women-with-straight-hairmobilehome.jpg as 5-gorgeous-hairstyles-for-women-with-straight-hairmobilehome.txt\n",
      "Created label for 500_F_222843071_F40Ht0E501Rx4aV1UpOJ0pAuGIsPtZvz.jpg as 500_F_222843071_F40Ht0E501Rx4aV1UpOJ0pAuGIsPtZvz.txt\n",
      "Created label for 50decc858900e22cce6c60ab25755d04.jpg as 50decc858900e22cce6c60ab25755d04.txt\n",
      "Created label for 54344b1b405b28a0844d6fcfcea9eeed.jpg as 54344b1b405b28a0844d6fcfcea9eeed.txt\n",
      "Created label for 593daf5ca495fdf99aaaaaafae911460.jpg as 593daf5ca495fdf99aaaaaafae911460.txt\n",
      "Created label for 5ea8e7466e5a3737d7cde46cd51b21a4.jpg as 5ea8e7466e5a3737d7cde46cd51b21a4.txt\n",
      "Created label for 5fad8c7a7825bf522ecd213a771d5e80.jpg as 5fad8c7a7825bf522ecd213a771d5e80.txt\n",
      "Created label for 61tFhwh0moL._SL1000_.jpg as 61tFhwh0moL._SL1000_.txt\n",
      "Created label for 62c12eac56fad8d998eb623bb147bd5c2.jpg as 62c12eac56fad8d998eb623bb147bd5c2.txt\n",
      "Created label for 62e7c5236b3e1179d557b48e1d5568fe.jpg as 62e7c5236b3e1179d557b48e1d5568fe.txt\n",
      "Created label for 6aa63dea37ce81e79108cad2f8bd6839.jpg as 6aa63dea37ce81e79108cad2f8bd6839.txt\n",
      "Created label for 6cf027a377ff2ad459cfbe2f270be6be.jpg as 6cf027a377ff2ad459cfbe2f270be6be.txt\n",
      "Created label for 6eae25306899675f940442122e995bd1.jpg as 6eae25306899675f940442122e995bd1.txt\n",
      "Created label for 6f5ed83c2e102e3203efc14bc8e5d4fc.jpg as 6f5ed83c2e102e3203efc14bc8e5d4fc.txt\n",
      "Created label for 71GMuaYnEbL._SL1500_.jpg as 71GMuaYnEbL._SL1500_.txt\n",
      "Created label for 76673a702f9c31154760721c2de1a25c2.jpg as 76673a702f9c31154760721c2de1a25c2.txt\n",
      "Created label for 7f1cf0b60488dcab2353d74e581fd584.jpg as 7f1cf0b60488dcab2353d74e581fd584.txt\n",
      "Created label for 7f6f137e9e49d8b16c3ce0134378cb08.jpg as 7f6f137e9e49d8b16c3ce0134378cb08.txt\n",
      "Created label for 8-centreparted-layered-cut-for-long-hair.jpg as 8-centreparted-layered-cut-for-long-hair.txt\n",
      "Created label for 857cb1e928c2bbd293eac0676acdeaed.jpg as 857cb1e928c2bbd293eac0676acdeaed.txt\n",
      "Created label for 8659e141284384b990a75adab198ac69.jpg as 8659e141284384b990a75adab198ac69.txt\n",
      "Created label for 87779a4a8e6adf2f0e7f17908a962a28.jpg as 87779a4a8e6adf2f0e7f17908a962a28.txt\n",
      "Created label for 87e8c2f27ea48711333584af57957aff.jpg as 87e8c2f27ea48711333584af57957aff.txt\n",
      "Created label for 8881976_f496.jpg as 8881976_f496.txt\n",
      "Created label for 893320b23722ce6b5f58fb3a1009cad5--medium-hairstyles-for-men-mens-hairstyles-.jpg as 893320b23722ce6b5f58fb3a1009cad5--medium-hairstyles-for-men-mens-hairstyles-.txt\n",
      "Created label for 8e6b5ab7ec837d2d5d71851944d36995.jpg as 8e6b5ab7ec837d2d5d71851944d36995.txt\n",
      "Created label for 8efd100000000000.jpg as 8efd100000000000.txt\n",
      "Created label for 8faef4cf4b4c89aa3680517c9fcaa46a3.jpg as 8faef4cf4b4c89aa3680517c9fcaa46a3.txt\n",
      "Created label for 9058344104f626dbc85e40ba246ec81f2.jpg as 9058344104f626dbc85e40ba246ec81f2.txt\n",
      "Created label for 955c06d83b4585f8839428a425dceaec.jpg as 955c06d83b4585f8839428a425dceaec.txt\n",
      "Created label for 9721a391b15ab051c5094ba0f66200f6.jpg as 9721a391b15ab051c5094ba0f66200f6.txt\n",
      "Created label for 9ac1b800eec2e3f34c06d23cba2d7bf7.jpg as 9ac1b800eec2e3f34c06d23cba2d7bf7.txt\n",
      "Created label for 9b0f5a9e064fa172985ab84c51c64947.jpg as 9b0f5a9e064fa172985ab84c51c64947.txt\n",
      "Created label for 9e124569d58a4c6451f50d65db5b1198.png as 9e124569d58a4c6451f50d65db5b1198.txt\n",
      "Created label for a624c2e8fe517da0b73e61f830e2060e.jpg as a624c2e8fe517da0b73e61f830e2060e.txt\n",
      "Created label for a92c5d5e24c3136c464307625c1b9911.jpg as a92c5d5e24c3136c464307625c1b9911.txt\n",
      "Created label for ab756aa23a93252d66058ba27c7bc47c--top-hairstyles-for-men-teen-boy-hairstyles.jpg as ab756aa23a93252d66058ba27c7bc47c--top-hairstyles-for-men-teen-boy-hairstyles.txt\n",
      "Created label for abc552626f196092509f79e26195dbce.jpg as abc552626f196092509f79e26195dbce.txt\n",
      "Created label for ade516d6b9989128ac44f9c0165ce1d7.jpg as ade516d6b9989128ac44f9c0165ce1d7.txt\n",
      "Created label for amritarao.jpg as amritarao.txt\n",
      "Created label for andrewdoeshair-easy-hairstyles-for-men-air-dry-wavy-good-haircut-e1543343172885.jpg as andrewdoeshair-easy-hairstyles-for-men-air-dry-wavy-good-haircut-e1543343172885.txt\n",
      "Created label for b2c516b421673a3164964ee982308143.jpg as b2c516b421673a3164964ee982308143.txt\n",
      "Created label for b3bcc79f7028ac72b238551b5f6ad891.jpg as b3bcc79f7028ac72b238551b5f6ad891.txt\n",
      "Created label for b411472d36ab80809266d3de186fb4e6.jpg as b411472d36ab80809266d3de186fb4e6.txt\n",
      "Created label for b812b735af5e87e90a004f24cd17dbda--jet-black-color-black-colors.jpg as b812b735af5e87e90a004f24cd17dbda--jet-black-color-black-colors.txt\n",
      "Created label for bc342be10d7b9e33d9ef62d8e8b0c5992.jpg as bc342be10d7b9e33d9ef62d8e8b0c5992.txt\n",
      "Created label for beautiful-keratin-treated-hair_23-2149332491.jpg as beautiful-keratin-treated-hair_23-2149332491.txt\n",
      "Created label for best-Asian-hairstyles-1.jpg as best-Asian-hairstyles-1.txt\n",
      "Created label for best-haircuts-for-straight-hair-asymmetrical-bob.jpg as best-haircuts-for-straight-hair-asymmetrical-bob.txt\n",
      "Created label for Best-Hairstyles-For-Men-with-Thick-Hair.jpg as Best-Hairstyles-For-Men-with-Thick-Hair.txt\n",
      "Created label for Best-Long-Haircuts-For-Boys-2015-3.jpg as Best-Long-Haircuts-For-Boys-2015-3.txt\n",
      "Created label for Black-Girls-Hairstyles-Uhair-Virgin-Indian-Hair-Straight-4.jpg as Black-Girls-Hairstyles-Uhair-Virgin-Indian-Hair-Straight-4.txt\n",
      "Created label for bold-straight-and-sleek-middle-part-bob-style.jpg as bold-straight-and-sleek-middle-part-bob-style.txt\n",
      "Created label for Brazilian_Hair_Straight_grande_3d744608-b45d-4cea-8fb2-71d5ce510152_large.png as Brazilian_Hair_Straight_grande_3d744608-b45d-4cea-8fb2-71d5ce510152_large.txt\n",
      "Created label for BvGX8t6CcAMWlmu.jpg as BvGX8t6CcAMWlmu.txt\n",
      "Created label for ByWN7j3IEAEygx-.jpg as ByWN7j3IEAEygx-.txt\n",
      "Created label for c2d3751a55f8e39a781508593b83d319.jpg as c2d3751a55f8e39a781508593b83d319.txt\n",
      "Created label for c792376506ae6474fd901832f2e07e03.jpg as c792376506ae6474fd901832f2e07e03.txt\n",
      "Created label for c907dc6c79ebebd17c0bcaf366ec6c6d.jpg as c907dc6c79ebebd17c0bcaf366ec6c6d.txt\n",
      "Created label for ca933b48caed138f8a9b5a88b1fb0800.png as ca933b48caed138f8a9b5a88b1fb0800.txt\n",
      "Created label for caf03e2b33942738274b9e3d44632040.jpg as caf03e2b33942738274b9e3d44632040.txt\n",
      "Created label for Caramel-Medium-Length-Hair.jpg as Caramel-Medium-Length-Hair.txt\n",
      "Created label for ccacf533ec92e2df9351f525413ba31f.jpg as ccacf533ec92e2df9351f525413ba31f.txt\n",
      "Created label for cee929ebc0cb9c93ddd831331a247624.jpg as cee929ebc0cb9c93ddd831331a247624.txt\n",
      "Created label for center-parted-long-straight-hair-with-front-layers.jpg as center-parted-long-straight-hair-with-front-layers.txt\n",
      "Created label for clean-high-fade-for-men-with-thick-hair-500x625.jpg as clean-high-fade-for-men-with-thick-hair-500x625.txt\n",
      "Created label for close-up-young-stylish-women-making-selfie-using-her-own-smartphone-dressed-casual-yellow-t-shirt-has-straight-hair-wants-new-photo-social-networks_176532-8744.jpg as close-up-young-stylish-women-making-selfie-using-her-own-smartphone-dressed-casual-yellow-t-shirt-has-straight-hair-wants-new-photo-social-networks_176532-8744.txt\n",
      "Created label for closeup-shoot-of-young-attractive-female-holding-a-camera-looking-straight-and-taking-a-selfie-smiling-happily-with-isolated-background-T1RP9T.jpg as closeup-shoot-of-young-attractive-female-holding-a-camera-looking-straight-and-taking-a-selfie-smiling-happily-with-isolated-background-T1RP9T.txt\n",
      "Created label for content_thin-hair_1.jpg as content_thin-hair_1.txt\n",
      "Created label for crew-cut-for-men.jpg as crew-cut-for-men.txt\n",
      "Created label for Crowded-Thick-Volume-with-Undercut-Taper-Fade-1.jpg as Crowded-Thick-Volume-with-Undercut-Taper-Fade-1.txt\n",
      "Created label for cute-front-haircut-for-women2.jpg as cute-front-haircut-for-women2.txt\n",
      "Created label for d0c00473ab13e10368014fae26b2f0e5.jpg as d0c00473ab13e10368014fae26b2f0e5.txt\n",
      "Created label for d0fe3fe8a55705df5f814f1b2ce86cbd.jpg as d0fe3fe8a55705df5f814f1b2ce86cbd.txt\n",
      "Created label for d3b65507b3caa9b556f8b05375caf691.jpg as d3b65507b3caa9b556f8b05375caf691.txt\n",
      "Created label for d3ee68c3d4e74368d26bcc5f99e55834.jpg as d3ee68c3d4e74368d26bcc5f99e55834.txt\n",
      "Created label for dd94337cff25c0b5eb3af3fae95a9061.jpg as dd94337cff25c0b5eb3af3fae95a9061.txt\n",
      "Created label for depositphotos_42859553-stock-photo-beautiful-indian-woman-with-long.jpg as depositphotos_42859553-stock-photo-beautiful-indian-woman-with-long.txt\n",
      "Created label for DJOS6WwVYAA0oLv.jpg as DJOS6WwVYAA0oLv.txt\n",
      "Created label for download.jpg as download.txt\n",
      "Created label for Dyed-Undercut-Pompadour.jpg as Dyed-Undercut-Pompadour.txt\n",
      "Created label for e0ccb8a330ff370eeb1b5c6deab71ba2--teen-boy-hairstyles-boys-haircuts-.jpg as e0ccb8a330ff370eeb1b5c6deab71ba2--teen-boy-hairstyles-boys-haircuts-.txt\n",
      "Created label for e374f7844815aaeb27d48dac10c5e9ff.jpg as e374f7844815aaeb27d48dac10c5e9ff.txt\n",
      "Created label for e712770dda9f82f74bc25988dd74949e.jpg as e712770dda9f82f74bc25988dd74949e.txt\n",
      "Created label for e83e83a0c2ea262eb27fc652ec56c738.jpg as e83e83a0c2ea262eb27fc652ec56c738.txt\n",
      "Created label for e934a154bd3016b721496148a7804da7.jpg as e934a154bd3016b721496148a7804da7.txt\n",
      "Created label for e94f9db781e9ddb50c42263f54ca65ff.jpg as e94f9db781e9ddb50c42263f54ca65ff.txt\n",
      "Created label for Edgy-Pixie-Haircuts-Straight-Short-Hair.jpg as Edgy-Pixie-Haircuts-Straight-Short-Hair.txt\n",
      "Created label for efaaf8a497aeaec9e5c9fa5460f8b896.jpg as efaaf8a497aeaec9e5c9fa5460f8b896.txt\n",
      "Created label for Emiru-sans-Long-naturally-straight-hair.jpg as Emiru-sans-Long-naturally-straight-hair.txt\n",
      "Created label for exact-how-to-get-kim-kardashian-super-sleek-straight-hair-ftr-1.jpg as exact-how-to-get-kim-kardashian-super-sleek-straight-hair-ftr-1.txt\n",
      "Created label for extra-long-layers-for-long-straight-hair.jpg as extra-long-layers-for-long-straight-hair.txt\n",
      "Created label for f09c67e2e40433fabfebbd24d8971fbf.jpg as f09c67e2e40433fabfebbd24d8971fbf.txt\n",
      "Created label for f09e68f4579a21c72ecc77d6669709b4.jpg as f09e68f4579a21c72ecc77d6669709b4.txt\n",
      "Created label for f3c15b1a7763222c630229dbd7f98e63.jpg as f3c15b1a7763222c630229dbd7f98e63.txt\n",
      "Created label for f605c6a36fda9e515e84ff26a0d10280.jpg as f605c6a36fda9e515e84ff26a0d10280.txt\n",
      "Created label for f7df93e92a095aad0c333d85697f61a0.jpg as f7df93e92a095aad0c333d85697f61a0.txt\n",
      "Created label for f849403185593c8dee012223e98fcb43.jpg as f849403185593c8dee012223e98fcb43.txt\n",
      "Created label for fa4bc81ca5d38c8f9bea8ef882c2c170.jpg as fa4bc81ca5d38c8f9bea8ef882c2c170.txt\n",
      "Created label for fa5a7847d57c8f39d8bd92b64cb21eec.jpg as fa5a7847d57c8f39d8bd92b64cb21eec.txt\n",
      "Created label for fb862a92efddf37f1d227899efc37545.jpg as fb862a92efddf37f1d227899efc37545.txt\n",
      "Created label for graphicstock-young-handsome-asiatic-long-brown-straight-hair-woman-taking-selfie-outdoor-in-the-city-with-a-smartphone-smiling-vanity-technology-social-network-concept_B6fyU2Ok-_SB_PM.jpg as graphicstock-young-handsome-asiatic-long-brown-straight-hair-woman-taking-selfie-outdoor-in-the-city-with-a-smartphone-smiling-vanity-technology-social-network-concept_B6fyU2Ok-_SB_PM.txt\n",
      "Created label for graphicstock-young-handsome-caucasian-reddish-straight-hair-woman-sitting-on-a-small-wall-holding-a-tablet-taking-a-selfie-doing-grimace-technology-social-network-youthful-concept_BTFpe2_1W_SB_PM.jpg as graphicstock-young-handsome-caucasian-reddish-straight-hair-woman-sitting-on-a-small-wall-holding-a-tablet-taking-a-selfie-doing-grimace-technology-social-network-youthful-concept_BTFpe2_1W_SB_PM.txt\n",
      "Created label for guidetostraight.jpg as guidetostraight.txt\n",
      "Created label for hair-styles-for-men-14.jpg as hair-styles-for-men-14.txt\n",
      "Created label for haircuts-for-fine-straight-hair.jpg as haircuts-for-fine-straight-hair.txt\n",
      "Created label for Haircuts-For-Men-with-Thick-Hair-Slicked-Back.jpg as Haircuts-For-Men-with-Thick-Hair-Slicked-Back.txt\n",
      "Created label for hairstyle-straight-hair.jpg as hairstyle-straight-hair.txt\n",
      "Created label for hairstyles-for-men-with-thick-hair-1.jpg as hairstyles-for-men-with-thick-hair-1.txt\n",
      "Created label for hairstyles_for_thick_hair_33.jpg as hairstyles_for_thick_hair_33.txt\n",
      "Created label for Hairstyles_Men_Thick_Hair_15.jpg as Hairstyles_Men_Thick_Hair_15.txt\n",
      "Created label for HerStyler-8-Best-Haircuts-for-Thick-Straight-Hair-.jpg as HerStyler-8-Best-Haircuts-for-Thick-Straight-Hair-.txt\n",
      "Created label for HIgh-Volume-Brush-up-Hairstyle.jpg as HIgh-Volume-Brush-up-Hairstyle.txt\n",
      "Created label for Highlighted-Straight-Hair-with-Long-Layers.jpg as Highlighted-Straight-Hair-with-Long-Layers.txt\n",
      "Created label for how-to-get-beach-waves-hair-with-a-straightener.jpg as how-to-get-beach-waves-hair-with-a-straightener.txt\n",
      "Created label for hp1.jpg as hp1.txt\n",
      "Created label for hp8302-04.jpg as hp8302-04.txt\n",
      "Created label for HTB1t8EzNVXXXXXLaFXXq6xXFXXX3.jpg as HTB1t8EzNVXXXXXLaFXXq6xXFXXX3.txt\n",
      "Created label for images (1).jpg as images (1).txt\n",
      "Created label for images (10).jpg as images (10).txt\n",
      "Created label for images (11).jpg as images (11).txt\n",
      "Created label for images (12).jpg as images (12).txt\n",
      "Created label for images (2).jpg as images (2).txt\n",
      "Created label for images (3).jpg as images (3).txt\n",
      "Created label for images (4).jpg as images (4).txt\n",
      "Created label for images (5).jpg as images (5).txt\n",
      "Created label for images (6).jpg as images (6).txt\n",
      "Created label for images (8).jpg as images (8).txt\n",
      "Created label for images (9).jpg as images (9).txt\n",
      "Created label for images(1).jpg as images(1).txt\n",
      "Created label for images.jpg as images.txt\n",
      "Created label for images10.jpg as images10.txt\n",
      "Created label for images100.jpg as images100.txt\n",
      "Created label for images101.jpg as images101.txt\n",
      "Created label for images104.jpg as images104.txt\n",
      "Created label for images107 (2).jpg as images107 (2).txt\n",
      "Created label for images107.jpg as images107.txt\n",
      "Created label for images108.jpg as images108.txt\n",
      "Created label for images109.jpg as images109.txt\n",
      "Created label for images110.jpg as images110.txt\n",
      "Created label for images111.jpg as images111.txt\n",
      "Created label for images118.jpg as images118.txt\n",
      "Created label for images121.jpg as images121.txt\n",
      "Created label for images122.jpg as images122.txt\n",
      "Created label for images124.jpg as images124.txt\n",
      "Created label for images125.jpg as images125.txt\n",
      "Created label for images13.jpg as images13.txt\n",
      "Created label for images134.jpg as images134.txt\n",
      "Created label for images135.jpg as images135.txt\n",
      "Created label for images136.jpg as images136.txt\n",
      "Created label for images145.jpg as images145.txt\n",
      "Created label for images15.jpg as images15.txt\n",
      "Created label for images150.jpg as images150.txt\n",
      "Created label for images151.jpg as images151.txt\n",
      "Created label for images153.jpg as images153.txt\n",
      "Created label for images159.jpg as images159.txt\n",
      "Created label for images16.jpg as images16.txt\n",
      "Created label for images17 (2).jpg as images17 (2).txt\n",
      "Created label for images17.jpg as images17.txt\n",
      "Created label for images18(1).jpg as images18(1).txt\n",
      "Created label for images197.jpg as images197.txt\n",
      "Created label for images2(1).jpg as images2(1).txt\n",
      "Created label for images2.jpg as images2.txt\n",
      "Created label for images20(1).jpg as images20(1).txt\n",
      "Created label for images20.jpg as images20.txt\n",
      "Created label for images200.jpg as images200.txt\n",
      "Created label for images201.jpg as images201.txt\n",
      "Created label for images202.jpg as images202.txt\n",
      "Created label for images204.jpg as images204.txt\n",
      "Created label for images206.jpg as images206.txt\n",
      "Created label for images207.jpg as images207.txt\n",
      "Created label for images208.jpg as images208.txt\n",
      "Created label for images210.jpg as images210.txt\n",
      "Created label for images212.jpg as images212.txt\n",
      "Created label for images213.jpg as images213.txt\n",
      "Created label for images214.jpg as images214.txt\n",
      "Created label for images215.jpg as images215.txt\n",
      "Created label for images216.jpg as images216.txt\n",
      "Created label for images219.jpg as images219.txt\n",
      "Created label for images22.jpg as images22.txt\n",
      "Created label for images221.jpg as images221.txt\n",
      "Created label for images226.jpg as images226.txt\n",
      "Created label for images230.jpg as images230.txt\n",
      "Created label for images231.jpg as images231.txt\n",
      "Created label for images24.jpg as images24.txt\n",
      "Created label for images243.jpg as images243.txt\n",
      "Created label for images254.jpg as images254.txt\n",
      "Created label for images257.jpg as images257.txt\n",
      "Created label for images260.jpg as images260.txt\n",
      "Created label for images261.jpg as images261.txt\n",
      "Created label for images263.jpg as images263.txt\n",
      "Created label for images266.jpg as images266.txt\n",
      "Created label for images272.jpg as images272.txt\n",
      "Created label for images280.jpg as images280.txt\n",
      "Created label for images283.jpg as images283.txt\n",
      "Created label for images284.jpg as images284.txt\n",
      "Created label for images288.jpg as images288.txt\n",
      "Created label for images289.jpg as images289.txt\n",
      "Created label for images293.jpg as images293.txt\n",
      "Created label for images294.jpg as images294.txt\n",
      "Created label for images298.jpg as images298.txt\n",
      "Created label for images299.jpg as images299.txt\n",
      "Created label for images300.jpg as images300.txt\n",
      "Created label for images302.jpg as images302.txt\n",
      "Created label for images303.jpg as images303.txt\n",
      "Created label for images304.jpg as images304.txt\n",
      "Created label for images305.jpg as images305.txt\n",
      "Created label for images309.jpg as images309.txt\n",
      "Created label for images31.jpg as images31.txt\n",
      "Created label for images312.jpg as images312.txt\n",
      "Created label for images316.jpg as images316.txt\n",
      "Created label for images319.jpg as images319.txt\n",
      "Created label for images32.jpg as images32.txt\n",
      "Created label for images33(1).jpg as images33(1).txt\n",
      "Created label for images34(1).jpg as images34(1).txt\n",
      "Created label for images35.jpg as images35.txt\n",
      "Created label for images37(1).jpg as images37(1).txt\n",
      "Created label for images38(1).jpg as images38(1).txt\n",
      "Created label for images38.jpg as images38.txt\n",
      "Created label for images4(1).jpg as images4(1).txt\n",
      "Created label for images40.jpg as images40.txt\n",
      "Created label for images42.jpg as images42.txt\n",
      "Created label for images43(1).jpg as images43(1).txt\n",
      "Created label for images45(1).jpg as images45(1).txt\n",
      "Created label for images46(1).jpg as images46(1).txt\n",
      "Created label for images47 (2).jpg as images47 (2).txt\n",
      "Created label for images47.jpg as images47.txt\n",
      "Created label for images49.jpg as images49.txt\n",
      "Created label for images5(1).jpg as images5(1).txt\n",
      "Created label for images50(1).jpg as images50(1).txt\n",
      "Created label for images51(1).jpg as images51(1).txt\n",
      "Created label for images52.jpg as images52.txt\n",
      "Created label for images55.jpg as images55.txt\n",
      "Created label for images56.jpg as images56.txt\n",
      "Created label for images61 (2).jpg as images61 (2).txt\n",
      "Created label for images61.jpg as images61.txt\n",
      "Created label for images62.jpg as images62.txt\n",
      "Created label for images65.jpg as images65.txt\n",
      "Created label for images67 (2).jpg as images67 (2).txt\n",
      "Created label for images71.jpg as images71.txt\n",
      "Created label for images73.jpg as images73.txt\n",
      "Created label for images74.jpg as images74.txt\n",
      "Created label for images79.jpg as images79.txt\n",
      "Created label for images8.jpg as images8.txt\n",
      "Created label for images81.jpg as images81.txt\n",
      "Created label for images83 (2).jpg as images83 (2).txt\n",
      "Created label for images83.jpg as images83.txt\n",
      "Created label for images84 (2).jpg as images84 (2).txt\n",
      "Created label for images84.jpg as images84.txt\n",
      "Created label for images85.jpg as images85.txt\n",
      "Created label for images86.jpg as images86.txt\n",
      "Created label for images88.jpg as images88.txt\n",
      "Created label for images9.jpg as images9.txt\n",
      "Created label for images91.jpg as images91.txt\n",
      "Created label for images92.jpg as images92.txt\n",
      "Created label for images93.jpg as images93.txt\n",
      "Created label for images95.jpg as images95.txt\n",
      "Created label for images98.jpg as images98.txt\n",
      "Created label for Indian-hairstyles-for-girls1.jpg as Indian-hairstyles-for-girls1.txt\n",
      "Created label for indian-hairstyles-for-short-hair-15.jpg as indian-hairstyles-for-short-hair-15.txt\n",
      "Created label for indian-hairstyles-for-short-hair-24.jpg as indian-hairstyles-for-short-hair-24.txt\n",
      "Created label for indian-hairstyles-for-short-hair-flosaira-straight-up-gorgeous.jpg as indian-hairstyles-for-short-hair-flosaira-straight-up-gorgeous.txt\n",
      "Created label for kims-long-hair-look-ftr.jpg as kims-long-hair-look-ftr.txt\n",
      "Created label for layered-haircut-with-balayage-long-straight.jpg as layered-haircut-with-balayage-long-straight.txt\n",
      "Created label for long-hair.jpg as long-hair.txt\n",
      "Created label for long-hairstyles-for-indian-women-18.jpg as long-hairstyles-for-indian-women-18.txt\n",
      "Created label for Long-Hairstyles-For-Men-With-Thick-Hair-Shoulder-Length-Messy-Hair.jpg as Long-Hairstyles-For-Men-With-Thick-Hair-Shoulder-Length-Messy-Hair.txt\n",
      "Created label for Long-Hairstyles-for-Men-with-Thick-Hair.jpg as Long-Hairstyles-for-Men-with-Thick-Hair.txt\n",
      "Created label for Long-straight-hair-feature-image.jpg as Long-straight-hair-feature-image.txt\n",
      "Created label for long-straight-hairstyles.jpg as long-straight-hairstyles.txt\n",
      "Created label for long-straight-indian-full-lace-human-hair-wigs-20inch-5734.jpg as long-straight-indian-full-lace-human-hair-wigs-20inch-5734.txt\n",
      "Created label for Long-Textured-Crop-Low-Fade-For-Thick-Hair-Men.jpg as Long-Textured-Crop-Low-Fade-For-Thick-Hair-Men.txt\n",
      "Created label for men-thick-hair-clean-high-fade-500x500.jpg as men-thick-hair-clean-high-fade-500x500.txt\n",
      "Created label for Messy-Brushed-Up-Hair-with-Light-Beard.jpg as Messy-Brushed-Up-Hair-with-Light-Beard.txt\n",
      "Created label for Messy-Hair.jpg as Messy-Hair.txt\n",
      "Created label for PHOTO20Priyanka20Chopras20gorgeous20straight20hair20day20makes20her20our20Woman20Crush20Wednesday.jpg as PHOTO20Priyanka20Chopras20gorgeous20straight20hair20day20makes20her20our20Woman20Crush20Wednesday.txt\n",
      "Created label for pretty-positive-joyful-60-aged-woman-with-straight-gray-hair-posing-her-smartphone-selfie-photo-sitting-red-armchair-front-green-wall-studio_161094-3464.jpg as pretty-positive-joyful-60-aged-woman-with-straight-gray-hair-posing-her-smartphone-selfie-photo-sitting-red-armchair-front-green-wall-studio_161094-3464.txt\n",
      "Created label for s1.jpg as s1.txt\n",
      "Created label for s10.jpg as s10.txt\n",
      "Created label for s12.jpg as s12.txt\n",
      "Created label for s13.jpg as s13.txt\n",
      "Created label for s14.jpg as s14.txt\n",
      "Created label for s3.jpg as s3.txt\n",
      "Created label for s4.jpg as s4.txt\n",
      "Created label for s5.jpg as s5.txt\n",
      "Created label for s6.jpg as s6.txt\n",
      "Created label for s8.jpg as s8.txt\n",
      "Created label for s9.jpg as s9.txt\n",
      "Created label for selena-gomez-gtl-ftr-1.jpg as selena-gomez-gtl-ftr-1.txt\n",
      "Created label for Short-Haircuts-for-Mens-Thick-Hair.jpg as Short-Haircuts-for-Mens-Thick-Hair.txt\n",
      "Created label for Short-Hairstyles-for-Men-with-Thick-Hair.jpg as Short-Hairstyles-for-Men-with-Thick-Hair.txt\n",
      "Created label for short-hairstyles-men-thick-hair1.jpg as short-hairstyles-men-thick-hair1.txt\n",
      "Created label for short-messy-hairstyle-for-guys.jpg as short-messy-hairstyle-for-guys.txt\n",
      "Created label for slick-1100x660.jpg as slick-1100x660.txt\n",
      "Created label for stock-photo-blue-eyes-simple-blonde-chic-short-hair-long-eyelashes-fashion-selfie-makeup-selfie-side-part-cd5fae6f-b14f-40eb-a64b-d07bda01eb35.jpg as stock-photo-blue-eyes-simple-blonde-chic-short-hair-long-eyelashes-fashion-selfie-makeup-selfie-side-part-cd5fae6f-b14f-40eb-a64b-d07bda01eb35.txt\n",
      "Created label for stock-photo-girls-girl-glasses-hairstyle-serious-straight-hair-self-portrait-millennial-serious-face-f9a18f52-3232-4a80-9bcc-c9441cf19f99.jpg as stock-photo-girls-girl-glasses-hairstyle-serious-straight-hair-self-portrait-millennial-serious-face-f9a18f52-3232-4a80-9bcc-c9441cf19f99.txt\n",
      "Created label for stock-photo-selfie-beautiful-girl-taken-pictures-of-her-self-instagram-half-length-of-young-handsome-1250709973.jpg as stock-photo-selfie-beautiful-girl-taken-pictures-of-her-self-instagram-half-length-of-young-handsome-1250709973.txt\n",
      "Created label for Straight-hair-resized-782x439.jpg as Straight-hair-resized-782x439.txt\n",
      "Created label for straight-hair-styling-ideas-blonde-ombre-683x1024.jpg as straight-hair-styling-ideas-blonde-ombre-683x1024.txt\n",
      "Created label for straight-hairstyles-2.jpg as straight-hairstyles-2.txt\n",
      "Created label for straight-hairstyles-for-teenage-girls-1.jpg as straight-hairstyles-for-teenage-girls-1.txt\n",
      "Created label for Straight2520hair2520is2520trending2520on2520celebrity2520Instagrams2520this2520week2520.jpg as Straight2520hair2520is2520trending2520on2520celebrity2520Instagrams2520this2520week2520.txt\n",
      "Created label for Straighthair-letmetakeaselfie_3ffd2c604ecc87127219d5ca8f0bb0c7.jpg as Straighthair-letmetakeaselfie_3ffd2c604ecc87127219d5ca8f0bb0c7.txt\n",
      "Created label for StraightHair.png as StraightHair.txt\n",
      "Created label for studio-shot-of-an-attractive-young-woman-posing-royalty-free-image-1674502257.jpg as studio-shot-of-an-attractive-young-woman-posing-royalty-free-image-1674502257.txt\n",
      "Created label for TAW4_600x.png as TAW4_600x.txt\n",
      "Created label for Textured-Messy-Top-High-Bald-Fade.jpg as Textured-Messy-Top-High-Bald-Fade.txt\n",
      "Created label for Thick_Haircuts_1_1024x.jpg as Thick_Haircuts_1_1024x.txt\n",
      "Created label for Top-35-Best-MenE28099s-Haircuts-with-Bangs-Handsome-MenE28099s-Fringe-Hairstyles-Thick-Straight-Fringe-with-High-Taper.jpg as Top-35-Best-MenE28099s-Haircuts-with-Bangs-Handsome-MenE28099s-Fringe-Hairstyles-Thick-Straight-Fringe-with-High-Taper.txt\n",
      "Created label for tp-straight-hair-men-1.jpg as tp-straight-hair-men-1.txt\n",
      "Created label for Untitled-design-6.jpg as Untitled-design-6.txt\n",
      "Created label for vrbMFKQ.jpg as vrbMFKQ.txt\n",
      "Created label for wym7l4xaemsj6xy6rvj58_1080x1350.jpg as wym7l4xaemsj6xy6rvj58_1080x1350.txt\n",
      "Created label for zendaya2-1.jpg as zendaya2-1.txt\n",
      "Created label for zzzzzz-0.jpg as zzzzzz-0.txt\n",
      "Created label for 007-deepika-padukone-vogue-int-24jul19-getty.jpg as 007-deepika-padukone-vogue-int-24jul19-getty.txt\n",
      "Created label for 021-vintage-hairstyles-75.jpg as 021-vintage-hairstyles-75.txt\n",
      "Created label for 0837c1aa60868485923f00a96e7578853.jpg as 0837c1aa60868485923f00a96e7578853.txt\n",
      "Created label for 1-thick-wavy-hair-Cdqtn6XuomO.jpg as 1-thick-wavy-hair-Cdqtn6XuomO.txt\n",
      "Created label for 11.-Curled-Edges.jpg as 11.-Curled-Edges.txt\n",
      "Created label for 13_Feminine_Short_Haircuts_For_Wavy_Hair_Trending_Right_Now_1024x1024.jpg as 13_Feminine_Short_Haircuts_For_Wavy_Hair_Trending_Right_Now_1024x1024.txt\n",
      "Created label for 15b93f5299cff2a5f79966a378715bab.jpg as 15b93f5299cff2a5f79966a378715bab.txt\n",
      "Created label for 16853c007d8200b90e7acdd5ec659cd6.jpg as 16853c007d8200b90e7acdd5ec659cd6.txt\n",
      "Created label for 176c6deefd0bc4576594cd43dff13cd32.jpg as 176c6deefd0bc4576594cd43dff13cd32.txt\n",
      "Created label for 2-Short-High-Volume-Hairstyle.jpg as 2-Short-High-Volume-Hairstyle.txt\n",
      "Created label for 2.Aishwarya-Rai-BachchanE28099s-Splendid-Soft-Wind-Blown-Tresses.jpg as 2.Aishwarya-Rai-BachchanE28099s-Splendid-Soft-Wind-Blown-Tresses.txt\n",
      "Created label for 20d3e8f598259c0ec7b0678b67f8afd1.jpg as 20d3e8f598259c0ec7b0678b67f8afd1.txt\n",
      "Created label for 23-angel-waves-for-long-hair-CIa6kuejcI9.jpg as 23-angel-waves-for-long-hair-CIa6kuejcI9.txt\n",
      "Created label for 2e59669ba7b07d544b21756269dd9616.jpg as 2e59669ba7b07d544b21756269dd9616.txt\n",
      "Created label for 32b04f1f18e97aafbccd44b5a4a2b1f6--indian-wedding-hairstyles-bride-hairstyles.jpg as 32b04f1f18e97aafbccd44b5a4a2b1f6--indian-wedding-hairstyles-bride-hairstyles.txt\n",
      "Created label for 34be707dfe1fb0e431b21764757a4e88.jpg as 34be707dfe1fb0e431b21764757a4e88.txt\n",
      "Created label for 3534f6def9c33dfb98865cdd8210fd653.jpg as 3534f6def9c33dfb98865cdd8210fd653.txt\n",
      "Created label for 35e713f2e69b7fd1db36ece641115c00.jpg as 35e713f2e69b7fd1db36ece641115c00.txt\n",
      "Created label for 3bb45480de6e589502c4ebcda6503154--saree-hairstyles-indian-hairstyles.jpg as 3bb45480de6e589502c4ebcda6503154--saree-hairstyles-indian-hairstyles.txt\n",
      "Created label for 3d89c90e0d3fadd67a38ee9c51e9b3e2.jpg as 3d89c90e0d3fadd67a38ee9c51e9b3e2.txt\n",
      "Created label for 40017483c7a93d157d92bb8821560d575.jpg as 40017483c7a93d157d92bb8821560d575.txt\n",
      "Created label for 414dd0ba800c1aa7f9f30a49088335bd.jpg as 414dd0ba800c1aa7f9f30a49088335bd.txt\n",
      "Created label for 43df94ac28023f17c366d081ab405fdf.jpg as 43df94ac28023f17c366d081ab405fdf.txt\n",
      "Created label for 45bc138b27b33287b11fdef351b861b3.jpg as 45bc138b27b33287b11fdef351b861b3.txt\n",
      "Created label for 47184a38dc23b3aff78b4b0e13b38b34.jpg as 47184a38dc23b3aff78b4b0e13b38b34.txt\n",
      "Created label for 4aa0fb9075e24628a7b55aa2519fd4ec.jpg as 4aa0fb9075e24628a7b55aa2519fd4ec.txt\n",
      "Created label for 5-inverted-lob-with-highlights-CKPyRW0j13V.jpg as 5-inverted-lob-with-highlights-CKPyRW0j13V.txt\n",
      "Created label for 5d04d3b170616560279cbca878f02ce8.jpg as 5d04d3b170616560279cbca878f02ce8.txt\n",
      "Created label for 6-long-wavy-hair-CMj8dSzhj6H.jpg as 6-long-wavy-hair-CMj8dSzhj6H.txt\n",
      "Created label for 61L5iwQNzgL._SL1000_.jpg as 61L5iwQNzgL._SL1000_.txt\n",
      "Created label for 72750a06-730d-4d17-9ae1-810c9a4dfb93.jpg as 72750a06-730d-4d17-9ae1-810c9a4dfb93.txt\n",
      "Created label for 7335fc5bfc7a7d0e41ea26ef5626cbb7.png as 7335fc5bfc7a7d0e41ea26ef5626cbb7.txt\n",
      "Created label for 78b1b28e92683bd97008b15a68c436a22.jpg as 78b1b28e92683bd97008b15a68c436a22.txt\n",
      "Created label for 78b34f5ac457486ab65ec89b6703f9f3.jpg as 78b34f5ac457486ab65ec89b6703f9f3.txt\n",
      "Created label for 86906d774c8f0bec534b2d42b26783ed.jpg as 86906d774c8f0bec534b2d42b26783ed.txt\n",
      "Created label for 90dbd4f4b874cb675564cf7443a7a5e6.jpg as 90dbd4f4b874cb675564cf7443a7a5e6.txt\n",
      "Created label for 9cc8d5985f0a8c2bc333059dbe3b5bcb.jpg as 9cc8d5985f0a8c2bc333059dbe3b5bcb.txt\n",
      "Created label for a916a680f354549e73193d312868309e.jpg as a916a680f354549e73193d312868309e.txt\n",
      "Created label for ab7714d037b0b9af729c4b6425197e213.jpg as ab7714d037b0b9af729c4b6425197e213.txt\n",
      "Created label for aff604e1fa917e70564aa3e9b7bb78ce.jpg as aff604e1fa917e70564aa3e9b7bb78ce.txt\n",
      "Created label for Afro-Curly-Faded-Short-Hairstyles-for-Men.jpg as Afro-Curly-Faded-Short-Hairstyles-for-Men.txt\n",
      "Created label for b0154795f490ad785f1f2450449645435.jpg as b0154795f490ad785f1f2450449645435.txt\n",
      "Created label for b8d02c0bfe89c7b9945226dc73949fcf.jpg as b8d02c0bfe89c7b9945226dc73949fcf.txt\n",
      "Created label for bca63af1e3e2f0bb8c97882ba035c087.jpg as bca63af1e3e2f0bb8c97882ba035c087.txt\n",
      "Created label for Beard-Styles-For-Men-With-Thick-Stubble.jpg as Beard-Styles-For-Men-With-Thick-Stubble.txt\n",
      "Created label for Before2BMousse2BBack.jpg as Before2BMousse2BBack.txt\n",
      "Created label for best-hairstyle-for-face-shape-hairstyle-to-look-young.jpg as best-hairstyle-for-face-shape-hairstyle-to-look-young.txt\n",
      "Created label for Best-Hairstyles-For-Wavy-Hair-Short-Medium-Long-mtominay_borisnco.jpg as Best-Hairstyles-For-Wavy-Hair-Short-Medium-Long-mtominay_borisnco.txt\n",
      "Created label for best_conditioners_for_curly_wavy_hair.jpg as best_conditioners_for_curly_wavy_hair.txt\n",
      "Created label for blonde-girl-long-volume-shiny-wavy-hair-beautiful-woman-model-curly-hairstyle-124424801.jpg as blonde-girl-long-volume-shiny-wavy-hair-beautiful-woman-model-curly-hairstyle-124424801.txt\n",
      "Created label for braidbarbers-heavy-crop-haircuts-for-thick-hair-men.jpg as braidbarbers-heavy-crop-haircuts-for-thick-hair-men.txt\n",
      "Created label for c182bc7dc77af882036a96c373c5050d.jpg as c182bc7dc77af882036a96c373c5050d.txt\n",
      "Created label for c4ff02f35a4e508b102e81ba0f447965.png as c4ff02f35a4e508b102e81ba0f447965.txt\n",
      "Created label for cbb045680aab22530c723e4a8fb7a3ec.jpg as cbb045680aab22530c723e4a8fb7a3ec.txt\n",
      "Created label for cf02a85dc28657ea30b2927a998475f9.jpg as cf02a85dc28657ea30b2927a998475f9.txt\n",
      "Created label for Classy-Hairstyle-for-Thick-Wavy-Hair.jpg as Classy-Hairstyle-for-Thick-Wavy-Hair.txt\n",
      "Created label for CurlyouHair-longblondecurls.jpg as CurlyouHair-longblondecurls.txt\n",
      "Created label for d4a51b3b3a379c1592ba8cfac188c44e.jpg as d4a51b3b3a379c1592ba8cfac188c44e.txt\n",
      "Created label for d8d7377ab1795d4267bea4fe25f2d702--arun-vijay-shooting-at.jpg as d8d7377ab1795d4267bea4fe25f2d702--arun-vijay-shooting-at.txt\n",
      "Created label for download.jpg as download.txt\n",
      "Created label for e9132abdd354a579b322331d773591a2.jpg as e9132abdd354a579b322331d773591a2.txt\n",
      "Created label for ec577fcefe40fb8884a3c847a27f2055.jpg as ec577fcefe40fb8884a3c847a27f2055.txt\n",
      "Created label for efa5e3a18fac98d082c86957a3186ebd--medium-hairstyles-for-men-men-hairstyles.jpg as efa5e3a18fac98d082c86957a3186ebd--medium-hairstyles-for-men-men-hairstyles.txt\n",
      "Created label for Evidence-Based_db1b4e63-9d14-40c6-baad-32c51be1073b_1024x400.jpg as Evidence-Based_db1b4e63-9d14-40c6-baad-32c51be1073b_1024x400.txt\n",
      "Created label for f06b762b065ce09cdcb3cb1f2593fadb.jpg as f06b762b065ce09cdcb3cb1f2593fadb.txt\n",
      "Created label for f2549a38e7183c5d78c4f95270945050.jpg as f2549a38e7183c5d78c4f95270945050.txt\n",
      "Created label for fac17035109a6832a78dda9b121c4705.jpg as fac17035109a6832a78dda9b121c4705.txt\n",
      "Created label for Faux-Hawk-Hairstyle.jpg as Faux-Hawk-Hairstyle.txt\n",
      "Created label for fb9209eb0be0a96835c0492db864594a-1.jpg as fb9209eb0be0a96835c0492db864594a-1.txt\n",
      "Created label for fe34cd4b1e2ef8df4bdd7c6bce94cb045.jpg as fe34cd4b1e2ef8df4bdd7c6bce94cb045.txt\n",
      "Created label for haircut_ideas_for_long_wavy_hair_13135_orig.jpg as haircut_ideas_for_long_wavy_hair_13135_orig.txt\n",
      "Created label for Hairstyles-Make-You-Look-Younger.jpg as Hairstyles-Make-You-Look-Younger.txt\n",
      "Created label for hbz-wavy-hair-rihanna.jpg as hbz-wavy-hair-rihanna.txt\n",
      "Created label for how-to-grow-hair-faster-men-1200x900-1549892564_1200x900.jpg as how-to-grow-hair-faster-men-1200x900-1549892564_1200x900.txt\n",
      "Created label for image10.jpg as image10.txt\n",
      "Created label for image12.jpg as image12.txt\n",
      "Created label for image13.jpg as image13.txt\n",
      "Created label for image14.jpg as image14.txt\n",
      "Created label for image15.jpg as image15.txt\n",
      "Created label for image16.jpg as image16.txt\n",
      "Created label for image18.jpg as image18.txt\n",
      "Created label for image2.jpg as image2.txt\n",
      "Created label for image25.jpg as image25.txt\n",
      "Created label for image27.jpg as image27.txt\n",
      "Created label for image28.jpg as image28.txt\n",
      "Created label for image280.jpg as image280.txt\n",
      "Created label for image29.jpg as image29.txt\n",
      "Created label for image3.jpg as image3.txt\n",
      "Created label for image35.jpg as image35.txt\n",
      "Created label for image36.jpg as image36.txt\n",
      "Created label for image37.jpg as image37.txt\n",
      "Created label for image40.jpg as image40.txt\n",
      "Created label for image44.jpg as image44.txt\n",
      "Created label for image45.jpg as image45.txt\n",
      "Created label for image49.jpg as image49.txt\n",
      "Created label for image50.jpg as image50.txt\n",
      "Created label for image52.jpg as image52.txt\n",
      "Created label for image55.jpg as image55.txt\n",
      "Created label for image56.jpg as image56.txt\n",
      "Created label for image6.jpg as image6.txt\n",
      "Created label for image61.jpg as image61.txt\n",
      "Created label for image62.jpg as image62.txt\n",
      "Created label for image63.jpg as image63.txt\n",
      "Created label for image64.jpg as image64.txt\n",
      "Created label for image69.jpg as image69.txt\n",
      "Created label for image72.jpg as image72.txt\n",
      "Created label for image73.jpg as image73.txt\n",
      "Created label for image74.jpg as image74.txt\n",
      "Created label for image77.jpg as image77.txt\n",
      "Created label for image8.jpg as image8.txt\n",
      "Created label for image80.jpg as image80.txt\n",
      "Created label for image81.jpg as image81.txt\n",
      "Created label for image82.jpg as image82.txt\n",
      "Created label for image85.jpg as image85.txt\n",
      "Created label for image86.jpg as image86.txt\n",
      "Created label for image88.jpg as image88.txt\n",
      "Created label for image9.jpg as image9.txt\n",
      "Created label for image90.jpg as image90.txt\n",
      "Created label for image93.jpg as image93.txt\n",
      "Created label for image95.jpg as image95.txt\n",
      "Created label for image96.jpg as image96.txt\n",
      "Created label for images (1).jpg as images (1).txt\n",
      "Created label for images (2).jpg as images (2).txt\n",
      "Created label for images (3).jpg as images (3).txt\n",
      "Created label for images(2).jpg as images(2).txt\n",
      "Created label for images.jpg as images.txt\n",
      "Created label for images0(1).jpg as images0(1).txt\n",
      "Created label for images0.jpg as images0.txt\n",
      "Created label for images10(1).jpg as images10(1).txt\n",
      "Created label for images11(1).jpg as images11(1).txt\n",
      "Created label for images12(1).jpg as images12(1).txt\n",
      "Created label for images12(2).jpg as images12(2).txt\n",
      "Created label for images12.jpg as images12.txt\n",
      "Created label for images13(1).jpg as images13(1).txt\n",
      "Created label for images13(2).jpg as images13(2).txt\n",
      "Created label for images13(3).jpg as images13(3).txt\n",
      "Created label for images13.jpg as images13.txt\n",
      "Created label for images14 (2).jpg as images14 (2).txt\n",
      "Created label for images14.jpg as images14.txt\n",
      "Created label for images146.jpg as images146.txt\n",
      "Created label for images147.jpg as images147.txt\n",
      "Created label for images150.jpg as images150.txt\n",
      "Created label for images152.jpg as images152.txt\n",
      "Created label for images16(2).jpg as images16(2).txt\n",
      "Created label for images16.jpg as images16.txt\n",
      "Created label for images17(1).jpg as images17(1).txt\n",
      "Created label for images17.jpg as images17.txt\n",
      "Created label for images19 (2).jpg as images19 (2).txt\n",
      "Created label for images19.jpg as images19.txt\n",
      "Created label for images2.jpg as images2.txt\n",
      "Created label for images21 (2).jpg as images21 (2).txt\n",
      "Created label for images21(1).jpg as images21(1).txt\n",
      "Created label for images21.jpg as images21.txt\n",
      "Created label for images22.jpg as images22.txt\n",
      "Created label for images228.jpg as images228.txt\n",
      "Created label for images23 (2).jpg as images23 (2).txt\n",
      "Created label for images235.jpg as images235.txt\n",
      "Created label for images24.jpg as images24.txt\n",
      "Created label for images258.jpg as images258.txt\n",
      "Created label for images26.jpg as images26.txt\n",
      "Created label for images27.jpg as images27.txt\n",
      "Created label for images28.jpg as images28.txt\n",
      "Created label for images282.jpg as images282.txt\n",
      "Created label for images297.jpg as images297.txt\n",
      "Created label for images3(1).jpg as images3(1).txt\n",
      "Created label for images3.jpg as images3.txt\n",
      "Created label for images305.jpg as images305.txt\n",
      "Created label for images31(1).jpg as images31(1).txt\n",
      "Created label for images31.jpg as images31.txt\n",
      "Created label for images32.jpg as images32.txt\n",
      "Created label for images33 (2).jpg as images33 (2).txt\n",
      "Created label for images33.jpg as images33.txt\n",
      "Created label for images34.jpg as images34.txt\n",
      "Created label for images37.jpg as images37.txt\n",
      "Created label for images38.jpg as images38.txt\n",
      "Created label for images39.jpg as images39.txt\n",
      "Created label for images4.jpg as images4.txt\n",
      "Created label for images5.jpg as images5.txt\n",
      "Created label for images53.jpg as images53.txt\n",
      "Created label for images54.jpg as images54.txt\n",
      "Created label for images57.jpg as images57.txt\n",
      "Created label for images60.jpg as images60.txt\n",
      "Created label for images61.jpg as images61.txt\n",
      "Created label for images62.jpg as images62.txt\n",
      "Created label for images63 (2).jpg as images63 (2).txt\n",
      "Created label for images63.jpg as images63.txt\n",
      "Created label for images64.jpg as images64.txt\n",
      "Created label for images66.jpg as images66.txt\n",
      "Created label for images67.jpg as images67.txt\n",
      "Created label for images70.jpg as images70.txt\n",
      "Created label for images73 (2).jpg as images73 (2).txt\n",
      "Created label for images74.jpg as images74.txt\n",
      "Created label for images75 (2).jpg as images75 (2).txt\n",
      "Created label for images76.jpg as images76.txt\n",
      "Created label for images77.jpg as images77.txt\n",
      "Created label for images8.jpg as images8.txt\n",
      "Created label for images82.jpg as images82.txt\n",
      "Created label for images86.jpg as images86.txt\n",
      "Created label for images9 (2).jpg as images9 (2).txt\n",
      "Created label for images9.jpg as images9.txt\n",
      "Created label for images90.jpg as images90.txt\n",
      "Created label for images99.jpg as images99.txt\n",
      "Created label for IMG_20131208_1_mr1386507169777.jpg as IMG_20131208_1_mr1386507169777.txt\n",
      "Created label for Indian-Hair-Styles-For-Boys-3.jpg as Indian-Hair-Styles-For-Boys-3.txt\n",
      "Created label for Jamie-Chung.jpg as Jamie-Chung.txt\n",
      "Created label for karishma-tanna-hairstyles-iDiva-Thumbnail_5e3c0b17b1948.jpg as karishma-tanna-hairstyles-iDiva-Thumbnail_5e3c0b17b1948.txt\n",
      "Created label for long-hair-with-soft-waves.jpg as long-hair-with-soft-waves.txt\n",
      "Created label for long-layered-wavy-hair.jpg as long-layered-wavy-hair.txt\n",
      "Created label for madhuri-dixit.jpg as madhuri-dixit.txt\n",
      "Created label for medium-wavy-hair-for-men.jpg as medium-wavy-hair-for-men.txt\n",
      "Created label for Messy-Long-Hair.jpg as Messy-Long-Hair.txt\n",
      "Created label for Natural-Wavy-Hairstyle.jpg as Natural-Wavy-Hairstyle.txt\n",
      "Created label for New-LookOI.jpg as New-LookOI.txt\n",
      "Created label for PHS-HAIRSCIENCE_Hair-care-guide-for-wavy-curly-hair.jpg as PHS-HAIRSCIENCE_Hair-care-guide-for-wavy-curly-hair.txt\n",
      "Created label for priyanka-chopra.jpg as priyanka-chopra.txt\n",
      "Created label for redhair-1518094912kgn84.jpg as redhair-1518094912kgn84.txt\n",
      "Created label for Roselyn-Sanchez.jpg as Roselyn-Sanchez.txt\n",
      "Created label for Techniques-To-Get-Chic-Wavy-Hair.jpg as Techniques-To-Get-Chic-Wavy-Hair.txt\n",
      "Created label for thick-wavy-hairstyles-men.png as thick-wavy-hairstyles-men.txt\n",
      "Created label for tumblr_oui89e3KIJ1rokz3ro1_400.jpg as tumblr_oui89e3KIJ1rokz3ro1_400.txt\n",
      "Created label for wavy-hair-1656433758.png as wavy-hair-1656433758.txt\n",
      "Created label for wavy-hair-4-3.jpg as wavy-hair-4-3.txt\n",
      "Created label for wavy-hair-with-ombre-balayage-hair-color.jpg as wavy-hair-with-ombre-balayage-hair-color.txt\n",
      "Created label for Wavy-Hair-with-Temple-Fade-1.jpg as Wavy-Hair-with-Temple-Fade-1.txt\n",
      "Created label for wavy-hair.jpg as wavy-hair.txt\n",
      "Created label for wavy-hairstyles-for-men-12-1.jpg as wavy-hairstyles-for-men-12-1.txt\n",
      "Created label for Wavy-Short-Hairstyles-for-Men.jpg as Wavy-Short-Hairstyles-for-Men.txt\n",
      "Created label for Wavy-Side-Swept.jpg as Wavy-Side-Swept.txt\n",
      "Created label for WAVYHAIRSTYLES081021_DEFAULT1.jpg as WAVYHAIRSTYLES081021_DEFAULT1.txt\n",
      "Created label for Wispy-and-Messy-for-Indian-Boys.jpg as Wispy-and-Messy-for-Indian-Boys.txt\n",
      "Created label for Wonderful-Wavy-Hairstyles-for-Men.jpg as Wonderful-Wavy-Hairstyles-for-Men.txt\n",
      "Created label for 0160dfee18352aa9bf5c6e617de9e07b4.jpg as 0160dfee18352aa9bf5c6e617de9e07b4.txt\n",
      "Created label for 0fd85bcde626a95e20489c83f292d8204.jpg as 0fd85bcde626a95e20489c83f292d8204.txt\n",
      "Created label for 1-curly-hair-with-bangs-CYFg6l_Ls4-.jpg as 1-curly-hair-with-bangs-CYFg6l_Ls4-.txt\n",
      "Created label for 106dfcf4abe76990b585b2fc2e3c9f884.jpg as 106dfcf4abe76990b585b2fc2e3c9f884.txt\n",
      "Created label for 13-long-curly-haircut-BclM5gMly7s.jpg as 13-long-curly-haircut-BclM5gMly7s.txt\n",
      "Created label for 1431bae992a4a870c351bc4ffbcbd3ac.jpg as 1431bae992a4a870c351bc4ffbcbd3ac.txt\n",
      "Created label for 1a9dbe23a0d95f1c292625960e4509184.jpg as 1a9dbe23a0d95f1c292625960e4509184.txt\n",
      "Created label for 271c1544d1ae724715b63a19835d5636.jpg as 271c1544d1ae724715b63a19835d5636.txt\n",
      "Created label for 2a6d1e3e1c692ca898e3d3a75fd5043b4.jpg as 2a6d1e3e1c692ca898e3d3a75fd5043b4.txt\n",
      "Created label for 3096789d68fcce2222e84f513be4adf04.jpg as 3096789d68fcce2222e84f513be4adf04.txt\n",
      "Created label for 341ea26e6677b655f8447af56073204a4.jpg as 341ea26e6677b655f8447af56073204a4.txt\n",
      "Created label for 3ccurls-1622124264.png as 3ccurls-1622124264.txt\n",
      "Created label for 40f07442f2e1adb5888b4dec280791824.jpg as 40f07442f2e1adb5888b4dec280791824.txt\n",
      "Created label for 5fa73670458d4f139532b6d26c2e3681.Culry-Hair-Dry-Cut.png as 5fa73670458d4f139532b6d26c2e3681.Culry-Hair-Dry-Cut.txt\n",
      "Created label for 61aPFVrm42L._SL1352_.jpg as 61aPFVrm42L._SL1352_.txt\n",
      "Created label for 6ae1c0933c9f15526012f38cee1696284.jpg as 6ae1c0933c9f15526012f38cee1696284.txt\n",
      "Created label for 769e8e23280cdb066660bdbc85722169.jpg as 769e8e23280cdb066660bdbc85722169.txt\n",
      "Created label for 7f5649a0c33a2b334f23221a52c16b9b.jpg as 7f5649a0c33a2b334f23221a52c16b9b.txt\n",
      "Created label for 84011171.jpg as 84011171.txt\n",
      "Created label for 8499155.jpg as 8499155.txt\n",
      "Created label for 8674d5c0392c7ba194d3609dea0d9115 (3).jpg as 8674d5c0392c7ba194d3609dea0d9115 (3).txt\n",
      "Created label for 90146673.jpg as 90146673.txt\n",
      "Created label for 90ddc46b2d0fc908f90205bc54235783.jpg as 90ddc46b2d0fc908f90205bc54235783.txt\n",
      "Created label for 9acd1da3425e52c5c96782f41d19f1f2--daily-hairstyles-hairstyles-for-black-women.jpg as 9acd1da3425e52c5c96782f41d19f1f2--daily-hairstyles-hairstyles-for-black-women.txt\n",
      "Created label for 9afdf6678845a5a7c265d1aa358bbb23--big-curl-perm-perms-long-hair.jpg as 9afdf6678845a5a7c265d1aa358bbb23--big-curl-perm-perms-long-hair.txt\n",
      "Created label for A-selfie-picture-of-a-curly-hair-guy-from-Brazil-sporting-a-man-bun-hairstyle-with-his-long-curls.jpg as A-selfie-picture-of-a-curly-hair-guy-from-Brazil-sporting-a-man-bun-hairstyle-with-his-long-curls.txt\n",
      "Created label for ACC-haircream-3_1500x.jpg as ACC-haircream-3_1500x.txt\n",
      "Created label for b171c99161f3cffc12d4b74488ef2fc6.jpg as b171c99161f3cffc12d4b74488ef2fc6.txt\n",
      "Created label for b510a2e81771d484a63bd8e57ff44d2d.png as b510a2e81771d484a63bd8e57ff44d2d.txt\n",
      "Created label for b6f42eb884d495e44aaf5d5a6a9cf927.jpg as b6f42eb884d495e44aaf5d5a6a9cf927.txt\n",
      "Created label for b988bd16d0f7df26b3ae0fa2cb94c67e.jpg as b988bd16d0f7df26b3ae0fa2cb94c67e.txt\n",
      "Created label for baddie-selfie-curly-hair-Favim.com-6977288.jpg as baddie-selfie-curly-hair-Favim.com-6977288.txt\n",
      "Created label for banner_a35a69bd-5f12-4247-ab40-c3b94fb4faff.jpg as banner_a35a69bd-5f12-4247-ab40-c3b94fb4faff.txt\n",
      "Created label for bc57f62544416fbbfc6604d42ef3f445--curly-bun-natural-curly-hair.jpg as bc57f62544416fbbfc6604d42ef3f445--curly-bun-natural-curly-hair.txt\n",
      "Created label for Beautiful2BIndian2BGirl2BSai2BPallavi2BCurly2Bhair2BSmiling2BFace2BCloseup2B2528122529.jpg as Beautiful2BIndian2BGirl2BSai2BPallavi2BCurly2Bhair2BSmiling2BFace2BCloseup2B2528122529.txt\n",
      "Created label for Beautifull2BCurly2BHairstyles2Bideas.jpg as Beautifull2BCurly2BHairstyles2Bideas.txt\n",
      "Created label for Beauty202.png as Beauty202.txt\n",
      "Created label for besthairstylesforindianmen15_1378796017.jpg as besthairstylesforindianmen15_1378796017.txt\n",
      "Created label for blogger_one.jpg as blogger_one.txt\n",
      "Created label for blonde-girl-voluminous-curly-hair-600w-1432618526.jpg as blonde-girl-voluminous-curly-hair-600w-1432618526.txt\n",
      "Created label for By_cQI8CUAEz8vt.jpg as By_cQI8CUAEz8vt.txt\n",
      "Created label for c03ca1590aa4df74e922ad8257305a2b.jpg as c03ca1590aa4df74e922ad8257305a2b.txt\n",
      "Created label for c072a9e12a485e8f4fd1e2619460775e4.jpg as c072a9e12a485e8f4fd1e2619460775e4.txt\n",
      "Created label for c1.jpg as c1.txt\n",
      "Created label for c26f92d7ae9e9f485ccdc735e2af2b1c--short-curly-hair-black-bangs-curly-hair.jpg as c26f92d7ae9e9f485ccdc735e2af2b1c--short-curly-hair-black-bangs-curly-hair.txt\n",
      "Created label for c3.jpg as c3.txt\n",
      "Created label for c4.jpg as c4.txt\n",
      "Created label for c4777f277e1e0ac0932cf18de876c24b.jpg as c4777f277e1e0ac0932cf18de876c24b.txt\n",
      "Created label for c4e68de882927fd4c0d2b1c75d14e9b9.jpg as c4e68de882927fd4c0d2b1c75d14e9b9.txt\n",
      "Created label for c5.jpg as c5.txt\n",
      "Created label for c6.jpg as c6.txt\n",
      "Created label for c8.jpg as c8.txt\n",
      "Created label for C86_76156_405725089516021_1474585421_n.jpg as C86_76156_405725089516021_1474585421_n.txt\n",
      "Created label for c8854ccbddafc4fe5aa7727b74335613.jpg as c8854ccbddafc4fe5aa7727b74335613.txt\n",
      "Created label for cd46e02698a09021cc78cd77ddefa609.jpg as cd46e02698a09021cc78cd77ddefa609.txt\n",
      "Created label for curl-tips-styling-1561743013.jpg as curl-tips-styling-1561743013.txt\n",
      "Created label for curly-hair (2).jpg as curly-hair (2).txt\n",
      "Created label for Curly-Hair(1).jpg as Curly-Hair(1).txt\n",
      "Created label for curly-hair-india-6.jpg as curly-hair-india-6.txt\n",
      "Created label for curly-hair-man.jpg as curly-hair-man.txt\n",
      "Created label for curly-hair-products-1674078075.png as curly-hair-products-1674078075.txt\n",
      "Created label for curly-hair-routine-293046-1620333779808-main.700x0c.jpg as curly-hair-routine-293046-1620333779808-main.700x0c.txt\n",
      "Created label for curly-hair-soumya-sukumar102t.jpg as curly-hair-soumya-sukumar102t.txt\n",
      "Created label for Curly-Hair-Styling-Tips.jpg as Curly-Hair-Styling-Tips.txt\n",
      "Created label for Curly-Hair-Tip-3-Moisturize-Dry-Ends.jpg as Curly-Hair-Tip-3-Moisturize-Dry-Ends.txt\n",
      "Created label for curly-hair.jpg as curly-hair.txt\n",
      "Created label for curly-hairstyles-for-teenage-girls.jpg as curly-hairstyles-for-teenage-girls.txt\n",
      "Created label for Curly-hair_1024x400.jpg as Curly-hair_1024x400.txt\n",
      "Created label for CURLY20HAIR2020042320default-jaymejo.jpg as CURLY20HAIR2020042320default-jaymejo.txt\n",
      "Created label for CurlyHair-Productsin-India.png as CurlyHair-Productsin-India.txt\n",
      "Created label for CurlyHair_WavyHair_Mositure_Cover.jpg as CurlyHair_WavyHair_Mositure_Cover.txt\n",
      "Created label for curly_girl_method_hair_types_1_900x_1.png as curly_girl_method_hair_types_1_900x_1.txt\n",
      "Created label for curtain-bangs-on-curly-hair.jpg as curtain-bangs-on-curly-hair.txt\n",
      "Created label for cury-hair-4dec18-default.jpg as cury-hair-4dec18-default.txt\n",
      "Created label for d025636465d6cee2d208d8956928ceb6.jpg as d025636465d6cee2d208d8956928ceb6.txt\n",
      "Created label for Dense-Curly-Hair-for-Indian-Girls.jpg as Dense-Curly-Hair-for-Indian-Girls.txt\n",
      "Created label for D_PhAiMUcAARNLt.jpg as D_PhAiMUcAARNLt.txt\n",
      "Created label for ea9f0b6c2d9b3238dc993c1c56463376.jpg as ea9f0b6c2d9b3238dc993c1c56463376.txt\n",
      "Created label for easy-hairstyles-for-curly-hair-high-ponytail.jpg as easy-hairstyles-for-curly-hair-high-ponytail.txt\n",
      "Created label for ecbc8abdd63850d81fa5b3d0ba92ab96.jpg as ecbc8abdd63850d81fa5b3d0ba92ab96.txt\n",
      "Created label for EK_Anjana-Muralidharan-Curls-and-Beauty-Diary.jpg as EK_Anjana-Muralidharan-Curls-and-Beauty-Diary.txt\n",
      "Created label for f0c70f8631f5e3bb66b9d5db71454e35--b-hair-curly-hair.jpg as f0c70f8631f5e3bb66b9d5db71454e35--b-hair-curly-hair.txt\n",
      "Created label for f192d35e34fe2a393067927d2bf581c8.jpg as f192d35e34fe2a393067927d2bf581c8.txt\n",
      "Created label for f30986c3b61473bc1153884a808963af.jpg as f30986c3b61473bc1153884a808963af.txt\n",
      "Created label for f42eaa0ccafe65003c609ea552dc5445--dry-frizzy-hair-wavy-hair.jpg as f42eaa0ccafe65003c609ea552dc5445--dry-frizzy-hair-wavy-hair.txt\n",
      "Created label for f6b904e34dda9e35cdf8004037d882504.jpg as f6b904e34dda9e35cdf8004037d882504.txt\n",
      "Created label for f8806d10b38e2f9dc85e34c98627a62f.jpg as f8806d10b38e2f9dc85e34c98627a62f.txt\n",
      "Created label for fbf76fc32ca2d78499584388c798f8b9.jpg as fbf76fc32ca2d78499584388c798f8b9.txt\n",
      "Created label for fe501fa65e1a9a27fc6074cc2b6f03184.jpg as fe501fa65e1a9a27fc6074cc2b6f03184.txt\n",
      "Created label for ff4f0cee4bc2f4f0be83df52ada7a46f4.jpg as ff4f0cee4bc2f4f0be83df52ada7a46f4.txt\n",
      "Created label for frizzy-or-curly-hair-featured-image.jpg as frizzy-or-curly-hair-featured-image.txt\n",
      "Created label for gettyimages-1011227220-1-1579869345.jpg as gettyimages-1011227220-1-1579869345.txt\n",
      "Created label for gettyimages-163923632-brand-new-images-opener-1518544892.jpg as gettyimages-163923632-brand-new-images-opener-1518544892.txt\n",
      "Created label for GettyImages-486112594.jpg as GettyImages-486112594.txt\n",
      "Created label for GettyImages-646055712_trans_NvBQzQNjv4BqDo1PhbPPiB1HBZscUHLBE78-ICSbD7iLWCuXgZfDuIk.jpg as GettyImages-646055712_trans_NvBQzQNjv4BqDo1PhbPPiB1HBZscUHLBE78-ICSbD7iLWCuXgZfDuIk.txt\n",
      "Created label for girl-teen-telephone-make-selfie-afro-curls-curly-hair-connect.jpg as girl-teen-telephone-make-selfie-afro-curls-curly-hair-connect.txt\n",
      "Created label for grow-longer-curly-hair_750x500_6.jpg as grow-longer-curly-hair_750x500_6.txt\n",
      "Created label for guidetocurly_1024x1024.jpg as guidetocurly_1024x1024.txt\n",
      "Created label for hair-care-tips-for-naturally-curly-hair.jpg as hair-care-tips-for-naturally-curly-hair.txt\n",
      "Created label for hair-ideas-2016-03-yara-shahidi-2015-curls-we-love.jpg as hair-ideas-2016-03-yara-shahidi-2015-curls-we-love.txt\n",
      "Created label for hairstyles-for-curly-hair-2015-1.jpg as hairstyles-for-curly-hair-2015-1.txt\n",
      "Created label for hairstyles_for_curly_hair.jpg as hairstyles_for_curly_hair.txt\n",
      "Created label for How-Style-Curly-Hair-101.jpg as How-Style-Curly-Hair-101.txt\n",
      "Created label for how-style-every-type-curly-hair-9d7733cd.jpg as how-style-every-type-curly-hair-9d7733cd.txt\n",
      "Created label for how20to20tell20your20curl20type20lede.jpg as how20to20tell20your20curl20type20lede.txt\n",
      "Created label for iDiva_Naturally-Curly-Hair_Mithila_5d721260d3eac.jpg as iDiva_Naturally-Curly-Hair_Mithila_5d721260d3eac.txt\n",
      "Created label for image.jpg as image.txt\n",
      "Created label for image102.jpg as image102.txt\n",
      "Created label for image104.jpg as image104.txt\n",
      "Created label for image105.jpg as image105.txt\n",
      "Created label for image107.jpg as image107.txt\n",
      "Created label for image108.jpg as image108.txt\n",
      "Created label for image111.jpg as image111.txt\n",
      "Created label for image113.jpg as image113.txt\n",
      "Created label for image115.jpg as image115.txt\n",
      "Created label for image12.jpg as image12.txt\n",
      "Created label for image127.jpg as image127.txt\n",
      "Created label for image129.jpg as image129.txt\n",
      "Created label for image13.jpg as image13.txt\n",
      "Created label for image133.jpg as image133.txt\n",
      "Created label for image134.jpg as image134.txt\n",
      "Created label for image136.jpg as image136.txt\n",
      "Created label for image138.jpg as image138.txt\n",
      "Created label for image139.jpg as image139.txt\n",
      "Created label for image144.jpg as image144.txt\n",
      "Created label for image145.jpg as image145.txt\n",
      "Created label for image146.jpg as image146.txt\n",
      "Created label for image147.jpg as image147.txt\n",
      "Created label for image149.jpg as image149.txt\n",
      "Created label for image152.jpg as image152.txt\n",
      "Created label for image153.jpg as image153.txt\n",
      "Created label for image154.jpg as image154.txt\n",
      "Created label for image155.jpg as image155.txt\n",
      "Created label for image157.jpg as image157.txt\n",
      "Created label for image158.jpg as image158.txt\n",
      "Created label for image159.jpg as image159.txt\n",
      "Created label for image161.jpg as image161.txt\n",
      "Created label for image162.jpg as image162.txt\n",
      "Created label for image163.jpg as image163.txt\n",
      "Created label for image165.jpg as image165.txt\n",
      "Created label for image169.jpg as image169.txt\n",
      "Created label for image17.jpg as image17.txt\n",
      "Created label for image171.jpg as image171.txt\n",
      "Created label for image172.jpg as image172.txt\n",
      "Created label for image174.jpg as image174.txt\n",
      "Created label for image175.jpg as image175.txt\n",
      "Created label for image176.jpg as image176.txt\n",
      "Created label for image177.jpg as image177.txt\n",
      "Created label for image179.jpg as image179.txt\n",
      "Created label for image180.jpg as image180.txt\n",
      "Created label for image181.jpg as image181.txt\n",
      "Created label for image185.jpg as image185.txt\n",
      "Created label for image188.jpg as image188.txt\n",
      "Created label for image189.jpg as image189.txt\n",
      "Created label for image19 (2).jpg as image19 (2).txt\n",
      "Created label for image19.jpg as image19.txt\n",
      "Created label for image194.jpg as image194.txt\n",
      "Created label for image195.jpg as image195.txt\n",
      "Created label for image198.jpg as image198.txt\n",
      "Created label for image199.jpg as image199.txt\n",
      "Created label for image2.jpg as image2.txt\n",
      "Created label for image201.jpg as image201.txt\n",
      "Created label for image202.jpg as image202.txt\n",
      "Created label for image203.jpg as image203.txt\n",
      "Created label for image204.jpg as image204.txt\n",
      "Created label for image209.jpg as image209.txt\n",
      "Created label for image21.jpg as image21.txt\n",
      "Created label for image210.jpg as image210.txt\n",
      "Created label for image211.jpg as image211.txt\n",
      "Created label for image212.jpg as image212.txt\n",
      "Created label for image216.jpg as image216.txt\n",
      "Created label for image218.jpg as image218.txt\n",
      "Created label for image221.jpg as image221.txt\n",
      "Created label for image224.jpg as image224.txt\n",
      "Created label for image225.jpg as image225.txt\n",
      "Created label for image226.jpg as image226.txt\n",
      "Created label for image229.jpg as image229.txt\n",
      "Created label for image23.jpg as image23.txt\n",
      "Created label for image230.jpg as image230.txt\n",
      "Created label for image232.jpg as image232.txt\n",
      "Created label for image237.jpg as image237.txt\n",
      "Created label for image239.jpg as image239.txt\n",
      "Created label for image240.jpg as image240.txt\n",
      "Created label for image242.jpg as image242.txt\n",
      "Created label for image244.jpg as image244.txt\n",
      "Created label for image245.jpg as image245.txt\n",
      "Created label for image248.jpg as image248.txt\n",
      "Created label for image250.jpg as image250.txt\n",
      "Created label for image254.jpg as image254.txt\n",
      "Created label for image255.jpg as image255.txt\n",
      "Created label for image256.jpg as image256.txt\n",
      "Created label for image258.jpg as image258.txt\n",
      "Created label for image26 (2).jpg as image26 (2).txt\n",
      "Created label for image26.jpg as image26.txt\n",
      "Created label for image260.jpg as image260.txt\n",
      "Created label for image261.jpg as image261.txt\n",
      "Created label for image264.jpg as image264.txt\n",
      "Created label for image265.jpg as image265.txt\n",
      "Created label for image266.jpg as image266.txt\n",
      "Created label for image267.jpg as image267.txt\n",
      "Created label for image268.jpg as image268.txt\n",
      "Created label for image27.jpg as image27.txt\n",
      "Created label for image270.jpg as image270.txt\n",
      "Created label for image271.jpg as image271.txt\n",
      "Created label for image272.jpg as image272.txt\n",
      "Created label for image274.jpg as image274.txt\n",
      "Created label for image277.jpg as image277.txt\n",
      "Created label for image281.jpg as image281.txt\n",
      "Created label for image284.jpg as image284.txt\n",
      "Created label for image285.jpg as image285.txt\n",
      "Created label for image287.jpg as image287.txt\n",
      "Created label for image290.jpg as image290.txt\n",
      "Created label for image30.jpg as image30.txt\n",
      "Created label for image33.jpg as image33.txt\n",
      "Created label for image34.jpg as image34.txt\n",
      "Created label for image35.jpg as image35.txt\n",
      "Created label for image365.jpg as image365.txt\n",
      "Created label for image38.jpg as image38.txt\n",
      "Created label for image39.jpg as image39.txt\n",
      "Created label for image40.jpg as image40.txt\n",
      "Created label for image42.jpg as image42.txt\n",
      "Created label for image45.jpg as image45.txt\n",
      "Created label for image46.jpg as image46.txt\n",
      "Created label for image47.jpg as image47.txt\n",
      "Created label for image49.jpg as image49.txt\n",
      "Created label for image5.jpg as image5.txt\n",
      "Created label for image51.jpg as image51.txt\n",
      "Created label for image52.jpg as image52.txt\n",
      "Created label for image54.jpg as image54.txt\n",
      "Created label for image56.jpg as image56.txt\n",
      "Created label for image57 (2).jpg as image57 (2).txt\n",
      "Created label for image57.jpg as image57.txt\n",
      "Created label for image58.jpg as image58.txt\n",
      "Created label for image6.jpg as image6.txt\n",
      "Created label for image62.jpg as image62.txt\n",
      "Created label for image63.jpg as image63.txt\n",
      "Created label for image64.jpg as image64.txt\n",
      "Created label for image68.jpg as image68.txt\n",
      "Created label for image69.jpg as image69.txt\n",
      "Created label for image7.jpg as image7.txt\n",
      "Created label for image70.jpg as image70.txt\n",
      "Created label for image76.jpg as image76.txt\n",
      "Created label for image79.jpg as image79.txt\n",
      "Created label for image8.jpg as image8.txt\n",
      "Created label for image80.jpg as image80.txt\n",
      "Created label for image82.jpg as image82.txt\n",
      "Created label for image85.jpg as image85.txt\n",
      "Created label for image87.jpg as image87.txt\n",
      "Created label for image89.jpg as image89.txt\n",
      "Created label for image9.jpg as image9.txt\n",
      "Created label for image90.jpg as image90.txt\n",
      "Created label for image92.jpg as image92.txt\n",
      "Created label for image93.jpg as image93.txt\n",
      "Created label for image94.jpg as image94.txt\n",
      "Created label for image95.jpg as image95.txt\n",
      "Created label for images10.jpg as images10.txt\n",
      "Created label for images102.jpg as images102.txt\n",
      "Created label for images103.jpg as images103.txt\n",
      "Created label for images104.jpg as images104.txt\n",
      "Created label for images106.jpg as images106.txt\n",
      "Created label for images107.jpg as images107.txt\n",
      "Created label for images108.jpg as images108.txt\n",
      "Created label for images11.jpg as images11.txt\n",
      "Created label for images110.jpg as images110.txt\n",
      "Created label for images114.jpg as images114.txt\n",
      "Created label for images121.jpg as images121.txt\n",
      "Created label for images122.jpg as images122.txt\n",
      "Created label for images133.jpg as images133.txt\n",
      "Created label for images134.jpg as images134.txt\n",
      "Created label for images136.jpg as images136.txt\n",
      "Created label for images138.jpg as images138.txt\n",
      "Created label for images141.jpg as images141.txt\n",
      "Created label for images142.jpg as images142.txt\n",
      "Created label for images143.jpg as images143.txt\n",
      "Created label for images145.jpg as images145.txt\n",
      "Created label for images146.jpg as images146.txt\n",
      "Created label for images147.jpg as images147.txt\n",
      "Created label for images148.jpg as images148.txt\n",
      "Created label for images15.jpg as images15.txt\n",
      "Created label for images151.jpg as images151.txt\n",
      "Created label for images153.jpg as images153.txt\n",
      "Created label for images154.jpg as images154.txt\n",
      "Created label for images155.jpg as images155.txt\n",
      "Created label for images156.jpg as images156.txt\n",
      "Created label for images159.jpg as images159.txt\n",
      "Created label for images162.jpg as images162.txt\n",
      "Created label for images165.jpg as images165.txt\n",
      "Created label for images166.jpg as images166.txt\n",
      "Created label for images169.jpg as images169.txt\n",
      "Created label for images174.jpg as images174.txt\n",
      "Created label for images175.jpg as images175.txt\n",
      "Created label for images176.jpg as images176.txt\n",
      "Created label for images177.jpg as images177.txt\n",
      "Created label for images178.jpg as images178.txt\n",
      "Created label for images180.jpg as images180.txt\n",
      "Created label for images181.jpg as images181.txt\n",
      "Created label for images182.jpg as images182.txt\n",
      "Created label for images183.jpg as images183.txt\n",
      "Created label for images185.jpg as images185.txt\n",
      "Created label for images187.jpg as images187.txt\n",
      "Created label for images188.jpg as images188.txt\n",
      "Created label for images189.jpg as images189.txt\n",
      "Created label for images193.jpg as images193.txt\n",
      "Created label for images196.jpg as images196.txt\n",
      "Created label for images197.jpg as images197.txt\n",
      "Created label for images201.jpg as images201.txt\n",
      "Created label for images207.jpg as images207.txt\n",
      "Created label for images209.jpg as images209.txt\n",
      "Created label for images210.jpg as images210.txt\n",
      "Created label for images211.jpg as images211.txt\n",
      "Created label for images212.jpg as images212.txt\n",
      "Created label for images218.jpg as images218.txt\n",
      "Created label for images219.jpg as images219.txt\n",
      "Created label for images222.jpg as images222.txt\n",
      "Created label for images225.jpg as images225.txt\n",
      "Created label for images226.jpg as images226.txt\n",
      "Created label for images231.jpg as images231.txt\n",
      "Created label for images25.jpg as images25.txt\n",
      "Created label for images29.jpg as images29.txt\n",
      "Created label for images36.jpg as images36.txt\n",
      "Created label for images43.jpg as images43.txt\n",
      "Created label for images44.jpg as images44.txt\n",
      "Created label for images46.jpg as images46.txt\n",
      "Created label for images47.jpg as images47.txt\n",
      "Created label for images48.jpg as images48.txt\n",
      "Created label for images49.jpg as images49.txt\n",
      "Created label for images54.jpg as images54.txt\n",
      "Created label for images56.jpg as images56.txt\n",
      "Created label for images61.jpg as images61.txt\n",
      "Created label for images62.jpg as images62.txt\n",
      "Created label for images65.jpg as images65.txt\n",
      "Created label for images67.jpg as images67.txt\n",
      "Created label for images68.jpg as images68.txt\n",
      "Created label for images69.jpg as images69.txt\n",
      "Created label for images73.jpg as images73.txt\n",
      "Created label for images74.jpg as images74.txt\n",
      "Created label for images76.jpg as images76.txt\n",
      "Created label for images78.jpg as images78.txt\n",
      "Created label for images88.jpg as images88.txt\n",
      "Created label for images97.jpg as images97.txt\n",
      "Created label for IMG_0391-570x350.jpg as IMG_0391-570x350.txt\n",
      "Created label for IMG_2412-768x1024.jpg as IMG_2412-768x1024.txt\n",
      "Created label for IMG_5387.jpg as IMG_5387.txt\n",
      "Created label for india-3-700.jpg as india-3-700.txt\n",
      "Created label for india-curly-hair.png as india-curly-hair.txt\n",
      "Created label for indian-baby-girl-curly-hair-600w-1664313094.jpg as indian-baby-girl-curly-hair-600w-1664313094.txt\n",
      "Created label for Indian-Curly-Snob-Life_e81fc59e-fe8f-4330-881d-8ca2f0b3c1b1_grande.jpg as Indian-Curly-Snob-Life_e81fc59e-fe8f-4330-881d-8ca2f0b3c1b1_grande.txt\n",
      "Created label for indian-hairstyles-for-short-hair-1.jpg as indian-hairstyles-for-short-hair-1.txt\n",
      "Created label for IndianCurlPride1.jpg as IndianCurlPride1.txt\n",
      "Created label for ing-pink-smartphone-and-taking-selfie-pretty-girl-watching-funny-interesting-comedy-smiling-and-posing-at-camera-during-film-in-cinema-hall-RA8X2K.jpg as ing-pink-smartphone-and-taking-selfie-pretty-girl-watching-funny-interesting-comedy-smiling-and-posing-at-camera-during-film-in-cinema-hall-RA8X2K.txt\n",
      "Created label for inside_1515662497.jpg as inside_1515662497.txt\n",
      "Created label for jennifer-lopez-curly-hair-0729-main.jpg as jennifer-lopez-curly-hair-0729-main.txt\n",
      "Created label for jordin-sparks-curly-hair.jpg as jordin-sparks-curly-hair.txt\n",
      "Created label for joyful-pretty-girl-with-curly-hair-takes-selfie-mobile-phone_8353-6635.jpg as joyful-pretty-girl-with-curly-hair-takes-selfie-mobile-phone_8353-6635.txt\n",
      "Created label for Kopie_van_henriette2.jpg as Kopie_van_henriette2.txt\n",
      "Created label for Kz_650x650-stylefeen-wash-day-.jpg as Kz_650x650-stylefeen-wash-day-.txt\n",
      "Created label for layered-curly-hair.jpg as layered-curly-hair.txt\n",
      "Created label for Leave-it-in-3-8P3A3076.jpg as Leave-it-in-3-8P3A3076.txt\n",
      "Created label for long-curly-hair-for-women.jpg as long-curly-hair-for-women.txt\n",
      "Created label for long-layered-curly-hair-6.jpg as long-layered-curly-hair-6.txt\n",
      "Created label for maxresdefault.jpg as maxresdefault.txt\n",
      "Created label for maxresdefault0.jpg as maxresdefault0.txt\n",
      "Created label for Medium-Curly-Hairstyles-for-2018-2019.jpg as Medium-Curly-Hairstyles-for-2018-2019.txt\n",
      "Created label for Meher-mistry-curly-hair1.jpg as Meher-mistry-curly-hair1.txt\n",
      "Created label for mhljii00vyxx.jpg as mhljii00vyxx.txt\n",
      "Created label for M_Id_118957_curly_hair.jpg as M_Id_118957_curly_hair.txt\n",
      "Created label for NaturalCurlyLongHairstylesisextraordinaryforyourstyle.jpg as NaturalCurlyLongHairstylesisextraordinaryforyourstyle.txt\n",
      "Created label for njl3tbj29vc01.jpg as njl3tbj29vc01.txt\n",
      "Created label for NYFL16_Hellessy_00007JPG.jpg as NYFL16_Hellessy_00007JPG.txt\n",
      "Created label for original.jpg as original.txt\n",
      "Created label for original2.jpg as original2.txt\n",
      "Created label for Parizaad-Khan-curly-hair-kedar-nene1.jpg as Parizaad-Khan-curly-hair-kedar-nene1.txt\n",
      "Created label for raw-Indian-Virgin-Hair-Deep-Wave-3-pcs-King-Hair-Indian-Curly-Virgin-Hair-7A-Grade.jpg as raw-Indian-Virgin-Hair-Deep-Wave-3-pcs-King-Hair-Indian-Curly-Virgin-Hair-7A-Grade.txt\n",
      "Created label for screen-shot-2020-03-24-at-11-23-46-am-1585063518.png as screen-shot-2020-03-24-at-11-23-46-am-1585063518.txt\n",
      "Created label for selfie-photo-of-cute-curly-haired-caucasian-girl-watching-calmly-into-camera-in-sunny-autumnal-park-T1RPE3.jpg as selfie-photo-of-cute-curly-haired-caucasian-girl-watching-calmly-into-camera-in-sunny-autumnal-park-T1RPE3.txt\n",
      "Created label for SHAMPOOS-1.png as SHAMPOOS-1.txt\n",
      "Created label for short-curly-hair-layered-bob-black-color.jpg as short-curly-hair-layered-bob-black-color.txt\n",
      "Created label for short-curly-hair-middle-part-black-bob.jpg as short-curly-hair-middle-part-black-bob.txt\n",
      "Created label for short-curly-hair-with-bangs-1x1-1.jpg as short-curly-hair-with-bangs-1x1-1.txt\n",
      "Created label for short-curly-hairstyles-08.jpg as short-curly-hairstyles-08.txt\n",
      "Created label for square-1454712473-curly-hair-index.jpg as square-1454712473-curly-hair-index.txt\n",
      "Created label for stock-photo-beautiful-girl-with-curly-hair-taking-selfie-512362408.jpg as stock-photo-beautiful-girl-with-curly-hair-taking-selfie-512362408.txt\n",
      "Created label for stock-photo-green-eyes-selfie-long-hair-curly-hair-curly-girls-20315906-bbea-49c3-a055-af0cef5a7d66.jpg as stock-photo-green-eyes-selfie-long-hair-curly-hair-curly-girls-20315906-bbea-49c3-a055-af0cef5a7d66.txt\n",
      "Created label for stock-photo-portrait-green-eyes-hair-girl-selfie-woman-hairstyle-curls-brunette-a26fe5fc-9472-4bc9-a281-6753ef6b59d2.jpg as stock-photo-portrait-green-eyes-hair-girl-selfie-woman-hairstyle-curls-brunette-a26fe5fc-9472-4bc9-a281-6753ef6b59d2.txt\n",
      "Created label for Swirly01.jpg as Swirly01.txt\n",
      "Created label for thin-curly-hair-732x549-thumbnail.jpg as thin-curly-hair-732x549-thumbnail.txt\n",
      "Created label for tp-hairstyles-for-curly-hair.jpg as tp-hairstyles-for-curly-hair.txt\n",
      "Created label for tp-sassy-short-curly-hairstyles-women.jpg as tp-sassy-short-curly-hairstyles-women.txt\n",
      "Created label for tumblr_nhgozgJrHm1rvhtmyo1_500.jpg as tumblr_nhgozgJrHm1rvhtmyo1_500.txt\n",
      "Created label for Untitled-1.jpg as Untitled-1.txt\n",
      "Created label for vaXD13BxZI0V1636041252.jpg as vaXD13BxZI0V1636041252.txt\n",
      "Created label for vjnh5bqvr2q21.jpg as vjnh5bqvr2q21.txt\n",
      "Created label for woman20with20curly20hair.jpg as woman20with20curly20hair.txt\n",
      "Created label for YpwvxIBmFJgQ1534351741.jpg as YpwvxIBmFJgQ1534351741.txt\n",
      "Created label for 011b913aca7afbdd7feb6cdd4481b3bf4.jpg as 011b913aca7afbdd7feb6cdd4481b3bf4.txt\n",
      "Created label for 037f2da43c5f2c5be1e462ca5aad1c43.jpg as 037f2da43c5f2c5be1e462ca5aad1c43.txt\n",
      "Created label for 057656ef97f71b87e933f8608e3e1f7b.jpg as 057656ef97f71b87e933f8608e3e1f7b.txt\n",
      "Created label for 07.13_blog_dry_curly_hair-1024x410.jpg as 07.13_blog_dry_curly_hair-1024x410.txt\n",
      "Created label for 0c371e87183918327339725daef22cb9.jpg as 0c371e87183918327339725daef22cb9.txt\n",
      "Created label for 0f6e4c795377e1b68683ad14b6243caa.jpg as 0f6e4c795377e1b68683ad14b6243caa.txt\n",
      "Created label for 15f9a9cb66e78eedc69a162707bd1e4e.jpg as 15f9a9cb66e78eedc69a162707bd1e4e.txt\n",
      "Created label for 1b1d1633f04af709224e84c4c431dc99.jpg as 1b1d1633f04af709224e84c4c431dc99.txt\n",
      "Created label for 1D4BEE15-858B-4699-B070-55B9B1D6000B2x.jpg as 1D4BEE15-858B-4699-B070-55B9B1D6000B2x.txt\n",
      "Created label for 3d7c944ddfb1d70306163343458ec68e4.jpg as 3d7c944ddfb1d70306163343458ec68e4.txt\n",
      "Created label for 46e0a51134132c76afcadc4363f4412e.jpg as 46e0a51134132c76afcadc4363f4412e.txt\n",
      "Created label for 4a4e73a7e0f6fed7e2f6c7277c5ef03f.jpg as 4a4e73a7e0f6fed7e2f6c7277c5ef03f.txt\n",
      "Created label for 5-Tips-to-get-Healthy-Kinky-Curly-Hair.jpg as 5-Tips-to-get-Healthy-Kinky-Curly-Hair.txt\n",
      "Created label for 59a29209076d29d2a812dbb02b04b3604.jpg as 59a29209076d29d2a812dbb02b04b3604.txt\n",
      "Created label for 7d58c72c848ec85b706637f1aa0775694.jpg as 7d58c72c848ec85b706637f1aa0775694.txt\n",
      "Created label for a8ea9f1cd728b1d340e92376af7734314.png as a8ea9f1cd728b1d340e92376af7734314.txt\n",
      "Created label for amymaxine.jpg as amymaxine.txt\n",
      "Created label for b00685a6206bf9de0d71ec99e33939c04.jpg as b00685a6206bf9de0d71ec99e33939c04.txt\n",
      "Created label for best-hair-dryers-for-curly-hair-292530-1617749096061-main.700x0c.jpg as best-hair-dryers-for-curly-hair-292530-1617749096061-main.700x0c.txt\n",
      "Created label for black-hair-working-out.jpg as black-hair-working-out.txt\n",
      "Created label for c0a55f0c7f0e7d18b0751815295e333b4.jpg as c0a55f0c7f0e7d18b0751815295e333b4.txt\n",
      "Created label for c1.jpg as c1.txt\n",
      "Created label for c948c7e0dba68bb1f23236a6fabe49014.jpg as c948c7e0dba68bb1f23236a6fabe49014.txt\n",
      "Created label for caacbb4a7cc1035896b519906b7482be.jpg as caacbb4a7cc1035896b519906b7482be.txt\n",
      "Created label for cb30c5e924d8ed5457d7281bd907ae5c.jpg as cb30c5e924d8ed5457d7281bd907ae5c.txt\n",
      "Created label for current-regimen-for-my-natural-hair-1.jpg as current-regimen-for-my-natural-hair-1.txt\n",
      "Created label for d65c52107bd67ac79c648a15e8bd122b4.jpg as d65c52107bd67ac79c648a15e8bd122b4.txt\n",
      "Created label for d8786f0057d5ed8b59735bbe15a9f5a5.jpg as d8786f0057d5ed8b59735bbe15a9f5a5.txt\n",
      "Created label for df3532270857d23f9122e88ab7af994f.jpg as df3532270857d23f9122e88ab7af994f.txt\n",
      "Created label for e4927543317441b4991b714be37a9b53.jpg as e4927543317441b4991b714be37a9b53.txt\n",
      "Created label for ebe772a2d494168def7afe7cc06328e2.jpg as ebe772a2d494168def7afe7cc06328e2.txt\n",
      "Created label for f1195e229cdf0d82f99813453bb802b04.jpg as f1195e229cdf0d82f99813453bb802b04.txt\n",
      "Created label for ff0936b47b787a7361414469413129654.jpg as ff0936b47b787a7361414469413129654.txt\n",
      "Created label for gingercurlafro.jpg as gingercurlafro.txt\n",
      "Created label for HauteKinkyCurlyFullLaceWig20_3_97e68f1a-e3d1-47c4-ba1b-0e5dc72b38812x.jpg as HauteKinkyCurlyFullLaceWig20_3_97e68f1a-e3d1-47c4-ba1b-0e5dc72b38812x.txt\n",
      "Created label for humidity-natural-hair-humectants-dew-points.jpg as humidity-natural-hair-humectants-dew-points.txt\n",
      "Created label for image.jpg as image.txt\n",
      "Created label for image10.jpg as image10.txt\n",
      "Created label for image103.jpg as image103.txt\n",
      "Created label for image110.jpg as image110.txt\n",
      "Created label for image111.jpg as image111.txt\n",
      "Created label for image114.jpg as image114.txt\n",
      "Created label for image115.jpg as image115.txt\n",
      "Created label for image118.jpg as image118.txt\n",
      "Created label for image12 (2).jpg as image12 (2).txt\n",
      "Created label for image120.jpg as image120.txt\n",
      "Created label for image124.jpg as image124.txt\n",
      "Created label for image126.jpg as image126.txt\n",
      "Created label for image13.jpg as image13.txt\n",
      "Created label for image134.jpg as image134.txt\n",
      "Created label for image136.jpg as image136.txt\n",
      "Created label for image138.jpg as image138.txt\n",
      "Created label for image140.jpg as image140.txt\n",
      "Created label for image141.jpg as image141.txt\n",
      "Created label for image142.jpg as image142.txt\n",
      "Created label for image143.jpg as image143.txt\n",
      "Created label for image145.jpg as image145.txt\n",
      "Created label for image146.jpg as image146.txt\n",
      "Created label for image15 (2).jpg as image15 (2).txt\n",
      "Created label for image150.jpg as image150.txt\n",
      "Created label for image152.jpg as image152.txt\n",
      "Created label for image155.jpg as image155.txt\n",
      "Created label for image157.jpg as image157.txt\n",
      "Created label for image160.jpg as image160.txt\n",
      "Created label for image163.jpg as image163.txt\n",
      "Created label for image164.jpg as image164.txt\n",
      "Created label for image165.jpg as image165.txt\n",
      "Created label for image168.jpg as image168.txt\n",
      "Created label for image17 (2).jpg as image17 (2).txt\n",
      "Created label for image170.jpg as image170.txt\n",
      "Created label for image173.jpg as image173.txt\n",
      "Created label for image175.jpg as image175.txt\n",
      "Created label for image177.jpg as image177.txt\n",
      "Created label for image179.jpg as image179.txt\n",
      "Created label for image18.jpg as image18.txt\n",
      "Created label for image180.jpg as image180.txt\n",
      "Created label for image181.jpg as image181.txt\n",
      "Created label for image182.jpg as image182.txt\n",
      "Created label for image184.jpg as image184.txt\n",
      "Created label for image186.jpg as image186.txt\n",
      "Created label for image194.jpg as image194.txt\n",
      "Created label for image196.jpg as image196.txt\n",
      "Created label for image198.jpg as image198.txt\n",
      "Created label for image205.jpg as image205.txt\n",
      "Created label for image206.jpg as image206.txt\n",
      "Created label for image210.jpg as image210.txt\n",
      "Created label for image212.jpg as image212.txt\n",
      "Created label for image213.jpg as image213.txt\n",
      "Created label for image215.jpg as image215.txt\n",
      "Created label for image225.jpg as image225.txt\n",
      "Created label for image231.jpg as image231.txt\n",
      "Created label for image234.jpg as image234.txt\n",
      "Created label for image236.jpg as image236.txt\n",
      "Created label for image238.jpg as image238.txt\n",
      "Created label for image243.jpg as image243.txt\n",
      "Created label for image244.jpg as image244.txt\n",
      "Created label for image249.jpg as image249.txt\n",
      "Created label for image252.jpg as image252.txt\n",
      "Created label for image253.jpg as image253.txt\n",
      "Created label for image259.jpg as image259.txt\n",
      "Created label for image260.jpg as image260.txt\n",
      "Created label for image263.jpg as image263.txt\n",
      "Created label for image267.jpg as image267.txt\n",
      "Created label for image269.jpg as image269.txt\n",
      "Created label for image270.jpg as image270.txt\n",
      "Created label for image272.jpg as image272.txt\n",
      "Created label for image275.jpg as image275.txt\n",
      "Created label for image276.jpg as image276.txt\n",
      "Created label for image280.jpg as image280.txt\n",
      "Created label for image283.jpg as image283.txt\n",
      "Created label for image300.jpg as image300.txt\n",
      "Created label for image306.jpg as image306.txt\n",
      "Created label for image308.jpg as image308.txt\n",
      "Created label for image309.jpg as image309.txt\n",
      "Created label for image311.jpg as image311.txt\n",
      "Created label for image312.jpg as image312.txt\n",
      "Created label for image318.jpg as image318.txt\n",
      "Created label for image328.jpg as image328.txt\n",
      "Created label for image33 (2).jpg as image33 (2).txt\n",
      "Created label for image330.jpg as image330.txt\n",
      "Created label for image331.jpg as image331.txt\n",
      "Created label for image333.jpg as image333.txt\n",
      "Created label for image334.jpg as image334.txt\n",
      "Created label for image335.jpg as image335.txt\n",
      "Created label for image336.jpg as image336.txt\n",
      "Created label for image349.jpg as image349.txt\n",
      "Created label for image353.jpg as image353.txt\n",
      "Created label for image358.jpg as image358.txt\n",
      "Created label for image360.jpg as image360.txt\n",
      "Created label for image361.jpg as image361.txt\n",
      "Created label for image366.jpg as image366.txt\n",
      "Created label for image368.jpg as image368.txt\n",
      "Created label for image371.jpg as image371.txt\n",
      "Created label for image372.jpg as image372.txt\n",
      "Created label for image373.jpg as image373.txt\n",
      "Created label for image374.jpg as image374.txt\n",
      "Created label for image376.jpg as image376.txt\n",
      "Created label for image38.jpg as image38.txt\n",
      "Created label for image4.jpg as image4.txt\n",
      "Created label for image47.jpg as image47.txt\n",
      "Created label for image48.jpg as image48.txt\n",
      "Created label for image50.jpg as image50.txt\n",
      "Created label for image55 (2).jpg as image55 (2).txt\n",
      "Created label for image56.jpg as image56.txt\n",
      "Created label for image58.jpg as image58.txt\n",
      "Created label for image60.jpg as image60.txt\n",
      "Created label for image63.jpg as image63.txt\n",
      "Created label for image64.jpg as image64.txt\n",
      "Created label for image74.jpg as image74.txt\n",
      "Created label for image76.jpg as image76.txt\n",
      "Created label for image79.jpg as image79.txt\n",
      "Created label for image80.jpg as image80.txt\n",
      "Created label for image81.jpg as image81.txt\n",
      "Created label for image85.jpg as image85.txt\n",
      "Created label for image91.jpg as image91.txt\n",
      "Created label for images.jpg as images.txt\n",
      "Created label for images12.jpg as images12.txt\n",
      "Created label for images13.jpg as images13.txt\n",
      "Created label for images14.jpg as images14.txt\n",
      "Created label for images15.jpg as images15.txt\n",
      "Created label for images4.jpg as images4.txt\n",
      "Created label for images5.jpg as images5.txt\n",
      "Created label for images6.jpg as images6.txt\n",
      "Created label for images66.jpg as images66.txt\n",
      "Created label for images7.jpg as images7.txt\n",
      "Created label for images8.jpg as images8.txt\n",
      "Created label for img.png as img.txt\n",
      "Created label for volume-70.jpg as volume-70.txt\n",
      "Created label for _-12_4_1.jpg as _-12_4_1.txt\n",
      "Created label for 0a62ef878341056d842dbde6365f9c4a4.jpg as 0a62ef878341056d842dbde6365f9c4a4.txt\n",
      "Created label for 0fgjhs702ob4uoi75.jpg as 0fgjhs702ob4uoi75.txt\n",
      "Created label for 1-rihanna-dreadlocks.jpg as 1-rihanna-dreadlocks.txt\n",
      "Created label for 11-small-side-swept-dreads-CC7LDipp1aw.jpg as 11-small-side-swept-dreads-CC7LDipp1aw.txt\n",
      "Created label for 1200px-Man_with_dreadlocks.jpg as 1200px-Man_with_dreadlocks.txt\n",
      "Created label for 1576082765n8k4g.jpg as 1576082765n8k4g.txt\n",
      "Created label for 1576084878g8k4n-700x858.jpg as 1576084878g8k4n-700x858.txt\n",
      "Created label for 17-short-dreadlocks-with-edge-undercut.jpg as 17-short-dreadlocks-with-edge-undercut.txt\n",
      "Created label for 1c4695aaca4464bf97aa1d4b885009634.jpg as 1c4695aaca4464bf97aa1d4b885009634.txt\n",
      "Created label for 21eb2f6ecfc7526cab5d8619484390a94.jpg as 21eb2f6ecfc7526cab5d8619484390a94.txt\n",
      "Created label for 5-loc-style-for-women-CUXCgKxK4jW.jpg as 5-loc-style-for-women-CUXCgKxK4jW.txt\n",
      "Created label for 51AWKUH9PL.jpg as 51AWKUH9PL.txt\n",
      "Created label for 551a485e4fbe7d0d0df868bd520277b4.jpg as 551a485e4fbe7d0d0df868bd520277b4.txt\n",
      "Created label for 567222c5f2251f660d283d803845d1fc.jpg as 567222c5f2251f660d283d803845d1fc.txt\n",
      "Created label for 58baa8efdf105f1591f34dd7299538294.jpg as 58baa8efdf105f1591f34dd7299538294.txt\n",
      "Created label for 64df6f2ed2f888dbd97cdd51006da308.jpg as 64df6f2ed2f888dbd97cdd51006da308.txt\n",
      "Created label for 7-short-dreadlocks-with-undercut-1.jpg as 7-short-dreadlocks-with-undercut-1.txt\n",
      "Created label for 7e27727cf25c89b9da062cf8dbcf373b4.jpg as 7e27727cf25c89b9da062cf8dbcf373b4.txt\n",
      "Created label for 874dd0c2a9fa80487d1b4e68122851bf.jpg as 874dd0c2a9fa80487d1b4e68122851bf.txt\n",
      "Created label for 891fa3403fe119c599ce620bba3690e54.jpg as 891fa3403fe119c599ce620bba3690e54.txt\n",
      "Created label for 9-classy-twisted-dreadlock-pony-Ck8oPkjuBVG.jpg as 9-classy-twisted-dreadlock-pony-Ck8oPkjuBVG.txt\n",
      "Created label for 93157e70db3aa9159f4ca837bcfc90a24.png as 93157e70db3aa9159f4ca837bcfc90a24.txt\n",
      "Created label for a5cccdd347ccc2c63cb2bfa782b193644.jpg as a5cccdd347ccc2c63cb2bfa782b193644.txt\n",
      "Created label for amari-allen-01-wjla-jef-190926_hpMain_4x5_992.jpg as amari-allen-01-wjla-jef-190926_hpMain_4x5_992.txt\n",
      "Created label for best-hair-color-for-dreadlocks-1.jpg as best-hair-color-for-dreadlocks-1.txt\n",
      "Created label for black-man-dreadlocks-8093692.jpg as black-man-dreadlocks-8093692.txt\n",
      "Created label for black-woman-with-dreadlocks-at-brick-wall-F6R2B1.jpg as black-woman-with-dreadlocks-at-brick-wall-F6R2B1.txt\n",
      "Created label for bldjg0110311.jpg as bldjg0110311.txt\n",
      "Created label for Blogpost_16.jpg as Blogpost_16.txt\n",
      "Created label for Comparison_2048x2048.JPG.jpg as Comparison_2048x2048.JPG.txt\n",
      "Created label for deff3a88b04ee057a218bfd3e89a39e64.jpg as deff3a88b04ee057a218bfd3e89a39e64.txt\n",
      "Created label for Dreadlocks-Hair_1024x1024.jpg as Dreadlocks-Hair_1024x1024.txt\n",
      "Created label for dreadlocks-styles-for-ladies.jpg as dreadlocks-styles-for-ladies.txt\n",
      "Created label for dreadlocks2.png as dreadlocks2.txt\n",
      "Created label for dreadlocks3.png as dreadlocks3.txt\n",
      "Created label for dreadlocks4.jpg as dreadlocks4.txt\n",
      "Created label for Dreads-enfant-black-1024x1024.jpg as Dreads-enfant-black-1024x1024.txt\n",
      "Created label for eb4400d75fa458402ce4d9a643d3a32b4.jpg as eb4400d75fa458402ce4d9a643d3a32b4.txt\n",
      "Created label for fb8bbfb130a3ec23982a5a3a31b8f9a5.jpg as fb8bbfb130a3ec23982a5a3a31b8f9a5.txt\n",
      "Created label for front-page-dreadful_500x.jpg as front-page-dreadful_500x.txt\n",
      "Created label for headlock-india-kalyani-nagar-pune-hair-stylists-qdt97u67g3.jpg as headlock-india-kalyani-nagar-pune-hair-stylists-qdt97u67g3.txt\n",
      "Created label for image102.jpg as image102.txt\n",
      "Created label for image103.jpg as image103.txt\n",
      "Created label for image104.jpg as image104.txt\n",
      "Created label for image105.jpg as image105.txt\n",
      "Created label for image106.jpg as image106.txt\n",
      "Created label for image107.jpg as image107.txt\n",
      "Created label for image108.jpg as image108.txt\n",
      "Created label for image109.jpg as image109.txt\n",
      "Created label for image11.jpg as image11.txt\n",
      "Created label for image110.jpg as image110.txt\n",
      "Created label for image111.jpg as image111.txt\n",
      "Created label for image112.jpg as image112.txt\n",
      "Created label for image114.jpg as image114.txt\n",
      "Created label for image118.jpg as image118.txt\n",
      "Created label for image126.jpg as image126.txt\n",
      "Created label for image127.jpg as image127.txt\n",
      "Created label for image129.jpg as image129.txt\n",
      "Created label for image13.jpg as image13.txt\n",
      "Created label for image130.jpg as image130.txt\n",
      "Created label for image131.jpg as image131.txt\n",
      "Created label for image132.jpg as image132.txt\n",
      "Created label for image133.jpg as image133.txt\n",
      "Created label for image136.jpg as image136.txt\n",
      "Created label for image139.jpg as image139.txt\n",
      "Created label for image141.jpg as image141.txt\n",
      "Created label for image144.jpg as image144.txt\n",
      "Created label for image146.jpg as image146.txt\n",
      "Created label for image147.jpg as image147.txt\n",
      "Created label for image148.jpg as image148.txt\n",
      "Created label for image149.jpg as image149.txt\n",
      "Created label for image15.jpg as image15.txt\n",
      "Created label for image150.jpg as image150.txt\n",
      "Created label for image153.jpg as image153.txt\n",
      "Created label for image154.jpg as image154.txt\n",
      "Created label for image155.jpg as image155.txt\n",
      "Created label for image156.jpg as image156.txt\n",
      "Created label for image157.jpg as image157.txt\n",
      "Created label for image158.jpg as image158.txt\n",
      "Created label for image159.jpg as image159.txt\n",
      "Created label for image16.jpg as image16.txt\n",
      "Created label for image160.jpg as image160.txt\n",
      "Created label for image161.jpg as image161.txt\n",
      "Created label for image162.jpg as image162.txt\n",
      "Created label for image164.jpg as image164.txt\n",
      "Created label for image165.jpg as image165.txt\n",
      "Created label for image168.jpg as image168.txt\n",
      "Created label for image169.jpg as image169.txt\n",
      "Created label for image17.jpg as image17.txt\n",
      "Created label for image170.jpg as image170.txt\n",
      "Created label for image171.jpg as image171.txt\n",
      "Created label for image172.jpg as image172.txt\n",
      "Created label for image174.jpg as image174.txt\n",
      "Created label for image175.jpg as image175.txt\n",
      "Created label for image176.jpg as image176.txt\n",
      "Created label for image18.jpg as image18.txt\n",
      "Created label for image182.jpg as image182.txt\n",
      "Created label for image183.jpg as image183.txt\n",
      "Created label for image187.jpg as image187.txt\n",
      "Created label for image188.jpg as image188.txt\n",
      "Created label for image189.jpg as image189.txt\n",
      "Created label for image19.jpg as image19.txt\n",
      "Created label for image191.jpg as image191.txt\n",
      "Created label for image193.jpg as image193.txt\n",
      "Created label for image195.jpg as image195.txt\n",
      "Created label for image197.jpg as image197.txt\n",
      "Created label for image198.jpg as image198.txt\n",
      "Created label for image2.jpg as image2.txt\n",
      "Created label for image20.jpg as image20.txt\n",
      "Created label for image200.jpg as image200.txt\n",
      "Created label for image201.jpg as image201.txt\n",
      "Created label for image203.jpg as image203.txt\n",
      "Created label for image206.jpg as image206.txt\n",
      "Created label for image208.jpg as image208.txt\n",
      "Created label for image209.jpg as image209.txt\n",
      "Created label for image21.jpg as image21.txt\n",
      "Created label for image212.jpg as image212.txt\n",
      "Created label for image213.jpg as image213.txt\n",
      "Created label for image215.jpg as image215.txt\n",
      "Created label for image216.jpg as image216.txt\n",
      "Created label for image217.jpg as image217.txt\n",
      "Created label for image218.jpg as image218.txt\n",
      "Created label for image219.jpg as image219.txt\n",
      "Created label for image22.jpg as image22.txt\n",
      "Created label for image220.jpg as image220.txt\n",
      "Created label for image221.jpg as image221.txt\n",
      "Created label for image223.jpg as image223.txt\n",
      "Created label for image224.jpg as image224.txt\n",
      "Created label for image225.jpg as image225.txt\n",
      "Created label for image226.jpg as image226.txt\n",
      "Created label for image228.jpg as image228.txt\n",
      "Created label for image229.jpg as image229.txt\n",
      "Created label for image231.jpg as image231.txt\n",
      "Created label for image232.jpg as image232.txt\n",
      "Created label for image233.jpg as image233.txt\n",
      "Created label for image234.jpg as image234.txt\n",
      "Created label for image235.jpg as image235.txt\n",
      "Created label for image236.jpg as image236.txt\n",
      "Created label for image237.jpg as image237.txt\n",
      "Created label for image238.jpg as image238.txt\n",
      "Created label for image239.jpg as image239.txt\n",
      "Created label for image240.jpg as image240.txt\n",
      "Created label for image242.jpg as image242.txt\n",
      "Created label for image245.jpg as image245.txt\n",
      "Created label for image246.jpg as image246.txt\n",
      "Created label for image247.jpg as image247.txt\n",
      "Created label for image248.jpg as image248.txt\n",
      "Created label for image249.jpg as image249.txt\n",
      "Created label for image25.jpg as image25.txt\n",
      "Created label for image250.jpg as image250.txt\n",
      "Created label for image251.jpg as image251.txt\n",
      "Created label for image252.jpg as image252.txt\n",
      "Created label for image255.jpg as image255.txt\n",
      "Created label for image256.jpg as image256.txt\n",
      "Created label for image258.jpg as image258.txt\n",
      "Created label for image26.jpg as image26.txt\n",
      "Created label for image260.jpg as image260.txt\n",
      "Created label for image261.jpg as image261.txt\n",
      "Created label for image262.jpg as image262.txt\n",
      "Created label for image263.jpg as image263.txt\n",
      "Created label for image265.jpg as image265.txt\n",
      "Created label for image266.jpg as image266.txt\n",
      "Created label for image267.jpg as image267.txt\n",
      "Created label for image269.jpg as image269.txt\n",
      "Created label for image271.jpg as image271.txt\n",
      "Created label for image273.jpg as image273.txt\n",
      "Created label for image275.jpg as image275.txt\n",
      "Created label for image278.jpg as image278.txt\n",
      "Created label for image279.jpg as image279.txt\n",
      "Created label for image28.jpg as image28.txt\n",
      "Created label for image280.jpg as image280.txt\n",
      "Created label for image281.jpg as image281.txt\n",
      "Created label for image282.jpg as image282.txt\n",
      "Created label for image284.jpg as image284.txt\n",
      "Created label for image286.jpg as image286.txt\n",
      "Created label for image287.jpg as image287.txt\n",
      "Created label for image288.jpg as image288.txt\n",
      "Created label for image289.jpg as image289.txt\n",
      "Created label for image29.jpg as image29.txt\n",
      "Created label for image290.jpg as image290.txt\n",
      "Created label for image291.jpg as image291.txt\n",
      "Created label for image292.jpg as image292.txt\n",
      "Created label for image294.jpg as image294.txt\n",
      "Created label for image295.jpg as image295.txt\n",
      "Created label for image296.jpg as image296.txt\n",
      "Created label for image297.jpg as image297.txt\n",
      "Created label for image298.jpg as image298.txt\n",
      "Created label for image299.jpg as image299.txt\n",
      "Created label for image3.jpg as image3.txt\n",
      "Created label for image300.jpg as image300.txt\n",
      "Created label for image302.jpg as image302.txt\n",
      "Created label for image303.jpg as image303.txt\n",
      "Created label for image304.jpg as image304.txt\n",
      "Created label for image305.jpg as image305.txt\n",
      "Created label for image306.jpg as image306.txt\n",
      "Created label for image307.jpg as image307.txt\n",
      "Created label for image308.jpg as image308.txt\n",
      "Created label for image309.jpg as image309.txt\n",
      "Created label for image31.jpg as image31.txt\n",
      "Created label for image310.jpg as image310.txt\n",
      "Created label for image312.jpg as image312.txt\n",
      "Created label for image314.jpg as image314.txt\n",
      "Created label for image315.jpg as image315.txt\n",
      "Created label for image317.jpg as image317.txt\n",
      "Created label for image318.jpg as image318.txt\n",
      "Created label for image319.jpg as image319.txt\n",
      "Created label for image32.jpg as image32.txt\n",
      "Created label for image320.jpg as image320.txt\n",
      "Created label for image321.jpg as image321.txt\n",
      "Created label for image322.jpg as image322.txt\n",
      "Created label for image323.jpg as image323.txt\n",
      "Created label for image324.jpg as image324.txt\n",
      "Created label for image325.jpg as image325.txt\n",
      "Created label for image326.jpg as image326.txt\n",
      "Created label for image328.jpg as image328.txt\n",
      "Created label for image33.jpg as image33.txt\n",
      "Created label for image330.jpg as image330.txt\n",
      "Created label for image331.jpg as image331.txt\n",
      "Created label for image333.jpg as image333.txt\n",
      "Created label for image335.jpg as image335.txt\n",
      "Created label for image336.jpg as image336.txt\n",
      "Created label for image339.jpg as image339.txt\n",
      "Created label for image34.jpg as image34.txt\n",
      "Created label for image340.jpg as image340.txt\n",
      "Created label for image3411.jpg as image3411.txt\n",
      "Created label for image343.jpg as image343.txt\n",
      "Created label for image344.jpg as image344.txt\n",
      "Created label for image346.jpg as image346.txt\n",
      "Created label for image35.jpg as image35.txt\n",
      "Created label for image350.jpg as image350.txt\n",
      "Created label for image351.jpg as image351.txt\n",
      "Created label for image352.jpg as image352.txt\n",
      "Created label for image353.jpg as image353.txt\n",
      "Created label for image355.jpg as image355.txt\n",
      "Created label for image357.jpg as image357.txt\n",
      "Created label for image359.jpg as image359.txt\n",
      "Created label for image35_1.jpg as image35_1.txt\n",
      "Created label for image36.jpg as image36.txt\n",
      "Created label for image38.jpg as image38.txt\n",
      "Created label for image39.jpg as image39.txt\n",
      "Created label for image40.jpg as image40.txt\n",
      "Created label for image41.jpg as image41.txt\n",
      "Created label for image43.jpg as image43.txt\n",
      "Created label for image47.jpg as image47.txt\n",
      "Created label for image48.jpg as image48.txt\n",
      "Created label for image49.jpg as image49.txt\n",
      "Created label for image5.jpg as image5.txt\n",
      "Created label for image51.jpg as image51.txt\n",
      "Created label for image54.jpg as image54.txt\n",
      "Created label for image55.jpg as image55.txt\n",
      "Created label for image58.jpg as image58.txt\n",
      "Created label for image59.jpg as image59.txt\n",
      "Created label for image60.jpg as image60.txt\n",
      "Created label for image61.jpg as image61.txt\n",
      "Created label for image62.jpg as image62.txt\n",
      "Created label for image65.jpg as image65.txt\n",
      "Created label for image66.jpg as image66.txt\n",
      "Created label for image67.jpg as image67.txt\n",
      "Created label for image68.jpg as image68.txt\n",
      "Created label for image69.jpg as image69.txt\n",
      "Created label for image7.jpg as image7.txt\n",
      "Created label for image70.jpg as image70.txt\n",
      "Created label for image71.jpg as image71.txt\n",
      "Created label for image71_1.jpg as image71_1.txt\n",
      "Created label for image72.jpg as image72.txt\n",
      "Created label for image73.jpg as image73.txt\n",
      "Created label for image75.jpg as image75.txt\n",
      "Created label for image76.jpg as image76.txt\n",
      "Created label for image77.jpg as image77.txt\n",
      "Created label for image78.jpg as image78.txt\n",
      "Created label for image79.jpg as image79.txt\n",
      "Created label for image8.jpg as image8.txt\n",
      "Created label for image80.jpg as image80.txt\n",
      "Created label for image83.jpg as image83.txt\n",
      "Created label for image85.jpg as image85.txt\n",
      "Created label for image87.jpg as image87.txt\n",
      "Created label for image89.jpg as image89.txt\n",
      "Created label for image9.jpg as image9.txt\n",
      "Created label for image92.jpg as image92.txt\n",
      "Created label for image92_1.jpg as image92_1.txt\n",
      "Created label for image93.jpg as image93.txt\n",
      "Created label for image94.jpg as image94.txt\n",
      "Created label for image96.jpg as image96.txt\n",
      "Created label for image98.jpg as image98.txt\n",
      "Created label for images100.jpg as images100.txt\n",
      "Created label for images109.jpg as images109.txt\n",
      "Created label for images11.jpg as images11.txt\n",
      "Created label for images114.jpg as images114.txt\n",
      "Created label for images123.jpg as images123.txt\n",
      "Created label for images13.jpg as images13.txt\n",
      "Created label for images134.jpg as images134.txt\n",
      "Created label for images135.jpg as images135.txt\n",
      "Created label for images136.jpg as images136.txt\n",
      "Created label for images140.jpg as images140.txt\n",
      "Created label for images141.jpg as images141.txt\n",
      "Created label for images143.jpg as images143.txt\n",
      "Created label for images145.jpg as images145.txt\n",
      "Created label for images152.jpg as images152.txt\n",
      "Created label for images153.jpg as images153.txt\n",
      "Created label for images155.jpg as images155.txt\n",
      "Created label for images157.jpg as images157.txt\n",
      "Created label for images158.jpg as images158.txt\n",
      "Created label for images160.jpg as images160.txt\n",
      "Created label for images161.jpg as images161.txt\n",
      "Created label for images162.jpg as images162.txt\n",
      "Created label for images164.jpg as images164.txt\n",
      "Created label for images165.jpg as images165.txt\n",
      "Created label for images166.jpg as images166.txt\n",
      "Created label for images168.jpg as images168.txt\n",
      "Created label for images18.jpg as images18.txt\n",
      "Created label for images19.jpg as images19.txt\n",
      "Created label for images23.jpg as images23.txt\n",
      "Created label for images38.jpg as images38.txt\n",
      "Created label for images4.jpg as images4.txt\n",
      "Created label for images42.jpg as images42.txt\n",
      "Created label for images43.jpg as images43.txt\n",
      "Created label for images44.jpg as images44.txt\n",
      "Created label for images5.jpg as images5.txt\n",
      "Created label for images50.jpg as images50.txt\n",
      "Created label for images59.jpg as images59.txt\n",
      "Created label for images6.jpg as images6.txt\n",
      "Created label for images70.jpg as images70.txt\n",
      "Created label for images8.jpg as images8.txt\n",
      "Created label for images84.jpg as images84.txt\n",
      "Created label for images87.jpg as images87.txt\n",
      "Created label for images88.jpg as images88.txt\n",
      "Created label for images9.jpg as images9.txt\n",
      "Created label for images91.jpg as images91.txt\n",
      "Created label for images98.jpg as images98.txt\n",
      "Created label for image_29494ec039.png as image_29494ec039.txt\n",
      "Created label for locks-naturels.jpg as locks-naturels.txt\n",
      "Created label for main-crowndreadlocks.jpg as main-crowndreadlocks.txt\n",
      "Created label for maxresdefault.jpg as maxresdefault.txt\n",
      "Created label for NO_MORE.jpg as NO_MORE.txt\n",
      "Created label for origin.jpg as origin.txt\n",
      "Created label for pexels-jacob-pilatoe-4655238-scaled-e1646909021186.jpg as pexels-jacob-pilatoe-4655238-scaled-e1646909021186.txt\n",
      "Created label for portrait-of-a-handsome-black-man-with-long-dreadlocks-2M6TCF8.jpg as portrait-of-a-handsome-black-man-with-long-dreadlocks-2M6TCF8.txt\n",
      "Created label for portrait-young-man-with-afro-dreadlocks-jacket_23-2149451603.jpg as portrait-young-man-with-afro-dreadlocks-jacket_23-2149451603.txt\n",
      "Created label for Poundmaker.png as Poundmaker.txt\n",
      "Created label for sheer-elegance-model-2.jpg as sheer-elegance-model-2.txt\n",
      "Created label for tp-dreadlocks-men.jpg as tp-dreadlocks-men.txt\n",
      "Created label for Twist-And-Rip-Method.jpg as Twist-And-Rip-Method.txt\n",
      "Created label for What-Are-Dreadlocks-How-To-Make-Dreadlocks-Maintenance-And-Tips-1.jpg as What-Are-Dreadlocks-How-To-Make-Dreadlocks-Maintenance-And-Tips-1.txt\n",
      "Created label for what-to-know-locs-hairstyle.jpg as what-to-know-locs-hairstyle.txt\n",
      "Created label for whoopi-goldberg-dreadlocks.jpg as whoopi-goldberg-dreadlocks.txt\n",
      "Created label for woman-long-dreadlocks-scaled.jpg as woman-long-dreadlocks-scaled.txt\n",
      "Created label for _dreadlocks-tout.jpg as _dreadlocks-tout.txt\n",
      "Created label for 000028d73-Nicole_Scherzinger.jpg as 000028d73-Nicole_Scherzinger.txt\n",
      "Created label for 0a7bec97b58f02f16f1da241ed4d99dd.jpg as 0a7bec97b58f02f16f1da241ed4d99dd.txt\n",
      "Created label for 1-Saee-Hairstyle-Round-Face-Girls-With-Straightened-Hair.jpg as 1-Saee-Hairstyle-Round-Face-Girls-With-Straightened-Hair.txt\n",
      "Created label for 119f64bc0ab211e3bb2b22000ae90d63_7.jpg as 119f64bc0ab211e3bb2b22000ae90d63_7.txt\n",
      "Created label for 170b4b8e1617a06e02d5c7167365d60f.jpg as 170b4b8e1617a06e02d5c7167365d60f.txt\n",
      "Created label for 198cd7c33975b5a4fcffb99415cd1b6b.jpg as 198cd7c33975b5a4fcffb99415cd1b6b.txt\n",
      "Created label for 25e4ee1104a6a1afaaf8d4dff010c3e33.jpg as 25e4ee1104a6a1afaaf8d4dff010c3e33.txt\n",
      "Created label for 270acbf9a692d3f923a3e9136ef676534.jpg as 270acbf9a692d3f923a3e9136ef676534.txt\n",
      "Created label for 3.-Side-Part-with-Fade-and-Longer-Hair-on-Top-.jpg as 3.-Side-Part-with-Fade-and-Longer-Hair-on-Top-.txt\n",
      "Created label for 53b349306cd7160b2579bd4ae3a27777.jpg as 53b349306cd7160b2579bd4ae3a27777.txt\n",
      "Created label for 54-540556_arianagrande-ariana-grande-ariana-grande-selfie-ariana-grande.png as 54-540556_arianagrande-ariana-grande-ariana-grande-selfie-ariana-grande.txt\n",
      "Created label for 62d7ab276f587fa53e3ed2c040942657.jpg as 62d7ab276f587fa53e3ed2c040942657.txt\n",
      "Created label for 6ede32dd8dfb38486b88c582c4acbe75.jpg as 6ede32dd8dfb38486b88c582c4acbe75.txt\n",
      "Created label for 71fb5bb319713ff75b11d39eb92ac03a.jpg as 71fb5bb319713ff75b11d39eb92ac03a.txt\n",
      "Created label for 747f784dfc37afe3603469d00cc8b413.jpg as 747f784dfc37afe3603469d00cc8b413.txt\n",
      "Created label for 756d633cda8da1c052b84fe58ff61ebb.jpg as 756d633cda8da1c052b84fe58ff61ebb.txt\n",
      "Created label for 76fc4efba0d81d64097b3a8dc0bef8e6.jpg as 76fc4efba0d81d64097b3a8dc0bef8e6.txt\n",
      "Created label for 773b0ce27a9a667c4daffd921aefd0cb.jpg as 773b0ce27a9a667c4daffd921aefd0cb.txt\n",
      "Created label for 77a88adbd375ca09e63bffb22a12ee6f.png as 77a88adbd375ca09e63bffb22a12ee6f.txt\n",
      "Created label for 7c3bc3d43a41bfc4add8a144bc96669f3.jpg as 7c3bc3d43a41bfc4add8a144bc96669f3.txt\n",
      "Created label for 7e8c9d0b8ea8ec8ae63c9cac1ba9e173.jpg as 7e8c9d0b8ea8ec8ae63c9cac1ba9e173.txt\n",
      "Created label for 7fd288fc152e501053797c13a978a86f.jpg as 7fd288fc152e501053797c13a978a86f.txt\n",
      "Created label for 812934a13f52155333f6c35c2c4a1b62.jpg as 812934a13f52155333f6c35c2c4a1b62.txt\n",
      "Created label for 86192002-7534-4b9f-87e9-65af064b4bbf_blog_ln_.jpg as 86192002-7534-4b9f-87e9-65af064b4bbf_blog_ln_.txt\n",
      "Created label for 883887569f8effabedc54c46dd0c6853.jpg as 883887569f8effabedc54c46dd0c6853.txt\n",
      "Created label for 89a9561da1ca6fc962c47ba6d822cb0a.jpg as 89a9561da1ca6fc962c47ba6d822cb0a.txt\n",
      "Created label for 9ae327703f54d35e015a3449782e3b18.jpg as 9ae327703f54d35e015a3449782e3b18.txt\n",
      "Created label for a1ac078cfa30189dd7f7c5ad506ae30c.jpg as a1ac078cfa30189dd7f7c5ad506ae30c.txt\n",
      "Created label for bda09fc8aa7632cf03e41a07980bf9ac.jpg as bda09fc8aa7632cf03e41a07980bf9ac.txt\n",
      "Created label for Black-Girls-Hairstyles-INDIAN-REMY-STRAIGHT-FULL-LACE-WIG.jpg as Black-Girls-Hairstyles-INDIAN-REMY-STRAIGHT-FULL-LACE-WIG.txt\n",
      "Created label for BnIQijhCcAEofEG.png as BnIQijhCcAEofEG.txt\n",
      "Created label for c50e025b4472885a60c633775a8e9482--japanese-hairstyle-men-samurai-hairstyle.jpg as c50e025b4472885a60c633775a8e9482--japanese-hairstyle-men-samurai-hairstyle.txt\n",
      "Created label for d06ad250842dd9456e58f1ac6420917d.jpg as d06ad250842dd9456e58f1ac6420917d.txt\n",
      "Created label for d9ddf7ab86203ebafd4b74488fd8d10f.jpg as d9ddf7ab86203ebafd4b74488fd8d10f.txt\n",
      "Created label for db4dbc136f8f0ebd32b6854bbd9834d2.jpg as db4dbc136f8f0ebd32b6854bbd9834d2.txt\n",
      "Created label for dc314a9db760c2917177f9e23c9ca93c.jpg as dc314a9db760c2917177f9e23c9ca93c.txt\n",
      "Created label for Extraordinary_Straight_Hair_Natural_Tips_for_Health_Length_Retention_3.jpg as Extraordinary_Straight_Hair_Natural_Tips_for_Health_Length_Retention_3.txt\n",
      "Created label for f3976d7954dc8d600ee9a78186f6c7e8.jpg as f3976d7954dc8d600ee9a78186f6c7e8.txt\n",
      "Created label for Faux-Hawk-Hairstyles-for-Men-with-Straight-Thick-Hair.jpg as Faux-Hawk-Hairstyles-for-Men-with-Straight-Thick-Hair.txt\n",
      "Created label for graphicstock-half-length-of-young-handsome-caucasian-reddish-straight-hair-woman-taking-a-selfie-looking-in-camera-smiling-vanity-social-network-concept_BaZNfnukZ_SB_PM.jpg as graphicstock-half-length-of-young-handsome-caucasian-reddish-straight-hair-woman-taking-a-selfie-looking-in-camera-smiling-vanity-social-network-concept_BaZNfnukZ_SB_PM.txt\n",
      "Created label for Haircuts-For-Men-With-Thick-Hair.jpg as Haircuts-For-Men-With-Thick-Hair.txt\n",
      "Created label for haircuts-for-round-face-indian.png as haircuts-for-round-face-indian.txt\n",
      "Created label for hairstyles-for-men-with-straight-hair-4.jpg as hairstyles-for-men-with-straight-hair-4.txt\n",
      "Created label for half-length-of-young-handsome-asiatic-long-brown-straight-hair-woman-F6H1E5.jpg as half-length-of-young-handsome-asiatic-long-brown-straight-hair-woman-F6H1E5.txt\n",
      "Created label for images (7).jpg as images (7).txt\n",
      "Created label for images100 (2).jpg as images100 (2).txt\n",
      "Created label for images103.jpg as images103.txt\n",
      "Created label for images117.jpg as images117.txt\n",
      "Created label for images139.jpg as images139.txt\n",
      "Created label for images143.jpg as images143.txt\n",
      "Created label for images149.jpg as images149.txt\n",
      "Created label for images19.jpg as images19.txt\n",
      "Created label for images209.jpg as images209.txt\n",
      "Created label for images218.jpg as images218.txt\n",
      "Created label for images220.jpg as images220.txt\n",
      "Created label for images229.jpg as images229.txt\n",
      "Created label for images23.jpg as images23.txt\n",
      "Created label for images244.jpg as images244.txt\n",
      "Created label for images28(1).jpg as images28(1).txt\n",
      "Created label for images28.jpg as images28.txt\n",
      "Created label for images301.jpg as images301.txt\n",
      "Created label for images51.jpg as images51.txt\n",
      "Created label for images6(1).jpg as images6(1).txt\n",
      "Created label for images67.jpg as images67.txt\n",
      "Created label for images69.jpg as images69.txt\n",
      "Created label for images7(1).jpg as images7(1).txt\n",
      "Created label for images80.jpg as images80.txt\n",
      "Created label for images99.jpg as images99.txt\n",
      "Created label for indian-hairstyles-for-short-hair-7-e1533446619785.jpg as indian-hairstyles-for-short-hair-7-e1533446619785.txt\n",
      "Created label for Indians-prefer-long--straight-hair-on-women--says-survey_16c8b9993b1_medium.jpg as Indians-prefer-long--straight-hair-on-women--says-survey_16c8b9993b1_medium.txt\n",
      "Created label for Layered-With-Balayage-Straight-Hairstyle-for-Women.jpg as Layered-With-Balayage-Straight-Hairstyle-for-Women.txt\n",
      "Created label for maxresdefault2.jpg as maxresdefault2.txt\n",
      "Created label for messy-style-e1534520079208.jpg as messy-style-e1534520079208.txt\n",
      "Created label for Messy_Thick_Hair.jpg as Messy_Thick_Hair.txt\n",
      "Created label for Normal-Medium-Length-Hairstyles-195x300.jpg as Normal-Medium-Length-Hairstyles-195x300.txt\n",
      "Created label for nwm07pypnki31.jpg as nwm07pypnki31.txt\n",
      "Created label for original.jpg as original.txt\n",
      "Created label for portrait-thoughtful-beautiful-brunette-young-girl-black-long-straight-hair-white-dress-standing-touching-her-chin-148269673.jpg as portrait-thoughtful-beautiful-brunette-young-girl-black-long-straight-hair-white-dress-standing-touching-her-chin-148269673.txt\n",
      "Created label for rBVaSVq8Yl6AKLOGAAaqm6iIhz4035.jpg as rBVaSVq8Yl6AKLOGAAaqm6iIhz4035.txt\n",
      "Created label for s11.jpg as s11.txt\n",
      "Created label for s15.jpg as s15.txt\n",
      "Created label for s2.jpg as s2.txt\n",
      "Created label for short-dark-brown-coif-mens-hair2-1024x683.jpg as short-dark-brown-coif-mens-hair2-1024x683.txt\n",
      "Created label for styles-for-straight-hair-1.jpg as styles-for-straight-hair-1.txt\n",
      "Created label for TAW6_large.png as TAW6_large.txt\n",
      "Created label for undercut.jpg as undercut.txt\n",
      "Created label for Understanding-Different-Types-Of-Straight-Hair.jpg as Understanding-Different-Types-Of-Straight-Hair.txt\n",
      "Created label for vsco_063013_3.jpg as vsco_063013_3.txt\n",
      "Created label for Wig-scroll-fluffy-oblique-bangs-wig-girls-long-curly-hair-long-straight-hair-pear.jpg as Wig-scroll-fluffy-oblique-bangs-wig-girls-long-curly-hair-long-straight-hair-pear.txt\n",
      "Created label for young-female-model-dark-straight-hair-gentle-smile-poses-making-selfie-sits-against-outdoor-sidewalk-cafe-uses-modern-117831591.jpg as young-female-model-dark-straight-hair-gentle-smile-poses-making-selfie-sits-against-outdoor-sidewalk-cafe-uses-modern-117831591.txt\n",
      "Created label for 096bc77c82488482558a824382d9c816.jpg as 096bc77c82488482558a824382d9c816.txt\n",
      "Created label for 1-Untidy-Side-Braids.jpg as 1-Untidy-Side-Braids.txt\n",
      "Created label for 11148c4b0b0ef938a28374d7931ad901.jpg as 11148c4b0b0ef938a28374d7931ad901.txt\n",
      "Created label for 14_1512031743.jpg as 14_1512031743.txt\n",
      "Created label for 218f5348dda52bcc409d0b682fc64f244.jpg as 218f5348dda52bcc409d0b682fc64f244.txt\n",
      "Created label for 4-temple-undercut-for-curly-hair.jpg as 4-temple-undercut-for-curly-hair.txt\n",
      "Created label for 58c7412b624de3733fc59e50819e743d.jpg as 58c7412b624de3733fc59e50819e743d.txt\n",
      "Created label for 90c1e5530f9ead11724e7527295f4150.jpg as 90c1e5530f9ead11724e7527295f4150.txt\n",
      "Created label for a353af49ad84da275c475dea95380b18.jpg as a353af49ad84da275c475dea95380b18.txt\n",
      "Created label for a8df762627e7242970663d7e7f51d907.jpg as a8df762627e7242970663d7e7f51d907.txt\n",
      "Created label for beauty-2012-05-65-100-best-hairstyles-aishwarya-rai-long-layers-main.jpg as beauty-2012-05-65-100-best-hairstyles-aishwarya-rai-long-layers-main.txt\n",
      "Created label for Best-Hair-Gels-Available-In-India-E28093-Our-Top-10-2-624x702.jpg as Best-Hair-Gels-Available-In-India-E28093-Our-Top-10-2-624x702.txt\n",
      "Created label for best-Wavy-hairstyles-13.jpg as best-Wavy-hairstyles-13.txt\n",
      "Created label for Bouncy-short-hairstyle(1).jpg as Bouncy-short-hairstyle(1).txt\n",
      "Created label for dc873967ec78ac0fdbe09a832889f634.jpg as dc873967ec78ac0fdbe09a832889f634.txt\n",
      "Created label for edb78b0ecd23bab5160a753897676c594.jpg as edb78b0ecd23bab5160a753897676c594.txt\n",
      "Created label for ef0d3ee6de03ae350d0fa7062a6931fb.jpg as ef0d3ee6de03ae350d0fa7062a6931fb.txt\n",
      "Created label for f1bb831e3df883028329102d64eecda6.jpg as f1bb831e3df883028329102d64eecda6.txt\n",
      "Created label for f765b20b43f769864ded4b07e73983cc.jpg as f765b20b43f769864ded4b07e73983cc.txt\n",
      "Created label for hairstyles-for-indian-boys-23.jpg as hairstyles-for-indian-boys-23.txt\n",
      "Created label for image21.jpg as image21.txt\n",
      "Created label for image30.jpg as image30.txt\n",
      "Created label for image32.jpg as image32.txt\n",
      "Created label for image4.jpg as image4.txt\n",
      "Created label for image42.jpg as image42.txt\n",
      "Created label for image65.jpg as image65.txt\n",
      "Created label for image67.jpg as image67.txt\n",
      "Created label for image7.jpg as image7.txt\n",
      "Created label for image75.jpg as image75.txt\n",
      "Created label for image76.jpg as image76.txt\n",
      "Created label for image78.jpg as image78.txt\n",
      "Created label for image79.jpg as image79.txt\n",
      "Created label for image83.jpg as image83.txt\n",
      "Created label for images131.jpg as images131.txt\n",
      "Created label for images164.jpg as images164.txt\n",
      "Created label for images18.jpg as images18.txt\n",
      "Created label for images23.jpg as images23.txt\n",
      "Created label for images262.jpg as images262.txt\n",
      "Created label for images34 (2).jpg as images34 (2).txt\n",
      "Created label for images43.jpg as images43.txt\n",
      "Created label for images55.jpg as images55.txt\n",
      "Created label for images6.jpg as images6.txt\n",
      "Created label for images7(1).jpg as images7(1).txt\n",
      "Created label for images7(2).jpg as images7(2).txt\n",
      "Created label for images73.jpg as images73.txt\n",
      "Created label for images75.jpg as images75.txt\n",
      "Created label for IMG_7511-2-scaled.jpg as IMG_7511-2-scaled.txt\n",
      "Created label for IMG_9308.jpg as IMG_9308.txt\n",
      "Created label for Layered-wavy-hairstyles4-1.png as Layered-wavy-hairstyles4-1.txt\n",
      "Created label for long-wavy-brown-hair-new.jpg as long-wavy-brown-hair-new.txt\n",
      "Created label for long-wavy-hairstyles.jpg as long-wavy-hairstyles.txt\n",
      "Created label for Rachel-Weisz.jpg as Rachel-Weisz.txt\n",
      "Created label for shiny-hollywood-waves-for-long-wavy-hair.jpg as shiny-hollywood-waves-for-long-wavy-hair.txt\n",
      "Created label for Side_Parted_Messy_Bob_1024x1024.jpg as Side_Parted_Messy_Bob_1024x1024.txt\n",
      "Created label for stylish-brunette-woman-with-wavy-hair-and-black-tuxedo-jacket.jpg as stylish-brunette-woman-with-wavy-hair-and-black-tuxedo-jacket.txt\n",
      "Created label for w1.jpg as w1.txt\n",
      "Created label for wavy-hair-routine-296671-1638313893976-main.700x0c.jpg as wavy-hair-routine-296671-1638313893976-main.700x0c.txt\n",
      "Created label for wavy_hair_cuts_300x300.jpg as wavy_hair_cuts_300x300.txt\n",
      "Created label for 00cbad1ffe22d900018e5a2e7376daed4.jpg as 00cbad1ffe22d900018e5a2e7376daed4.txt\n",
      "Created label for 03312ac556a7d003f7570657f80392c34.jpg as 03312ac556a7d003f7570657f80392c34.txt\n",
      "Created label for 1ead97140aa6a90385d5c9e6b7fef476.png as 1ead97140aa6a90385d5c9e6b7fef476.txt\n",
      "Created label for 20-amazing-hairstyles-for-curly-hair-for-girls.jpg as 20-amazing-hairstyles-for-curly-hair-for-girls.txt\n",
      "Created label for 26e527c40927d512f5c85118c43c69554.jpg as 26e527c40927d512f5c85118c43c69554.txt\n",
      "Created label for 5d6da4c89b006262ecfab1f48c5e197f (3).jpg as 5d6da4c89b006262ecfab1f48c5e197f (3).txt\n",
      "Created label for 6d8acb0fe980774ea4e5631198587f45.png as 6d8acb0fe980774ea4e5631198587f45.txt\n",
      "Created label for 99dd012b20e25bb446a8afdca933dd74--long-curly-hair-naturally-curly-hair.jpg as 99dd012b20e25bb446a8afdca933dd74--long-curly-hair-naturally-curly-hair.txt\n",
      "Created label for 9b3608e01d78fbabc9fb0719323d507f4.jpg as 9b3608e01d78fbabc9fb0719323d507f4.txt\n",
      "Created label for b848454ffebb4c4871a2e10f7ee5753d4.png as b848454ffebb4c4871a2e10f7ee5753d4.txt\n",
      "Created label for beauty-2016-03-curly-hair-fall-2016-beauty-trends-main.jpg as beauty-2016-03-curly-hair-fall-2016-beauty-trends-main.txt\n",
      "Created label for c1b89bb4f86a3478ec20ce1f63f003c1.jpg as c1b89bb4f86a3478ec20ce1f63f003c1.txt\n",
      "Created label for c6d1892ba80fc4ed38ab8588b77a1800.jpg as c6d1892ba80fc4ed38ab8588b77a1800.txt\n",
      "Created label for CG-Divya2.jpg as CG-Divya2.txt\n",
      "Created label for CG-Elizabeth.jpg as CG-Elizabeth.txt\n",
      "Created label for Chikan-work-Kurta-and-White-Palazzos10.jpg as Chikan-work-Kurta-and-White-Palazzos10.txt\n",
      "Created label for Curls-1600x900.jpg as Curls-1600x900.txt\n",
      "Created label for curls.jpg as curls.txt\n",
      "Created label for curly-hair-.jpg as curly-hair-.txt\n",
      "Created label for curly-hair-251.jpg as curly-hair-251.txt\n",
      "Created label for curly-hair-412.jpg as curly-hair-412.txt\n",
      "Created label for curly-hair-fb.jpg as curly-hair-fb.txt\n",
      "Created label for curly-hair-model_18028937ed8_medium.jpg as curly-hair-model_18028937ed8_medium.txt\n",
      "Created label for curly-hair-products-india-1.jpg as curly-hair-products-india-1.txt\n",
      "Created label for Curly-HairOI.jpg as Curly-HairOI.txt\n",
      "Created label for Curly20Hair20-20Tout.jpg as Curly20Hair20-20Tout.txt\n",
      "Created label for d7a9e7b2643125ac63af3c72c083a264.jpg as d7a9e7b2643125ac63af3c72c083a264.txt\n",
      "Created label for e4ac7e22df892e57c7d4d7da08408f602.jpg as e4ac7e22df892e57c7d4d7da08408f602.txt\n",
      "Created label for Golden-Shoulder-Length-Volume-Curls.jpg as Golden-Shoulder-Length-Volume-Curls.txt\n",
      "Created label for handsome-and-attractive-young-indian-man-with-black-fashionable-curly-HFCD3F.jpg as handsome-and-attractive-young-indian-man-with-black-fashionable-curly-HFCD3F.txt\n",
      "Created label for How_to_care_for_curly_hair.jpg as How_to_care_for_curly_hair.txt\n",
      "Created label for image100.jpg as image100.txt\n",
      "Created label for image114.jpg as image114.txt\n",
      "Created label for image130.jpg as image130.txt\n",
      "Created label for image15.jpg as image15.txt\n",
      "Created label for image156.jpg as image156.txt\n",
      "Created label for image16.jpg as image16.txt\n",
      "Created label for image160.jpg as image160.txt\n",
      "Created label for image170.jpg as image170.txt\n",
      "Created label for image182.jpg as image182.txt\n",
      "Created label for image184.jpg as image184.txt\n",
      "Created label for image196.jpg as image196.txt\n",
      "Created label for image197.jpg as image197.txt\n",
      "Created label for image200.jpg as image200.txt\n",
      "Created label for image213.jpg as image213.txt\n",
      "Created label for image217.jpg as image217.txt\n",
      "Created label for image220.jpg as image220.txt\n",
      "Created label for image223.jpg as image223.txt\n",
      "Created label for image227.jpg as image227.txt\n",
      "Created label for image233.jpg as image233.txt\n",
      "Created label for image236.jpg as image236.txt\n",
      "Created label for image243.jpg as image243.txt\n",
      "Created label for image246.jpg as image246.txt\n",
      "Created label for image249.jpg as image249.txt\n",
      "Created label for image252.jpg as image252.txt\n",
      "Created label for image278.jpg as image278.txt\n",
      "Created label for image28.jpg as image28.txt\n",
      "Created label for image286.jpg as image286.txt\n",
      "Created label for image31.jpg as image31.txt\n",
      "Created label for image32.jpg as image32.txt\n",
      "Created label for image4.jpg as image4.txt\n",
      "Created label for image41.jpg as image41.txt\n",
      "Created label for image5 (2).jpg as image5 (2).txt\n",
      "Created label for image65.jpg as image65.txt\n",
      "Created label for image67.jpg as image67.txt\n",
      "Created label for image71.jpg as image71.txt\n",
      "Created label for image72.jpg as image72.txt\n",
      "Created label for image74.jpg as image74.txt\n",
      "Created label for image83.jpg as image83.txt\n",
      "Created label for image96.jpg as image96.txt\n",
      "Created label for image97.jpg as image97.txt\n",
      "Created label for images113.jpg as images113.txt\n",
      "Created label for images129.jpg as images129.txt\n",
      "Created label for images14.jpg as images14.txt\n",
      "Created label for images140.jpg as images140.txt\n",
      "Created label for images16.jpg as images16.txt\n",
      "Created label for images168.jpg as images168.txt\n",
      "Created label for images179.jpg as images179.txt\n",
      "Created label for images192.jpg as images192.txt\n",
      "Created label for images195.jpg as images195.txt\n",
      "Created label for images200.jpg as images200.txt\n",
      "Created label for images206.jpg as images206.txt\n",
      "Created label for images50.jpg as images50.txt\n",
      "Created label for images59.jpg as images59.txt\n",
      "Created label for images96.jpg as images96.txt\n",
      "Created label for Indian-Short-Hairstyles-6.jpg as Indian-Short-Hairstyles-6.txt\n",
      "Created label for Isee-Hair-Products-7A-Indian-Curly-Virgin-Hair-Bundle-Deals-Indian-Kinky-Curly-Hair-Indian-Curly.jpg as Isee-Hair-Products-7A-Indian-Curly-Virgin-Hair-Bundle-Deals-Indian-Kinky-Curly-Hair-Indian-Curly.txt\n",
      "Created label for long-curly-hairstyle-for-indian-women-3.jpg as long-curly-hairstyle-for-indian-women-3.txt\n",
      "Created label for maxresdefault1.jpg as maxresdefault1.txt\n",
      "Created label for model-indian-face-makeup-smile-beauty-curly-hair.jpg as model-indian-face-makeup-smile-beauty-curly-hair.txt\n",
      "Created label for photo.jpg as photo.txt\n",
      "Created label for stock-photo-hair-selfie-model-curly-hair-afro-3fd6e0aa-a1df-464f-a1c4-270c9a79b132.jpg as stock-photo-hair-selfie-model-curly-hair-afro-3fd6e0aa-a1df-464f-a1c4-270c9a79b132.txt\n",
      "Created label for stock-photo-travelgirl-with-long-curly-hair-doing-selfie-in-pedestrian-street-pretty-woman-looking-at-camera-673903570.jpg as stock-photo-travelgirl-with-long-curly-hair-doing-selfie-in-pedestrian-street-pretty-woman-looking-at-camera-673903570.txt\n",
      "Created label for tumblr_n0mygkVwrS1rvhtmyo1_500.jpg as tumblr_n0mygkVwrS1rvhtmyo1_500.txt\n",
      "Created label for tumblr_n8vspadxMi1r0k4tgo1_1280.jpg as tumblr_n8vspadxMi1r0k4tgo1_1280.txt\n",
      "Created label for untitled-14.jpg as untitled-14.txt\n",
      "Created label for Untitled-8.jpg as Untitled-8.txt\n",
      "Created label for 26d24ffb167bf8cad53a1d894329f00f.jpg as 26d24ffb167bf8cad53a1d894329f00f.txt\n",
      "Created label for 59c5de9754e7930b06ab415297b65cbc10.jpg as 59c5de9754e7930b06ab415297b65cbc10.txt\n",
      "Created label for 653d7e3e2155890a898d46c65c5ba948.jpg as 653d7e3e2155890a898d46c65c5ba948.txt\n",
      "Created label for c0f7770f01ac2c5903dc3012764aadd82.jpg as c0f7770f01ac2c5903dc3012764aadd82.txt\n",
      "Created label for curly-1_1024x1024.jpg as curly-1_1024x1024.txt\n",
      "Created label for image104.jpg as image104.txt\n",
      "Created label for image127.jpg as image127.txt\n",
      "Created label for image147.jpg as image147.txt\n",
      "Created label for image149.jpg as image149.txt\n",
      "Created label for image16 (2).jpg as image16 (2).txt\n",
      "Created label for image162.jpg as image162.txt\n",
      "Created label for image167.jpg as image167.txt\n",
      "Created label for image185.jpg as image185.txt\n",
      "Created label for image193.jpg as image193.txt\n",
      "Created label for image195.jpg as image195.txt\n",
      "Created label for image21 (2).jpg as image21 (2).txt\n",
      "Created label for image214.jpg as image214.txt\n",
      "Created label for image226.jpg as image226.txt\n",
      "Created label for image228.jpg as image228.txt\n",
      "Created label for image241.jpg as image241.txt\n",
      "Created label for image242.jpg as image242.txt\n",
      "Created label for image255.jpg as image255.txt\n",
      "Created label for image266.jpg as image266.txt\n",
      "Created label for image277.jpg as image277.txt\n",
      "Created label for image284.jpg as image284.txt\n",
      "Created label for image285.jpg as image285.txt\n",
      "Created label for image302.jpg as image302.txt\n",
      "Created label for image31.jpg as image31.txt\n",
      "Created label for image332.jpg as image332.txt\n",
      "Created label for image34.jpg as image34.txt\n",
      "Created label for image350.jpg as image350.txt\n",
      "Created label for image375.jpg as image375.txt\n",
      "Created label for image43.jpg as image43.txt\n",
      "Created label for image44.jpg as image44.txt\n",
      "Created label for image55.jpg as image55.txt\n",
      "Created label for image57.jpg as image57.txt\n",
      "Created label for image59.jpg as image59.txt\n",
      "Created label for image67.jpg as image67.txt\n",
      "Created label for image77.jpg as image77.txt\n",
      "Created label for images11.jpg as images11.txt\n",
      "Created label for images16.jpg as images16.txt\n",
      "Created label for images17.jpg as images17.txt\n",
      "Created label for kinkycurly-1024x576.jpg as kinkycurly-1024x576.txt\n",
      "Created label for 05740e64c1d611e74723ed4103776b71.jpg as 05740e64c1d611e74723ed4103776b71.txt\n",
      "Created label for 19-long-hair-locs-with-square-parting-CEDQMZjJnZV.jpg as 19-long-hair-locs-with-square-parting-CEDQMZjJnZV.txt\n",
      "Created label for 1_600x600_crop_center.jpg as 1_600x600_crop_center.txt\n",
      "Created label for 534050bea3310063e7c8e2cb889799814.jpg as 534050bea3310063e7c8e2cb889799814.txt\n",
      "Created label for 6-86391-dreadlocks-maennerperuecke.jpg as 6-86391-dreadlocks-maennerperuecke.txt\n",
      "Created label for 7acd0254d2e02b4a7abd3e172470b83c4.jpg as 7acd0254d2e02b4a7abd3e172470b83c4.txt\n",
      "Created label for 81ed4e2f4c50f72c1b97831b0f438c734.jpg as 81ed4e2f4c50f72c1b97831b0f438c734.txt\n",
      "Created label for 826071080adf98dc66112bfb8d04038a4.png as 826071080adf98dc66112bfb8d04038a4.txt\n",
      "Created label for 9e97f7d8c1c66037d83b700e66f190e4.jpg as 9e97f7d8c1c66037d83b700e66f190e4.txt\n",
      "Created label for banner-4.jpg as banner-4.txt\n",
      "Created label for c314ec2c96c6447aad76d66d9fa47ce0.jpg as c314ec2c96c6447aad76d66d9fa47ce0.txt\n",
      "Created label for Depositphotos_26946423_l-2015.jpg as Depositphotos_26946423_l-2015.txt\n",
      "Created label for Dreadlocks-Styles.jpg as Dreadlocks-Styles.txt\n",
      "Created label for how-to-start-dreadlocks.jpg as how-to-start-dreadlocks.txt\n",
      "Created label for image.jpg as image.txt\n",
      "Created label for image10.jpg as image10.txt\n",
      "Created label for image113.jpg as image113.txt\n",
      "Created label for image115.jpg as image115.txt\n",
      "Created label for image116.jpg as image116.txt\n",
      "Created label for image120.jpg as image120.txt\n",
      "Created label for image121.jpg as image121.txt\n",
      "Created label for image122.jpg as image122.txt\n",
      "Created label for image123.jpg as image123.txt\n",
      "Created label for image125.jpg as image125.txt\n",
      "Created label for image128.jpg as image128.txt\n",
      "Created label for image138.jpg as image138.txt\n",
      "Created label for image142.jpg as image142.txt\n",
      "Created label for image152.jpg as image152.txt\n",
      "Created label for image163.jpg as image163.txt\n",
      "Created label for image166.jpg as image166.txt\n",
      "Created label for image167.jpg as image167.txt\n",
      "Created label for image173.jpg as image173.txt\n",
      "Created label for image184.jpg as image184.txt\n",
      "Created label for image186.jpg as image186.txt\n",
      "Created label for image190.jpg as image190.txt\n",
      "Created label for image194.jpg as image194.txt\n",
      "Created label for image202.jpg as image202.txt\n",
      "Created label for image211.jpg as image211.txt\n",
      "Created label for image214.jpg as image214.txt\n",
      "Created label for image23.jpg as image23.txt\n",
      "Created label for image230.jpg as image230.txt\n",
      "Created label for image254.jpg as image254.txt\n",
      "Created label for image259.jpg as image259.txt\n",
      "Created label for image268.jpg as image268.txt\n",
      "Created label for image27.jpg as image27.txt\n",
      "Created label for image283.jpg as image283.txt\n",
      "Created label for image285.jpg as image285.txt\n",
      "Created label for image293.jpg as image293.txt\n",
      "Created label for image30.jpg as image30.txt\n",
      "Created label for image313.jpg as image313.txt\n",
      "Created label for image327.jpg as image327.txt\n",
      "Created label for image334.jpg as image334.txt\n",
      "Created label for image341.jpg as image341.txt\n",
      "Created label for image345.jpg as image345.txt\n",
      "Created label for image347.jpg as image347.txt\n",
      "Created label for image349.jpg as image349.txt\n",
      "Created label for image356.jpg as image356.txt\n",
      "Created label for image37.jpg as image37.txt\n",
      "Created label for image4.jpg as image4.txt\n",
      "Created label for image42.jpg as image42.txt\n",
      "Created label for image44.jpg as image44.txt\n",
      "Created label for image50.jpg as image50.txt\n",
      "Created label for image64.jpg as image64.txt\n",
      "Created label for image74.jpg as image74.txt\n",
      "Created label for image84.jpg as image84.txt\n",
      "Created label for image91.jpg as image91.txt\n",
      "Created label for images106.jpg as images106.txt\n",
      "Created label for images138.jpg as images138.txt\n",
      "Created label for images139.jpg as images139.txt\n",
      "Created label for images142.jpg as images142.txt\n",
      "Created label for images150.jpg as images150.txt\n",
      "Created label for images156.jpg as images156.txt\n",
      "Created label for images167.jpg as images167.txt\n",
      "Created label for images27.jpg as images27.txt\n",
      "Created label for images3.jpg as images3.txt\n",
      "Created label for images69.jpg as images69.txt\n",
      "Created label for images7.jpg as images7.txt\n",
      "Created label for images90.jpg as images90.txt\n",
      "Created label for Man_with_tatoos_showing_his_Style_of_his_Dreadlockss_1024x1024.jpg as Man_with_tatoos_showing_his_Style_of_his_Dreadlockss_1024x1024.txt\n",
      "Created label for Melanin20Edit20Locs204.jpg as Melanin20Edit20Locs204.txt\n",
      "Created label for ndmade-Dreadlocks-Hair-Extensions-For-Women-Ombre-Dreadlocks-Braidis-Crochet.jpg as ndmade-Dreadlocks-Hair-Extensions-For-Women-Ombre-Dreadlocks-Braidis-Crochet.txt\n",
      "Created label for Olive-Telma-Kweberaho-shows-her-natural-dreads.jpg as Olive-Telma-Kweberaho-shows-her-natural-dreads.txt\n",
      "Created label for Remettre-ses-dreadlocks-scaled.jpg as Remettre-ses-dreadlocks-scaled.txt\n",
      "Created label for rihanna-as-nine-ball-in-oceans-8-1528105039.jpg as rihanna-as-nine-ball-in-oceans-8-1528105039.txt\n",
      "Created label for sept-2020-how-to-care-for-locs.jpg as sept-2020-how-to-care-for-locs.txt\n",
      "Created label for Short-Dreadlocks_he_blasian_sensation_channel.jpg as Short-Dreadlocks_he_blasian_sensation_channel.txt\n",
      "Created label for shutterstock_1516801229_d5570f892b.jpg as shutterstock_1516801229_d5570f892b.txt\n",
      "Created label for ty-dolla-sign-dreadlocks-862x1024.jpg as ty-dolla-sign-dreadlocks-862x1024.txt\n",
      "Labels have been generated for all images!\n"
     ]
    }
   ],
   "source": [
    "import os\n",
    "\n",
    "# Define hair type class mapping\n",
    "class_mapping = {\n",
    "    \"Straight\": 0,\n",
    "    \"Wavy\": 1,\n",
    "    \"Curly\": 2,\n",
    "    \"Kinky\": 3,\n",
    "    \"Dreadlocks\": 4\n",
    "}\n",
    "\n",
    "# Function to create label files for images\n",
    "def create_labels(image_dir, label_dir):\n",
    "    for hair_type, class_id in class_mapping.items():\n",
    "        # Path to the current class directory (train/curly, train/straight, etc.)\n",
    "        class_image_dir = os.path.join(image_dir, hair_type)\n",
    "        class_label_dir = os.path.join(label_dir, hair_type)\n",
    "\n",
    "        # Create label directory if it doesn't exist\n",
    "        os.makedirs(class_label_dir, exist_ok=True)\n",
    "\n",
    "        # Loop over all the images in the current class directory\n",
    "        for image_file in os.listdir(class_image_dir):\n",
    "            if image_file.endswith(\".jpg\") or image_file.endswith(\".png\"):\n",
    "                # Full image path\n",
    "                image_path = os.path.join(class_image_dir, image_file)\n",
    "                \n",
    "                # Corresponding label file (.txt)\n",
    "                label_file = os.path.splitext(image_file)[0] + \".txt\"\n",
    "                label_path = os.path.join(class_label_dir, label_file)\n",
    "\n",
    "                # Write the label (class_id + bounding box covering entire image)\n",
    "                with open(label_path, 'w') as f:\n",
    "                    # YOLO format: class_id center_x center_y width height (normalized)\n",
    "                    f.write(f\"{class_id} 0.5 0.5 1.0 1.0\\n\")\n",
    "\n",
    "                print(f\"Created label for {image_file} as {label_file}\")\n",
    "\n",
    "# Paths to train and val directories\n",
    "train_image_dir = \"D:/Hair Style Detection/data/train\"\n",
    "val_image_dir = \"D:/Hair Style Detection/data/val\"\n",
    "\n",
    "# The labels will be saved in the same directory as the images\n",
    "train_label_dir = train_image_dir  # Labels will be created in the train directory\n",
    "val_label_dir = val_image_dir  # Labels will be created in the val directory\n",
    "\n",
    "# Create labels for the train and validation sets\n",
    "create_labels(train_image_dir, train_label_dir)\n",
    "create_labels(val_image_dir, val_label_dir)\n",
    "\n",
    "print(\"Labels have been generated for all images!\")\n"
   ]
  },
  {
   "cell_type": "code",
   "execution_count": 30,
   "metadata": {},
   "outputs": [
    {
     "name": "stdout",
     "output_type": "stream",
     "text": [
      "hair_type.yaml file has been created successfully!\n"
     ]
    }
   ],
   "source": [
    "# Define the dataset structure in YAML format (make sure to use spaces, no tabs)\n",
    "data_yaml = \"\"\"\n",
    "train: D:/Hair Style Detection/data/train  # Correct path for training data\n",
    "val: D:/Hair Style Detection/data/val      # Correct path for validation data\n",
    "nc: 5  # Number of classes (Straight, Wavy, Curly, Kinky, Dreadlocks)\n",
    "names: ['Straight', 'Wavy', 'Curly', 'Kinky', 'Dreadlocks']\n",
    "\"\"\"\n",
    "\n",
    "# Save the YAML file\n",
    "with open(\"hair_type.yaml\", \"w\") as f:\n",
    "    f.write(data_yaml)\n",
    "\n",
    "print(\"hair_type.yaml file has been created successfully!\")\n"
   ]
  },
  {
   "cell_type": "code",
   "execution_count": 32,
   "metadata": {},
   "outputs": [
    {
     "name": "stdout",
     "output_type": "stream",
     "text": [
      "Ultralytics 8.3.9  Python-3.8.20 torch-2.4.1+cpu CPU (AMD Ryzen 7 5825U with Radeon Graphics)\n",
      "\u001b[34m\u001b[1mengine\\trainer: \u001b[0mtask=detect, mode=train, model=yolov8n.pt, data=D:/Hair Style Detection/hair_type.yaml, epochs=50, time=None, patience=100, batch=16, imgsz=640, save=True, save_period=-1, cache=False, device=None, workers=8, project=None, name=train, exist_ok=False, pretrained=True, optimizer=auto, verbose=True, seed=0, deterministic=True, single_cls=False, rect=False, cos_lr=False, close_mosaic=10, resume=False, amp=True, fraction=1.0, profile=False, freeze=None, multi_scale=False, overlap_mask=True, mask_ratio=4, dropout=0.0, val=True, split=val, save_json=False, save_hybrid=False, conf=None, iou=0.7, max_det=300, half=False, dnn=False, plots=True, source=None, vid_stride=1, stream_buffer=False, visualize=False, augment=False, agnostic_nms=False, classes=None, retina_masks=False, embed=None, show=False, save_frames=False, save_txt=False, save_conf=False, save_crop=False, show_labels=True, show_conf=True, show_boxes=True, line_width=None, format=torchscript, keras=False, optimize=False, int8=False, dynamic=False, simplify=True, opset=None, workspace=4, nms=False, lr0=0.01, lrf=0.01, momentum=0.937, weight_decay=0.0005, warmup_epochs=3.0, warmup_momentum=0.8, warmup_bias_lr=0.1, box=7.5, cls=0.5, dfl=1.5, pose=12.0, kobj=1.0, label_smoothing=0.0, nbs=64, hsv_h=0.015, hsv_s=0.7, hsv_v=0.4, degrees=0.0, translate=0.1, scale=0.5, shear=0.0, perspective=0.0, flipud=0.0, fliplr=0.5, bgr=0.0, mosaic=1.0, mixup=0.0, copy_paste=0.0, copy_paste_mode=flip, auto_augment=randaugment, erasing=0.4, crop_fraction=1.0, cfg=None, tracker=botsort.yaml, save_dir=runs\\detect\\train\n",
      "Overriding model.yaml nc=80 with nc=5\n",
      "\n",
      "                   from  n    params  module                                       arguments                     \n",
      "  0                  -1  1       464  ultralytics.nn.modules.conv.Conv             [3, 16, 3, 2]                 \n",
      "  1                  -1  1      4672  ultralytics.nn.modules.conv.Conv             [16, 32, 3, 2]                \n",
      "  2                  -1  1      7360  ultralytics.nn.modules.block.C2f             [32, 32, 1, True]             \n",
      "  3                  -1  1     18560  ultralytics.nn.modules.conv.Conv             [32, 64, 3, 2]                \n",
      "  4                  -1  2     49664  ultralytics.nn.modules.block.C2f             [64, 64, 2, True]             \n",
      "  5                  -1  1     73984  ultralytics.nn.modules.conv.Conv             [64, 128, 3, 2]               \n",
      "  6                  -1  2    197632  ultralytics.nn.modules.block.C2f             [128, 128, 2, True]           \n",
      "  7                  -1  1    295424  ultralytics.nn.modules.conv.Conv             [128, 256, 3, 2]              \n",
      "  8                  -1  1    460288  ultralytics.nn.modules.block.C2f             [256, 256, 1, True]           \n",
      "  9                  -1  1    164608  ultralytics.nn.modules.block.SPPF            [256, 256, 5]                 \n",
      " 10                  -1  1         0  torch.nn.modules.upsampling.Upsample         [None, 2, 'nearest']          \n",
      " 11             [-1, 6]  1         0  ultralytics.nn.modules.conv.Concat           [1]                           \n",
      " 12                  -1  1    148224  ultralytics.nn.modules.block.C2f             [384, 128, 1]                 \n",
      " 13                  -1  1         0  torch.nn.modules.upsampling.Upsample         [None, 2, 'nearest']          \n",
      " 14             [-1, 4]  1         0  ultralytics.nn.modules.conv.Concat           [1]                           \n",
      " 15                  -1  1     37248  ultralytics.nn.modules.block.C2f             [192, 64, 1]                  \n",
      " 16                  -1  1     36992  ultralytics.nn.modules.conv.Conv             [64, 64, 3, 2]                \n",
      " 17            [-1, 12]  1         0  ultralytics.nn.modules.conv.Concat           [1]                           \n",
      " 18                  -1  1    123648  ultralytics.nn.modules.block.C2f             [192, 128, 1]                 \n",
      " 19                  -1  1    147712  ultralytics.nn.modules.conv.Conv             [128, 128, 3, 2]              \n",
      " 20             [-1, 9]  1         0  ultralytics.nn.modules.conv.Concat           [1]                           \n",
      " 21                  -1  1    493056  ultralytics.nn.modules.block.C2f             [384, 256, 1]                 \n",
      " 22        [15, 18, 21]  1    431647  ultralytics.nn.modules.head.Detect           [5, [64, 128, 256]]           \n",
      "Model summary: 249 layers, 2,691,183 parameters, 2,691,167 gradients, 6.9 GFLOPs\n",
      "\n",
      "Transferred 313/391 items from pretrained weights\n",
      "Freezing layer 'model.22.dfl.conv.weight'\n"
     ]
    },
    {
     "name": "stderr",
     "output_type": "stream",
     "text": [
      "\u001b[34m\u001b[1mtrain: \u001b[0mScanning D:\\Hair Style Detection\\data\\train\\Straight.cache... 1512 images, 80 backgrounds, 0 corrupt: 100%|██████████| 1592/1592 [00:00<?, ?it/s]\n",
      "\u001b[34m\u001b[1mval: \u001b[0mScanning D:\\Hair Style Detection\\data\\val\\Straight.cache... 378 images, 21 backgrounds, 0 corrupt: 100%|██████████| 399/399 [00:00<?, ?it/s]"
     ]
    },
    {
     "name": "stdout",
     "output_type": "stream",
     "text": [
      "Plotting labels to runs\\detect\\train\\labels.jpg... \n"
     ]
    },
    {
     "name": "stderr",
     "output_type": "stream",
     "text": [
      "\n"
     ]
    },
    {
     "name": "stdout",
     "output_type": "stream",
     "text": [
      "\u001b[34m\u001b[1moptimizer:\u001b[0m 'optimizer=auto' found, ignoring 'lr0=0.01' and 'momentum=0.937' and determining best 'optimizer', 'lr0' and 'momentum' automatically... \n",
      "\u001b[34m\u001b[1moptimizer:\u001b[0m AdamW(lr=0.001111, momentum=0.9) with parameter groups 63 weight(decay=0.0), 70 weight(decay=0.0005), 69 bias(decay=0.0)\n",
      "Image sizes 640 train, 640 val\n",
      "Using 0 dataloader workers\n",
      "Logging results to \u001b[1mruns\\detect\\train\u001b[0m\n",
      "Starting training for 50 epochs...\n",
      "\n",
      "      Epoch    GPU_mem   box_loss   cls_loss   dfl_loss  Instances       Size\n"
     ]
    },
    {
     "name": "stderr",
     "output_type": "stream",
     "text": [
      "       1/50         0G     0.3011      2.716      1.058         20        640: 100%|██████████| 100/100 [09:58<00:00,  5.99s/it]\n",
      "                 Class     Images  Instances      Box(P          R      mAP50  mAP50-95): 100%|██████████| 13/13 [00:53<00:00,  4.10s/it]"
     ]
    },
    {
     "name": "stdout",
     "output_type": "stream",
     "text": [
      "                   all        399        378      0.769      0.177      0.402      0.389\n"
     ]
    },
    {
     "name": "stderr",
     "output_type": "stream",
     "text": [
      "\n"
     ]
    },
    {
     "name": "stdout",
     "output_type": "stream",
     "text": [
      "\n",
      "      Epoch    GPU_mem   box_loss   cls_loss   dfl_loss  Instances       Size\n"
     ]
    },
    {
     "name": "stderr",
     "output_type": "stream",
     "text": [
      "       2/50         0G      0.221      1.616      0.971         23        640: 100%|██████████| 100/100 [10:12<00:00,  6.12s/it]\n",
      "                 Class     Images  Instances      Box(P          R      mAP50  mAP50-95): 100%|██████████| 13/13 [00:48<00:00,  3.76s/it]"
     ]
    },
    {
     "name": "stdout",
     "output_type": "stream",
     "text": [
      "                   all        399        378      0.653      0.686      0.702      0.638\n"
     ]
    },
    {
     "name": "stderr",
     "output_type": "stream",
     "text": [
      "\n"
     ]
    },
    {
     "name": "stdout",
     "output_type": "stream",
     "text": [
      "\n",
      "      Epoch    GPU_mem   box_loss   cls_loss   dfl_loss  Instances       Size\n"
     ]
    },
    {
     "name": "stderr",
     "output_type": "stream",
     "text": [
      "       3/50         0G     0.2027       1.37     0.9457         21        640: 100%|██████████| 100/100 [09:48<00:00,  5.88s/it]\n",
      "                 Class     Images  Instances      Box(P          R      mAP50  mAP50-95): 100%|██████████| 13/13 [00:49<00:00,  3.79s/it]"
     ]
    },
    {
     "name": "stdout",
     "output_type": "stream",
     "text": [
      "                   all        399        378      0.379      0.548      0.521      0.475\n"
     ]
    },
    {
     "name": "stderr",
     "output_type": "stream",
     "text": [
      "\n"
     ]
    },
    {
     "name": "stdout",
     "output_type": "stream",
     "text": [
      "\n",
      "      Epoch    GPU_mem   box_loss   cls_loss   dfl_loss  Instances       Size\n"
     ]
    },
    {
     "name": "stderr",
     "output_type": "stream",
     "text": [
      "       4/50         0G      0.201      1.287     0.9424         22        640: 100%|██████████| 100/100 [10:10<00:00,  6.11s/it]\n",
      "                 Class     Images  Instances      Box(P          R      mAP50  mAP50-95): 100%|██████████| 13/13 [00:51<00:00,  3.93s/it]"
     ]
    },
    {
     "name": "stdout",
     "output_type": "stream",
     "text": [
      "                   all        399        378      0.583      0.722      0.655      0.574\n"
     ]
    },
    {
     "name": "stderr",
     "output_type": "stream",
     "text": [
      "\n"
     ]
    },
    {
     "name": "stdout",
     "output_type": "stream",
     "text": [
      "\n",
      "      Epoch    GPU_mem   box_loss   cls_loss   dfl_loss  Instances       Size\n"
     ]
    },
    {
     "name": "stderr",
     "output_type": "stream",
     "text": [
      "       5/50         0G     0.1732       1.14      0.933         25        640: 100%|██████████| 100/100 [09:56<00:00,  5.97s/it]\n",
      "                 Class     Images  Instances      Box(P          R      mAP50  mAP50-95): 100%|██████████| 13/13 [00:48<00:00,  3.76s/it]"
     ]
    },
    {
     "name": "stdout",
     "output_type": "stream",
     "text": [
      "                   all        399        378       0.69      0.774      0.784      0.775\n"
     ]
    },
    {
     "name": "stderr",
     "output_type": "stream",
     "text": [
      "\n"
     ]
    },
    {
     "name": "stdout",
     "output_type": "stream",
     "text": [
      "\n",
      "      Epoch    GPU_mem   box_loss   cls_loss   dfl_loss  Instances       Size\n"
     ]
    },
    {
     "name": "stderr",
     "output_type": "stream",
     "text": [
      "       6/50         0G     0.1643      1.081     0.9285         22        640: 100%|██████████| 100/100 [10:13<00:00,  6.13s/it]\n",
      "                 Class     Images  Instances      Box(P          R      mAP50  mAP50-95): 100%|██████████| 13/13 [00:51<00:00,  3.99s/it]"
     ]
    },
    {
     "name": "stdout",
     "output_type": "stream",
     "text": [
      "                   all        399        378      0.663      0.781      0.783      0.777\n"
     ]
    },
    {
     "name": "stderr",
     "output_type": "stream",
     "text": [
      "\n"
     ]
    },
    {
     "name": "stdout",
     "output_type": "stream",
     "text": [
      "\n",
      "      Epoch    GPU_mem   box_loss   cls_loss   dfl_loss  Instances       Size\n"
     ]
    },
    {
     "name": "stderr",
     "output_type": "stream",
     "text": [
      "       7/50         0G     0.1632      1.029     0.9289         20        640: 100%|██████████| 100/100 [11:41<00:00,  7.02s/it]\n",
      "                 Class     Images  Instances      Box(P          R      mAP50  mAP50-95): 100%|██████████| 13/13 [01:01<00:00,  4.75s/it]"
     ]
    },
    {
     "name": "stdout",
     "output_type": "stream",
     "text": [
      "                   all        399        378      0.696      0.811      0.813      0.786\n"
     ]
    },
    {
     "name": "stderr",
     "output_type": "stream",
     "text": [
      "\n"
     ]
    },
    {
     "name": "stdout",
     "output_type": "stream",
     "text": [
      "\n",
      "      Epoch    GPU_mem   box_loss   cls_loss   dfl_loss  Instances       Size\n"
     ]
    },
    {
     "name": "stderr",
     "output_type": "stream",
     "text": [
      "       8/50         0G     0.1475     0.9992     0.9139         27        640: 100%|██████████| 100/100 [09:47<00:00,  5.87s/it]\n",
      "                 Class     Images  Instances      Box(P          R      mAP50  mAP50-95): 100%|██████████| 13/13 [00:47<00:00,  3.64s/it]"
     ]
    },
    {
     "name": "stdout",
     "output_type": "stream",
     "text": [
      "                   all        399        378       0.76      0.781      0.851      0.843\n"
     ]
    },
    {
     "name": "stderr",
     "output_type": "stream",
     "text": [
      "\n"
     ]
    },
    {
     "name": "stdout",
     "output_type": "stream",
     "text": [
      "\n",
      "      Epoch    GPU_mem   box_loss   cls_loss   dfl_loss  Instances       Size\n"
     ]
    },
    {
     "name": "stderr",
     "output_type": "stream",
     "text": [
      "       9/50         0G      0.142     0.9415     0.9121         28        640: 100%|██████████| 100/100 [09:25<00:00,  5.65s/it]\n",
      "                 Class     Images  Instances      Box(P          R      mAP50  mAP50-95): 100%|██████████| 13/13 [00:46<00:00,  3.58s/it]"
     ]
    },
    {
     "name": "stdout",
     "output_type": "stream",
     "text": [
      "                   all        399        378      0.731       0.71      0.771      0.763\n"
     ]
    },
    {
     "name": "stderr",
     "output_type": "stream",
     "text": [
      "\n"
     ]
    },
    {
     "name": "stdout",
     "output_type": "stream",
     "text": [
      "\n",
      "      Epoch    GPU_mem   box_loss   cls_loss   dfl_loss  Instances       Size\n"
     ]
    },
    {
     "name": "stderr",
     "output_type": "stream",
     "text": [
      "      10/50         0G      0.135     0.9169     0.9124         26        640: 100%|██████████| 100/100 [09:24<00:00,  5.64s/it]\n",
      "                 Class     Images  Instances      Box(P          R      mAP50  mAP50-95): 100%|██████████| 13/13 [00:46<00:00,  3.55s/it]"
     ]
    },
    {
     "name": "stdout",
     "output_type": "stream",
     "text": [
      "                   all        399        378      0.754      0.847      0.885      0.882\n"
     ]
    },
    {
     "name": "stderr",
     "output_type": "stream",
     "text": [
      "\n"
     ]
    },
    {
     "name": "stdout",
     "output_type": "stream",
     "text": [
      "\n",
      "      Epoch    GPU_mem   box_loss   cls_loss   dfl_loss  Instances       Size\n"
     ]
    },
    {
     "name": "stderr",
     "output_type": "stream",
     "text": [
      "      11/50         0G     0.1267     0.8894     0.9046         21        640: 100%|██████████| 100/100 [09:24<00:00,  5.65s/it]\n",
      "                 Class     Images  Instances      Box(P          R      mAP50  mAP50-95): 100%|██████████| 13/13 [00:46<00:00,  3.55s/it]"
     ]
    },
    {
     "name": "stdout",
     "output_type": "stream",
     "text": [
      "                   all        399        378      0.617      0.688      0.694      0.666\n"
     ]
    },
    {
     "name": "stderr",
     "output_type": "stream",
     "text": [
      "\n"
     ]
    },
    {
     "name": "stdout",
     "output_type": "stream",
     "text": [
      "\n",
      "      Epoch    GPU_mem   box_loss   cls_loss   dfl_loss  Instances       Size\n"
     ]
    },
    {
     "name": "stderr",
     "output_type": "stream",
     "text": [
      "      12/50         0G     0.1299      0.833     0.9121         26        640: 100%|██████████| 100/100 [09:23<00:00,  5.64s/it]\n",
      "                 Class     Images  Instances      Box(P          R      mAP50  mAP50-95): 100%|██████████| 13/13 [00:46<00:00,  3.54s/it]"
     ]
    },
    {
     "name": "stdout",
     "output_type": "stream",
     "text": [
      "                   all        399        378      0.745      0.818       0.86      0.849\n"
     ]
    },
    {
     "name": "stderr",
     "output_type": "stream",
     "text": [
      "\n"
     ]
    },
    {
     "name": "stdout",
     "output_type": "stream",
     "text": [
      "\n",
      "      Epoch    GPU_mem   box_loss   cls_loss   dfl_loss  Instances       Size\n"
     ]
    },
    {
     "name": "stderr",
     "output_type": "stream",
     "text": [
      "      13/50         0G     0.1233     0.8318      0.907         19        640: 100%|██████████| 100/100 [10:02<00:00,  6.02s/it]\n",
      "                 Class     Images  Instances      Box(P          R      mAP50  mAP50-95): 100%|██████████| 13/13 [00:49<00:00,  3.79s/it]"
     ]
    },
    {
     "name": "stdout",
     "output_type": "stream",
     "text": [
      "                   all        399        378       0.64      0.761       0.81      0.802\n"
     ]
    },
    {
     "name": "stderr",
     "output_type": "stream",
     "text": [
      "\n"
     ]
    },
    {
     "name": "stdout",
     "output_type": "stream",
     "text": [
      "\n",
      "      Epoch    GPU_mem   box_loss   cls_loss   dfl_loss  Instances       Size\n"
     ]
    },
    {
     "name": "stderr",
     "output_type": "stream",
     "text": [
      "      14/50         0G     0.1234     0.8321      0.909         18        640: 100%|██████████| 100/100 [09:59<00:00,  5.99s/it]\n",
      "                 Class     Images  Instances      Box(P          R      mAP50  mAP50-95): 100%|██████████| 13/13 [00:47<00:00,  3.67s/it]"
     ]
    },
    {
     "name": "stdout",
     "output_type": "stream",
     "text": [
      "                   all        399        378        0.8      0.877      0.884       0.87\n"
     ]
    },
    {
     "name": "stderr",
     "output_type": "stream",
     "text": [
      "\n"
     ]
    },
    {
     "name": "stdout",
     "output_type": "stream",
     "text": [
      "\n",
      "      Epoch    GPU_mem   box_loss   cls_loss   dfl_loss  Instances       Size\n"
     ]
    },
    {
     "name": "stderr",
     "output_type": "stream",
     "text": [
      "      15/50         0G     0.1183      0.784     0.9034         28        640: 100%|██████████| 100/100 [09:59<00:00,  5.99s/it]\n",
      "                 Class     Images  Instances      Box(P          R      mAP50  mAP50-95): 100%|██████████| 13/13 [01:05<00:00,  5.03s/it]"
     ]
    },
    {
     "name": "stdout",
     "output_type": "stream",
     "text": [
      "                   all        399        378      0.842      0.885      0.909      0.892\n"
     ]
    },
    {
     "name": "stderr",
     "output_type": "stream",
     "text": [
      "\n"
     ]
    },
    {
     "name": "stdout",
     "output_type": "stream",
     "text": [
      "\n",
      "      Epoch    GPU_mem   box_loss   cls_loss   dfl_loss  Instances       Size\n"
     ]
    },
    {
     "name": "stderr",
     "output_type": "stream",
     "text": [
      "      16/50         0G      0.111     0.7766     0.9035         21        640: 100%|██████████| 100/100 [11:48<00:00,  7.09s/it]\n",
      "                 Class     Images  Instances      Box(P          R      mAP50  mAP50-95): 100%|██████████| 13/13 [00:44<00:00,  3.44s/it]"
     ]
    },
    {
     "name": "stdout",
     "output_type": "stream",
     "text": [
      "                   all        399        378      0.628      0.797      0.834      0.833\n"
     ]
    },
    {
     "name": "stderr",
     "output_type": "stream",
     "text": [
      "\n"
     ]
    },
    {
     "name": "stdout",
     "output_type": "stream",
     "text": [
      "\n",
      "      Epoch    GPU_mem   box_loss   cls_loss   dfl_loss  Instances       Size\n"
     ]
    },
    {
     "name": "stderr",
     "output_type": "stream",
     "text": [
      "      17/50         0G     0.1053     0.7935     0.8982         26        640: 100%|██████████| 100/100 [10:01<00:00,  6.02s/it]\n",
      "                 Class     Images  Instances      Box(P          R      mAP50  mAP50-95): 100%|██████████| 13/13 [00:49<00:00,  3.79s/it]"
     ]
    },
    {
     "name": "stdout",
     "output_type": "stream",
     "text": [
      "                   all        399        378      0.793      0.874        0.9      0.887\n"
     ]
    },
    {
     "name": "stderr",
     "output_type": "stream",
     "text": [
      "\n"
     ]
    },
    {
     "name": "stdout",
     "output_type": "stream",
     "text": [
      "\n",
      "      Epoch    GPU_mem   box_loss   cls_loss   dfl_loss  Instances       Size\n"
     ]
    },
    {
     "name": "stderr",
     "output_type": "stream",
     "text": [
      "      18/50         0G     0.1063     0.7598     0.8929         22        640: 100%|██████████| 100/100 [10:03<00:00,  6.04s/it]\n",
      "                 Class     Images  Instances      Box(P          R      mAP50  mAP50-95): 100%|██████████| 13/13 [00:50<00:00,  3.85s/it]"
     ]
    },
    {
     "name": "stdout",
     "output_type": "stream",
     "text": [
      "                   all        399        378      0.783      0.821       0.87      0.864\n"
     ]
    },
    {
     "name": "stderr",
     "output_type": "stream",
     "text": [
      "\n"
     ]
    },
    {
     "name": "stdout",
     "output_type": "stream",
     "text": [
      "\n",
      "      Epoch    GPU_mem   box_loss   cls_loss   dfl_loss  Instances       Size\n"
     ]
    },
    {
     "name": "stderr",
     "output_type": "stream",
     "text": [
      "      19/50         0G     0.0993     0.7592     0.8911         32        640: 100%|██████████| 100/100 [10:10<00:00,  6.10s/it]\n",
      "                 Class     Images  Instances      Box(P          R      mAP50  mAP50-95): 100%|██████████| 13/13 [00:50<00:00,  3.91s/it]"
     ]
    },
    {
     "name": "stdout",
     "output_type": "stream",
     "text": [
      "                   all        399        378      0.808      0.864      0.905      0.889\n"
     ]
    },
    {
     "name": "stderr",
     "output_type": "stream",
     "text": [
      "\n"
     ]
    },
    {
     "name": "stdout",
     "output_type": "stream",
     "text": [
      "\n",
      "      Epoch    GPU_mem   box_loss   cls_loss   dfl_loss  Instances       Size\n"
     ]
    },
    {
     "name": "stderr",
     "output_type": "stream",
     "text": [
      "      20/50         0G    0.09701     0.7329     0.8958         25        640: 100%|██████████| 100/100 [1:11:58<00:00, 43.18s/it]    \n",
      "                 Class     Images  Instances      Box(P          R      mAP50  mAP50-95): 100%|██████████| 13/13 [00:48<00:00,  3.77s/it]"
     ]
    },
    {
     "name": "stdout",
     "output_type": "stream",
     "text": [
      "                   all        399        378      0.869      0.847      0.927      0.911\n"
     ]
    },
    {
     "name": "stderr",
     "output_type": "stream",
     "text": [
      "\n"
     ]
    },
    {
     "name": "stdout",
     "output_type": "stream",
     "text": [
      "\n",
      "      Epoch    GPU_mem   box_loss   cls_loss   dfl_loss  Instances       Size\n"
     ]
    },
    {
     "name": "stderr",
     "output_type": "stream",
     "text": [
      "      21/50         0G    0.09997     0.6965     0.8995         18        640: 100%|██████████| 100/100 [09:50<00:00,  5.91s/it]\n",
      "                 Class     Images  Instances      Box(P          R      mAP50  mAP50-95): 100%|██████████| 13/13 [00:47<00:00,  3.63s/it]"
     ]
    },
    {
     "name": "stdout",
     "output_type": "stream",
     "text": [
      "                   all        399        378      0.844      0.887      0.931       0.92\n"
     ]
    },
    {
     "name": "stderr",
     "output_type": "stream",
     "text": [
      "\n"
     ]
    },
    {
     "name": "stdout",
     "output_type": "stream",
     "text": [
      "\n",
      "      Epoch    GPU_mem   box_loss   cls_loss   dfl_loss  Instances       Size\n"
     ]
    },
    {
     "name": "stderr",
     "output_type": "stream",
     "text": [
      "      22/50         0G    0.09524     0.6876     0.8924         28        640: 100%|██████████| 100/100 [09:54<00:00,  5.95s/it]\n",
      "                 Class     Images  Instances      Box(P          R      mAP50  mAP50-95): 100%|██████████| 13/13 [00:55<00:00,  4.27s/it]"
     ]
    },
    {
     "name": "stdout",
     "output_type": "stream",
     "text": [
      "                   all        399        378      0.813      0.816      0.903      0.897\n"
     ]
    },
    {
     "name": "stderr",
     "output_type": "stream",
     "text": [
      "\n"
     ]
    },
    {
     "name": "stdout",
     "output_type": "stream",
     "text": [
      "\n",
      "      Epoch    GPU_mem   box_loss   cls_loss   dfl_loss  Instances       Size\n"
     ]
    },
    {
     "name": "stderr",
     "output_type": "stream",
     "text": [
      "      23/50         0G    0.09588     0.6824     0.8915         29        640: 100%|██████████| 100/100 [11:23<00:00,  6.83s/it]\n",
      "                 Class     Images  Instances      Box(P          R      mAP50  mAP50-95): 100%|██████████| 13/13 [00:55<00:00,  4.28s/it]"
     ]
    },
    {
     "name": "stdout",
     "output_type": "stream",
     "text": [
      "                   all        399        378       0.81      0.869       0.91      0.897\n"
     ]
    },
    {
     "name": "stderr",
     "output_type": "stream",
     "text": [
      "\n"
     ]
    },
    {
     "name": "stdout",
     "output_type": "stream",
     "text": [
      "\n",
      "      Epoch    GPU_mem   box_loss   cls_loss   dfl_loss  Instances       Size\n"
     ]
    },
    {
     "name": "stderr",
     "output_type": "stream",
     "text": [
      "      24/50         0G    0.09107     0.6915      0.891         26        640: 100%|██████████| 100/100 [2:28:21<00:00, 89.01s/it]    \n",
      "                 Class     Images  Instances      Box(P          R      mAP50  mAP50-95): 100%|██████████| 13/13 [00:54<00:00,  4.19s/it]"
     ]
    },
    {
     "name": "stdout",
     "output_type": "stream",
     "text": [
      "                   all        399        378      0.828      0.815      0.906      0.891\n"
     ]
    },
    {
     "name": "stderr",
     "output_type": "stream",
     "text": [
      "\n"
     ]
    },
    {
     "name": "stdout",
     "output_type": "stream",
     "text": [
      "\n",
      "      Epoch    GPU_mem   box_loss   cls_loss   dfl_loss  Instances       Size\n"
     ]
    },
    {
     "name": "stderr",
     "output_type": "stream",
     "text": [
      "      25/50         0G     0.0849     0.6553     0.8889         24        640: 100%|██████████| 100/100 [10:49<00:00,  6.49s/it]\n",
      "                 Class     Images  Instances      Box(P          R      mAP50  mAP50-95): 100%|██████████| 13/13 [00:51<00:00,  3.98s/it]"
     ]
    },
    {
     "name": "stdout",
     "output_type": "stream",
     "text": [
      "                   all        399        378      0.827      0.896      0.928       0.92\n"
     ]
    },
    {
     "name": "stderr",
     "output_type": "stream",
     "text": [
      "\n"
     ]
    },
    {
     "name": "stdout",
     "output_type": "stream",
     "text": [
      "\n",
      "      Epoch    GPU_mem   box_loss   cls_loss   dfl_loss  Instances       Size\n"
     ]
    },
    {
     "name": "stderr",
     "output_type": "stream",
     "text": [
      "      26/50         0G    0.08579     0.6516     0.8916         25        640: 100%|██████████| 100/100 [09:42<00:00,  5.82s/it]\n",
      "                 Class     Images  Instances      Box(P          R      mAP50  mAP50-95): 100%|██████████| 13/13 [00:47<00:00,  3.62s/it]"
     ]
    },
    {
     "name": "stdout",
     "output_type": "stream",
     "text": [
      "                   all        399        378      0.815      0.836      0.911      0.905\n"
     ]
    },
    {
     "name": "stderr",
     "output_type": "stream",
     "text": [
      "\n"
     ]
    },
    {
     "name": "stdout",
     "output_type": "stream",
     "text": [
      "\n",
      "      Epoch    GPU_mem   box_loss   cls_loss   dfl_loss  Instances       Size\n"
     ]
    },
    {
     "name": "stderr",
     "output_type": "stream",
     "text": [
      "      27/50         0G    0.08457     0.6464     0.8879         20        640: 100%|██████████| 100/100 [09:36<00:00,  5.77s/it]\n",
      "                 Class     Images  Instances      Box(P          R      mAP50  mAP50-95): 100%|██████████| 13/13 [00:47<00:00,  3.66s/it]"
     ]
    },
    {
     "name": "stdout",
     "output_type": "stream",
     "text": [
      "                   all        399        378      0.738      0.873      0.914      0.907\n"
     ]
    },
    {
     "name": "stderr",
     "output_type": "stream",
     "text": [
      "\n"
     ]
    },
    {
     "name": "stdout",
     "output_type": "stream",
     "text": [
      "\n",
      "      Epoch    GPU_mem   box_loss   cls_loss   dfl_loss  Instances       Size\n"
     ]
    },
    {
     "name": "stderr",
     "output_type": "stream",
     "text": [
      "      28/50         0G    0.08017     0.6504     0.8862         19        640: 100%|██████████| 100/100 [09:29<00:00,  5.69s/it]\n",
      "                 Class     Images  Instances      Box(P          R      mAP50  mAP50-95): 100%|██████████| 13/13 [00:46<00:00,  3.56s/it]"
     ]
    },
    {
     "name": "stdout",
     "output_type": "stream",
     "text": [
      "                   all        399        378      0.817      0.817      0.889      0.868\n"
     ]
    },
    {
     "name": "stderr",
     "output_type": "stream",
     "text": [
      "\n"
     ]
    },
    {
     "name": "stdout",
     "output_type": "stream",
     "text": [
      "\n",
      "      Epoch    GPU_mem   box_loss   cls_loss   dfl_loss  Instances       Size\n"
     ]
    },
    {
     "name": "stderr",
     "output_type": "stream",
     "text": [
      "      29/50         0G    0.07822     0.6336     0.8872         21        640: 100%|██████████| 100/100 [09:03<00:00,  5.44s/it]\n",
      "                 Class     Images  Instances      Box(P          R      mAP50  mAP50-95): 100%|██████████| 13/13 [00:42<00:00,  3.30s/it]"
     ]
    },
    {
     "name": "stdout",
     "output_type": "stream",
     "text": [
      "                   all        399        378      0.879      0.882      0.945      0.943\n"
     ]
    },
    {
     "name": "stderr",
     "output_type": "stream",
     "text": [
      "\n"
     ]
    },
    {
     "name": "stdout",
     "output_type": "stream",
     "text": [
      "\n",
      "      Epoch    GPU_mem   box_loss   cls_loss   dfl_loss  Instances       Size\n"
     ]
    },
    {
     "name": "stderr",
     "output_type": "stream",
     "text": [
      "      30/50         0G     0.0784     0.6132     0.8866         16        640: 100%|██████████| 100/100 [09:42<00:00,  5.82s/it]\n",
      "                 Class     Images  Instances      Box(P          R      mAP50  mAP50-95): 100%|██████████| 13/13 [00:45<00:00,  3.51s/it]"
     ]
    },
    {
     "name": "stdout",
     "output_type": "stream",
     "text": [
      "                   all        399        378      0.846      0.913       0.93      0.924\n"
     ]
    },
    {
     "name": "stderr",
     "output_type": "stream",
     "text": [
      "\n"
     ]
    },
    {
     "name": "stdout",
     "output_type": "stream",
     "text": [
      "\n",
      "      Epoch    GPU_mem   box_loss   cls_loss   dfl_loss  Instances       Size\n"
     ]
    },
    {
     "name": "stderr",
     "output_type": "stream",
     "text": [
      "      31/50         0G    0.07578     0.5987     0.8893         23        640: 100%|██████████| 100/100 [09:28<00:00,  5.69s/it]\n",
      "                 Class     Images  Instances      Box(P          R      mAP50  mAP50-95): 100%|██████████| 13/13 [00:46<00:00,  3.59s/it]"
     ]
    },
    {
     "name": "stdout",
     "output_type": "stream",
     "text": [
      "                   all        399        378      0.823      0.872      0.917      0.909\n"
     ]
    },
    {
     "name": "stderr",
     "output_type": "stream",
     "text": [
      "\n"
     ]
    },
    {
     "name": "stdout",
     "output_type": "stream",
     "text": [
      "\n",
      "      Epoch    GPU_mem   box_loss   cls_loss   dfl_loss  Instances       Size\n"
     ]
    },
    {
     "name": "stderr",
     "output_type": "stream",
     "text": [
      "      32/50         0G    0.07467     0.6346      0.892         27        640: 100%|██████████| 100/100 [09:08<00:00,  5.49s/it]\n",
      "                 Class     Images  Instances      Box(P          R      mAP50  mAP50-95): 100%|██████████| 13/13 [00:44<00:00,  3.41s/it]"
     ]
    },
    {
     "name": "stdout",
     "output_type": "stream",
     "text": [
      "                   all        399        378      0.818      0.895       0.92      0.917\n"
     ]
    },
    {
     "name": "stderr",
     "output_type": "stream",
     "text": [
      "\n"
     ]
    },
    {
     "name": "stdout",
     "output_type": "stream",
     "text": [
      "\n",
      "      Epoch    GPU_mem   box_loss   cls_loss   dfl_loss  Instances       Size\n"
     ]
    },
    {
     "name": "stderr",
     "output_type": "stream",
     "text": [
      "      33/50         0G    0.06668     0.6064     0.8874         18        640: 100%|██████████| 100/100 [08:54<00:00,  5.35s/it]\n",
      "                 Class     Images  Instances      Box(P          R      mAP50  mAP50-95): 100%|██████████| 13/13 [00:43<00:00,  3.32s/it]"
     ]
    },
    {
     "name": "stdout",
     "output_type": "stream",
     "text": [
      "                   all        399        378      0.863      0.842      0.924       0.92\n"
     ]
    },
    {
     "name": "stderr",
     "output_type": "stream",
     "text": [
      "\n"
     ]
    },
    {
     "name": "stdout",
     "output_type": "stream",
     "text": [
      "\n",
      "      Epoch    GPU_mem   box_loss   cls_loss   dfl_loss  Instances       Size\n"
     ]
    },
    {
     "name": "stderr",
     "output_type": "stream",
     "text": [
      "      34/50         0G    0.06798     0.6005     0.8876         27        640: 100%|██████████| 100/100 [08:51<00:00,  5.32s/it]\n",
      "                 Class     Images  Instances      Box(P          R      mAP50  mAP50-95): 100%|██████████| 13/13 [00:43<00:00,  3.31s/it]"
     ]
    },
    {
     "name": "stdout",
     "output_type": "stream",
     "text": [
      "                   all        399        378      0.866      0.897      0.932      0.919\n"
     ]
    },
    {
     "name": "stderr",
     "output_type": "stream",
     "text": [
      "\n"
     ]
    },
    {
     "name": "stdout",
     "output_type": "stream",
     "text": [
      "\n",
      "      Epoch    GPU_mem   box_loss   cls_loss   dfl_loss  Instances       Size\n"
     ]
    },
    {
     "name": "stderr",
     "output_type": "stream",
     "text": [
      "      35/50         0G    0.07266     0.5897     0.8926         20        640: 100%|██████████| 100/100 [08:51<00:00,  5.31s/it]\n",
      "                 Class     Images  Instances      Box(P          R      mAP50  mAP50-95): 100%|██████████| 13/13 [00:43<00:00,  3.33s/it]"
     ]
    },
    {
     "name": "stdout",
     "output_type": "stream",
     "text": [
      "                   all        399        378      0.831      0.878       0.92      0.905\n"
     ]
    },
    {
     "name": "stderr",
     "output_type": "stream",
     "text": [
      "\n"
     ]
    },
    {
     "name": "stdout",
     "output_type": "stream",
     "text": [
      "\n",
      "      Epoch    GPU_mem   box_loss   cls_loss   dfl_loss  Instances       Size\n"
     ]
    },
    {
     "name": "stderr",
     "output_type": "stream",
     "text": [
      "      36/50         0G    0.06524     0.5703     0.8785         27        640: 100%|██████████| 100/100 [08:50<00:00,  5.30s/it]\n",
      "                 Class     Images  Instances      Box(P          R      mAP50  mAP50-95): 100%|██████████| 13/13 [00:42<00:00,  3.30s/it]"
     ]
    },
    {
     "name": "stdout",
     "output_type": "stream",
     "text": [
      "                   all        399        378      0.838      0.914      0.942      0.937\n"
     ]
    },
    {
     "name": "stderr",
     "output_type": "stream",
     "text": [
      "\n"
     ]
    },
    {
     "name": "stdout",
     "output_type": "stream",
     "text": [
      "\n",
      "      Epoch    GPU_mem   box_loss   cls_loss   dfl_loss  Instances       Size\n"
     ]
    },
    {
     "name": "stderr",
     "output_type": "stream",
     "text": [
      "      37/50         0G    0.06182     0.5474     0.8794         26        640: 100%|██████████| 100/100 [09:01<00:00,  5.42s/it]\n",
      "                 Class     Images  Instances      Box(P          R      mAP50  mAP50-95): 100%|██████████| 13/13 [00:43<00:00,  3.38s/it]"
     ]
    },
    {
     "name": "stdout",
     "output_type": "stream",
     "text": [
      "                   all        399        378      0.872       0.88      0.935      0.929\n"
     ]
    },
    {
     "name": "stderr",
     "output_type": "stream",
     "text": [
      "\n"
     ]
    },
    {
     "name": "stdout",
     "output_type": "stream",
     "text": [
      "\n",
      "      Epoch    GPU_mem   box_loss   cls_loss   dfl_loss  Instances       Size\n"
     ]
    },
    {
     "name": "stderr",
     "output_type": "stream",
     "text": [
      "      38/50         0G    0.06379     0.5614     0.8814         25        640: 100%|██████████| 100/100 [09:03<00:00,  5.43s/it]\n",
      "                 Class     Images  Instances      Box(P          R      mAP50  mAP50-95): 100%|██████████| 13/13 [00:43<00:00,  3.36s/it]"
     ]
    },
    {
     "name": "stdout",
     "output_type": "stream",
     "text": [
      "                   all        399        378      0.869      0.901      0.942      0.938\n"
     ]
    },
    {
     "name": "stderr",
     "output_type": "stream",
     "text": [
      "\n"
     ]
    },
    {
     "name": "stdout",
     "output_type": "stream",
     "text": [
      "\n",
      "      Epoch    GPU_mem   box_loss   cls_loss   dfl_loss  Instances       Size\n"
     ]
    },
    {
     "name": "stderr",
     "output_type": "stream",
     "text": [
      "      39/50         0G    0.05896     0.5245     0.8786         16        640: 100%|██████████| 100/100 [09:01<00:00,  5.41s/it]\n",
      "                 Class     Images  Instances      Box(P          R      mAP50  mAP50-95): 100%|██████████| 13/13 [00:43<00:00,  3.35s/it]"
     ]
    },
    {
     "name": "stdout",
     "output_type": "stream",
     "text": [
      "                   all        399        378      0.825      0.905      0.945      0.938\n"
     ]
    },
    {
     "name": "stderr",
     "output_type": "stream",
     "text": [
      "\n"
     ]
    },
    {
     "name": "stdout",
     "output_type": "stream",
     "text": [
      "\n",
      "      Epoch    GPU_mem   box_loss   cls_loss   dfl_loss  Instances       Size\n"
     ]
    },
    {
     "name": "stderr",
     "output_type": "stream",
     "text": [
      "      40/50         0G    0.06345      0.522     0.8795         23        640: 100%|██████████| 100/100 [09:03<00:00,  5.43s/it]\n",
      "                 Class     Images  Instances      Box(P          R      mAP50  mAP50-95): 100%|██████████| 13/13 [00:43<00:00,  3.36s/it]"
     ]
    },
    {
     "name": "stdout",
     "output_type": "stream",
     "text": [
      "                   all        399        378      0.884       0.91      0.953      0.944\n"
     ]
    },
    {
     "name": "stderr",
     "output_type": "stream",
     "text": [
      "\n"
     ]
    },
    {
     "name": "stdout",
     "output_type": "stream",
     "text": [
      "Closing dataloader mosaic\n",
      "\n",
      "      Epoch    GPU_mem   box_loss   cls_loss   dfl_loss  Instances       Size\n"
     ]
    },
    {
     "name": "stderr",
     "output_type": "stream",
     "text": [
      "      41/50         0G     0.0727       0.42     0.8887          8        640: 100%|██████████| 100/100 [08:56<00:00,  5.37s/it]\n",
      "                 Class     Images  Instances      Box(P          R      mAP50  mAP50-95): 100%|██████████| 13/13 [00:43<00:00,  3.34s/it]"
     ]
    },
    {
     "name": "stdout",
     "output_type": "stream",
     "text": [
      "                   all        399        378      0.879      0.872      0.922       0.92\n"
     ]
    },
    {
     "name": "stderr",
     "output_type": "stream",
     "text": [
      "\n"
     ]
    },
    {
     "name": "stdout",
     "output_type": "stream",
     "text": [
      "\n",
      "      Epoch    GPU_mem   box_loss   cls_loss   dfl_loss  Instances       Size\n"
     ]
    },
    {
     "name": "stderr",
     "output_type": "stream",
     "text": [
      "      42/50         0G    0.05857     0.3728     0.8746          8        640: 100%|██████████| 100/100 [09:01<00:00,  5.41s/it]\n",
      "                 Class     Images  Instances      Box(P          R      mAP50  mAP50-95): 100%|██████████| 13/13 [00:44<00:00,  3.39s/it]"
     ]
    },
    {
     "name": "stdout",
     "output_type": "stream",
     "text": [
      "                   all        399        378      0.827      0.885      0.921      0.918\n"
     ]
    },
    {
     "name": "stderr",
     "output_type": "stream",
     "text": [
      "\n"
     ]
    },
    {
     "name": "stdout",
     "output_type": "stream",
     "text": [
      "\n",
      "      Epoch    GPU_mem   box_loss   cls_loss   dfl_loss  Instances       Size\n"
     ]
    },
    {
     "name": "stderr",
     "output_type": "stream",
     "text": [
      "      43/50         0G    0.05445     0.3242     0.8719          8        640: 100%|██████████| 100/100 [08:58<00:00,  5.39s/it]\n",
      "                 Class     Images  Instances      Box(P          R      mAP50  mAP50-95): 100%|██████████| 13/13 [00:44<00:00,  3.40s/it]"
     ]
    },
    {
     "name": "stdout",
     "output_type": "stream",
     "text": [
      "                   all        399        378      0.865      0.921      0.944       0.94\n"
     ]
    },
    {
     "name": "stderr",
     "output_type": "stream",
     "text": [
      "\n"
     ]
    },
    {
     "name": "stdout",
     "output_type": "stream",
     "text": [
      "\n",
      "      Epoch    GPU_mem   box_loss   cls_loss   dfl_loss  Instances       Size\n"
     ]
    },
    {
     "name": "stderr",
     "output_type": "stream",
     "text": [
      "      44/50         0G    0.05168     0.3034     0.8831          8        640: 100%|██████████| 100/100 [08:59<00:00,  5.39s/it]\n",
      "                 Class     Images  Instances      Box(P          R      mAP50  mAP50-95): 100%|██████████| 13/13 [00:43<00:00,  3.35s/it]"
     ]
    },
    {
     "name": "stdout",
     "output_type": "stream",
     "text": [
      "                   all        399        378      0.895      0.896      0.941      0.938\n"
     ]
    },
    {
     "name": "stderr",
     "output_type": "stream",
     "text": [
      "\n"
     ]
    },
    {
     "name": "stdout",
     "output_type": "stream",
     "text": [
      "\n",
      "      Epoch    GPU_mem   box_loss   cls_loss   dfl_loss  Instances       Size\n"
     ]
    },
    {
     "name": "stderr",
     "output_type": "stream",
     "text": [
      "      45/50         0G    0.04789     0.2979     0.8726          7        640: 100%|██████████| 100/100 [08:55<00:00,  5.36s/it]\n",
      "                 Class     Images  Instances      Box(P          R      mAP50  mAP50-95): 100%|██████████| 13/13 [00:43<00:00,  3.34s/it]"
     ]
    },
    {
     "name": "stdout",
     "output_type": "stream",
     "text": [
      "                   all        399        378      0.891      0.878      0.945       0.94\n"
     ]
    },
    {
     "name": "stderr",
     "output_type": "stream",
     "text": [
      "\n"
     ]
    },
    {
     "name": "stdout",
     "output_type": "stream",
     "text": [
      "\n",
      "      Epoch    GPU_mem   box_loss   cls_loss   dfl_loss  Instances       Size\n"
     ]
    },
    {
     "name": "stderr",
     "output_type": "stream",
     "text": [
      "      46/50         0G    0.04652     0.2714     0.8654          7        640: 100%|██████████| 100/100 [08:55<00:00,  5.36s/it]\n",
      "                 Class     Images  Instances      Box(P          R      mAP50  mAP50-95): 100%|██████████| 13/13 [00:54<00:00,  4.18s/it]"
     ]
    },
    {
     "name": "stdout",
     "output_type": "stream",
     "text": [
      "                   all        399        378       0.86      0.888      0.937      0.935\n"
     ]
    },
    {
     "name": "stderr",
     "output_type": "stream",
     "text": [
      "\n"
     ]
    },
    {
     "name": "stdout",
     "output_type": "stream",
     "text": [
      "\n",
      "      Epoch    GPU_mem   box_loss   cls_loss   dfl_loss  Instances       Size\n"
     ]
    },
    {
     "name": "stderr",
     "output_type": "stream",
     "text": [
      "      47/50         0G    0.04152      0.253     0.8698          7        640: 100%|██████████| 100/100 [11:04<00:00,  6.65s/it]\n",
      "                 Class     Images  Instances      Box(P          R      mAP50  mAP50-95): 100%|██████████| 13/13 [00:54<00:00,  4.21s/it]"
     ]
    },
    {
     "name": "stdout",
     "output_type": "stream",
     "text": [
      "                   all        399        378       0.86      0.906      0.945      0.944\n"
     ]
    },
    {
     "name": "stderr",
     "output_type": "stream",
     "text": [
      "\n"
     ]
    },
    {
     "name": "stdout",
     "output_type": "stream",
     "text": [
      "\n",
      "      Epoch    GPU_mem   box_loss   cls_loss   dfl_loss  Instances       Size\n"
     ]
    },
    {
     "name": "stderr",
     "output_type": "stream",
     "text": [
      "      48/50         0G    0.04051     0.2561     0.8618          8        640: 100%|██████████| 100/100 [11:06<00:00,  6.66s/it]\n",
      "                 Class     Images  Instances      Box(P          R      mAP50  mAP50-95): 100%|██████████| 13/13 [00:54<00:00,  4.23s/it]"
     ]
    },
    {
     "name": "stdout",
     "output_type": "stream",
     "text": [
      "                   all        399        378      0.898      0.894      0.948      0.948\n"
     ]
    },
    {
     "name": "stderr",
     "output_type": "stream",
     "text": [
      "\n"
     ]
    },
    {
     "name": "stdout",
     "output_type": "stream",
     "text": [
      "\n",
      "      Epoch    GPU_mem   box_loss   cls_loss   dfl_loss  Instances       Size\n"
     ]
    },
    {
     "name": "stderr",
     "output_type": "stream",
     "text": [
      "      49/50         0G    0.03764     0.2235     0.8623          8        640: 100%|██████████| 100/100 [8:11:32<00:00, 294.93s/it]    \n",
      "                 Class     Images  Instances      Box(P          R      mAP50  mAP50-95): 100%|██████████| 13/13 [00:45<00:00,  3.50s/it]"
     ]
    },
    {
     "name": "stdout",
     "output_type": "stream",
     "text": [
      "                   all        399        378      0.897       0.89      0.948      0.948\n"
     ]
    },
    {
     "name": "stderr",
     "output_type": "stream",
     "text": [
      "\n"
     ]
    },
    {
     "name": "stdout",
     "output_type": "stream",
     "text": [
      "\n",
      "      Epoch    GPU_mem   box_loss   cls_loss   dfl_loss  Instances       Size\n"
     ]
    },
    {
     "name": "stderr",
     "output_type": "stream",
     "text": [
      "      50/50         0G    0.03615     0.2093     0.8687          8        640: 100%|██████████| 100/100 [08:49<00:00,  5.30s/it]\n",
      "                 Class     Images  Instances      Box(P          R      mAP50  mAP50-95): 100%|██████████| 13/13 [00:42<00:00,  3.29s/it]"
     ]
    },
    {
     "name": "stdout",
     "output_type": "stream",
     "text": [
      "                   all        399        378      0.915      0.889      0.952      0.951\n"
     ]
    },
    {
     "name": "stderr",
     "output_type": "stream",
     "text": [
      "\n"
     ]
    },
    {
     "name": "stdout",
     "output_type": "stream",
     "text": [
      "\n",
      "50 epochs completed in 20.143 hours.\n",
      "Optimizer stripped from runs\\detect\\train\\weights\\last.pt, 5.6MB\n",
      "Optimizer stripped from runs\\detect\\train\\weights\\best.pt, 5.6MB\n",
      "\n",
      "Validating runs\\detect\\train\\weights\\best.pt...\n",
      "Ultralytics 8.3.9  Python-3.8.20 torch-2.4.1+cpu CPU (AMD Ryzen 7 5825U with Radeon Graphics)\n",
      "Model summary (fused): 186 layers, 2,685,343 parameters, 0 gradients, 6.8 GFLOPs\n"
     ]
    },
    {
     "name": "stderr",
     "output_type": "stream",
     "text": [
      "                 Class     Images  Instances      Box(P          R      mAP50  mAP50-95): 100%|██████████| 13/13 [00:35<00:00,  2.76s/it]\n"
     ]
    },
    {
     "name": "stdout",
     "output_type": "stream",
     "text": [
      "                   all        399        378      0.915      0.888      0.952      0.951\n",
      "              Straight         90         90      0.953      0.906       0.96       0.96\n",
      "                  Wavy         60         60      0.894      0.867      0.941      0.941\n",
      "                 Curly         97         97      0.876      0.872      0.941      0.941\n",
      "                 Kinky         43         43      0.873      0.837      0.932      0.929\n",
      "            Dreadlocks         88         88      0.977       0.96      0.986      0.986\n",
      "Speed: 2.0ms preprocess, 78.3ms inference, 0.0ms loss, 0.3ms postprocess per image\n",
      "Results saved to \u001b[1mruns\\detect\\train\u001b[0m\n",
      "Ultralytics 8.3.9  Python-3.8.20 torch-2.4.1+cpu CPU (AMD Ryzen 7 5825U with Radeon Graphics)\n",
      "Model summary (fused): 186 layers, 2,685,343 parameters, 0 gradients, 6.8 GFLOPs\n",
      "\n",
      "\u001b[34m\u001b[1mPyTorch:\u001b[0m starting from 'runs\\detect\\train\\weights\\best.pt' with input shape (1, 3, 640, 640) BCHW and output shape(s) (1, 9, 8400) (5.3 MB)\n",
      "\n",
      "\u001b[34m\u001b[1mTorchScript:\u001b[0m starting export with torch 2.4.1+cpu...\n",
      "\u001b[34m\u001b[1mTorchScript:\u001b[0m export success  1.8s, saved as 'runs\\detect\\train\\weights\\best.torchscript' (10.7 MB)\n",
      "\n",
      "Export complete (2.1s)\n",
      "Results saved to \u001b[1mD:\\Hair Style Detection\\runs\\detect\\train\\weights\u001b[0m\n",
      "Predict:         yolo predict task=detect model=runs\\detect\\train\\weights\\best.torchscript imgsz=640  \n",
      "Validate:        yolo val task=detect model=runs\\detect\\train\\weights\\best.torchscript imgsz=640 data=D:/Hair Style Detection/hair_type.yaml  \n",
      "Visualize:       https://netron.app\n",
      "Ultralytics 8.3.9  Python-3.8.20 torch-2.4.1+cpu CPU (AMD Ryzen 7 5825U with Radeon Graphics)\n",
      "Model summary (fused): 186 layers, 2,685,343 parameters, 0 gradients, 6.8 GFLOPs\n",
      "\n",
      "\u001b[34m\u001b[1mPyTorch:\u001b[0m starting from 'runs\\detect\\train\\weights\\best.pt' with input shape (1, 3, 640, 640) BCHW and output shape(s) (1, 9, 8400) (5.3 MB)\n",
      "\u001b[31m\u001b[1mrequirements:\u001b[0m Ultralytics requirements ['onnx>=1.12.0', 'onnxslim==0.1.34', 'onnxruntime'] not found, attempting AutoUpdate...\n",
      "Collecting onnx>=1.12.0\n",
      "  Downloading onnx-1.17.0-cp38-cp38-win_amd64.whl.metadata (16 kB)\n",
      "Collecting onnxslim==0.1.34\n",
      "  Downloading onnxslim-0.1.34-py3-none-any.whl.metadata (2.7 kB)\n",
      "Collecting onnxruntime\n",
      "  Downloading onnxruntime-1.19.2-cp38-cp38-win_amd64.whl.metadata (4.7 kB)\n",
      "Requirement already satisfied: sympy in c:\\users\\pc\\anaconda3\\envs\\hsd\\lib\\site-packages (from onnxslim==0.1.34) (1.13.3)\n",
      "Requirement already satisfied: packaging in c:\\users\\pc\\anaconda3\\envs\\hsd\\lib\\site-packages (from onnxslim==0.1.34) (24.1)\n",
      "Requirement already satisfied: numpy>=1.20 in c:\\users\\pc\\anaconda3\\envs\\hsd\\lib\\site-packages (from onnx>=1.12.0) (1.24.4)\n",
      "Collecting protobuf>=3.20.2 (from onnx>=1.12.0)\n",
      "  Downloading protobuf-5.28.2-cp38-cp38-win_amd64.whl.metadata (592 bytes)\n",
      "Collecting coloredlogs (from onnxruntime)\n",
      "  Downloading coloredlogs-15.0.1-py2.py3-none-any.whl.metadata (12 kB)\n",
      "Collecting flatbuffers (from onnxruntime)\n",
      "  Downloading flatbuffers-24.3.25-py2.py3-none-any.whl.metadata (850 bytes)\n",
      "Collecting humanfriendly>=9.1 (from coloredlogs->onnxruntime)\n",
      "  Downloading humanfriendly-10.0-py2.py3-none-any.whl.metadata (9.2 kB)\n",
      "Requirement already satisfied: mpmath<1.4,>=1.1.0 in c:\\users\\pc\\anaconda3\\envs\\hsd\\lib\\site-packages (from sympy->onnxslim==0.1.34) (1.3.0)\n",
      "Collecting pyreadline3 (from humanfriendly>=9.1->coloredlogs->onnxruntime)\n",
      "  Downloading pyreadline3-3.5.4-py3-none-any.whl.metadata (4.7 kB)\n",
      "Downloading onnxslim-0.1.34-py3-none-any.whl (140 kB)\n",
      "Downloading onnx-1.17.0-cp38-cp38-win_amd64.whl (14.5 MB)\n",
      "   ---------------------------------------- 14.5/14.5 MB 2.4 MB/s eta 0:00:00\n",
      "Downloading onnxruntime-1.19.2-cp38-cp38-win_amd64.whl (11.1 MB)\n",
      "   ---------------------------------------- 11.1/11.1 MB 2.4 MB/s eta 0:00:00\n",
      "Downloading protobuf-5.28.2-cp38-cp38-win_amd64.whl (431 kB)\n",
      "Downloading coloredlogs-15.0.1-py2.py3-none-any.whl (46 kB)\n",
      "Downloading flatbuffers-24.3.25-py2.py3-none-any.whl (26 kB)\n",
      "Downloading humanfriendly-10.0-py2.py3-none-any.whl (86 kB)\n",
      "Downloading pyreadline3-3.5.4-py3-none-any.whl (83 kB)\n",
      "Installing collected packages: flatbuffers, pyreadline3, protobuf, onnx, humanfriendly, onnxslim, coloredlogs, onnxruntime\n",
      "Successfully installed coloredlogs-15.0.1 flatbuffers-24.3.25 humanfriendly-10.0 onnx-1.17.0 onnxruntime-1.19.2 onnxslim-0.1.34 protobuf-5.28.2 pyreadline3-3.5.4\n",
      "\n",
      "\u001b[31m\u001b[1mrequirements:\u001b[0m AutoUpdate success  21.9s, installed 3 packages: ['onnx>=1.12.0', 'onnxslim==0.1.34', 'onnxruntime']\n",
      "\u001b[31m\u001b[1mrequirements:\u001b[0m  \u001b[1mRestart runtime or rerun command for updates to take effect\u001b[0m\n",
      "\n",
      "\n",
      "\u001b[34m\u001b[1mONNX:\u001b[0m starting export with onnx 1.17.0 opset 19...\n",
      "\u001b[34m\u001b[1mONNX:\u001b[0m slimming with onnxslim 0.1.34...\n",
      "\u001b[34m\u001b[1mONNX:\u001b[0m export success  23.1s, saved as 'runs\\detect\\train\\weights\\best.onnx' (10.5 MB)\n",
      "\n",
      "Export complete (23.4s)\n",
      "Results saved to \u001b[1mD:\\Hair Style Detection\\runs\\detect\\train\\weights\u001b[0m\n",
      "Predict:         yolo predict task=detect model=runs\\detect\\train\\weights\\best.onnx imgsz=640  \n",
      "Validate:        yolo val task=detect model=runs\\detect\\train\\weights\\best.onnx imgsz=640 data=D:/Hair Style Detection/hair_type.yaml  \n",
      "Visualize:       https://netron.app\n",
      "Model has been trained and exported successfully!\n"
     ]
    }
   ],
   "source": [
    "# Import YOLOv8\n",
    "from ultralytics import YOLO\n",
    "\n",
    "# Load the YOLO model (pretrained on COCO dataset)\n",
    "model = YOLO(\"yolov8n.pt\")  # You can change to a larger model (e.g., yolov8s.pt) if needed\n",
    "\n",
    "# Use the absolute path for the YAML file\n",
    "yaml_path = \"D:/Hair Style Detection/hair_type.yaml\"\n",
    "\n",
    "# Train the model using the dataset defined in hair_type.yaml\n",
    "results = model.train(data=yaml_path, epochs=50, imgsz=640)\n",
    "\n",
    "# Save the best weights after training is completed\n",
    "model.export(format=\"torchscript\")  # Exports the best model in torchscript format\n",
    "model.export(format=\"onnx\")  # You can also export it to ONNX format if required\n",
    "\n",
    "print(\"Model has been trained and exported successfully!\")"
   ]
  },
  {
   "cell_type": "code",
   "execution_count": null,
   "metadata": {},
   "outputs": [],
   "source": []
  }
 ],
 "metadata": {
  "kernelspec": {
   "display_name": "hsd",
   "language": "python",
   "name": "python3"
  },
  "language_info": {
   "codemirror_mode": {
    "name": "ipython",
    "version": 3
   },
   "file_extension": ".py",
   "mimetype": "text/x-python",
   "name": "python",
   "nbconvert_exporter": "python",
   "pygments_lexer": "ipython3",
   "version": "3.8.20"
  }
 },
 "nbformat": 4,
 "nbformat_minor": 2
}
